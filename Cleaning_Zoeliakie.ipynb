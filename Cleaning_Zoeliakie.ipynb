{
 "cells": [
  {
   "cell_type": "markdown",
   "id": "67fd2735",
   "metadata": {},
   "source": [
    "# Data Cleaning"
   ]
  },
  {
   "cell_type": "markdown",
   "id": "d9e5710a",
   "metadata": {},
   "source": [
    "This is just performed on a fraction of the data, because I am due to receive the whole file further down the line. However, the patterns and formating issues, as this is a list of restaurants and their addresses and details, is unlikely to change. Hence, once I have regex'd and cleaned this data, I can just run it over whole file."
   ]
  },
  {
   "cell_type": "markdown",
   "id": "f6a322da",
   "metadata": {},
   "source": [
    "The idea of this exercise is, that I will build a dashboard for the charity, for free, so that they can visualise the data on a geo map, done on plotly."
   ]
  },
  {
   "cell_type": "code",
   "execution_count": 73,
   "id": "84ebcad9-15fb-48f9-a61a-85793a8da670",
   "metadata": {},
   "outputs": [],
   "source": [
    "# Importing libraries\n",
    "import pandas as pd\n",
    "import numpy as np\n",
    "import matplotlib.pyplot as plt\n",
    "import seaborn as sns\n",
    "import re\n",
    "from datetime import datetime"
   ]
  },
  {
   "cell_type": "markdown",
   "id": "abbcff81",
   "metadata": {},
   "source": [
    "## Import CSV"
   ]
  },
  {
   "cell_type": "code",
   "execution_count": 2,
   "id": "b34a4390",
   "metadata": {},
   "outputs": [
    {
     "data": {
      "text/html": [
       "<div>\n",
       "<style scoped>\n",
       "    .dataframe tbody tr th:only-of-type {\n",
       "        vertical-align: middle;\n",
       "    }\n",
       "\n",
       "    .dataframe tbody tr th {\n",
       "        vertical-align: top;\n",
       "    }\n",
       "\n",
       "    .dataframe thead th {\n",
       "        text-align: right;\n",
       "    }\n",
       "</style>\n",
       "<table border=\"1\" class=\"dataframe\">\n",
       "  <thead>\n",
       "    <tr style=\"text-align: right;\">\n",
       "      <th></th>\n",
       "      <th>0</th>\n",
       "      <th>1</th>\n",
       "      <th>2</th>\n",
       "      <th>3</th>\n",
       "      <th>4</th>\n",
       "      <th>5</th>\n",
       "      <th>6</th>\n",
       "    </tr>\n",
       "  </thead>\n",
       "  <tbody>\n",
       "    <tr>\n",
       "      <th>0</th>\n",
       "      <td>Unsere Gastronomiemitglieder haben mit uns ein...</td>\n",
       "      <td>NaN</td>\n",
       "      <td>NaN</td>\n",
       "      <td>NaN</td>\n",
       "      <td>NaN</td>\n",
       "      <td>NaN</td>\n",
       "      <td>NaN</td>\n",
       "    </tr>\n",
       "    <tr>\n",
       "      <th>1</th>\n",
       "      <td>8001</td>\n",
       "      <td>Restaurant Au Gratin</td>\n",
       "      <td>Bahnhofplatz 2\\n8001 Zürich</td>\n",
       "      <td>www.augratin.ch</td>\n",
       "      <td>044 221 38 00 \\ninfo@newszh.ch</td>\n",
       "      <td>Unsere glutenfreien Gerichte sind auf der Spei...</td>\n",
       "      <td>NaN</td>\n",
       "    </tr>\n",
       "    <tr>\n",
       "      <th>2</th>\n",
       "      <td>8001</td>\n",
       "      <td>Haus Hiltl</td>\n",
       "      <td>Sihlstrasse 28\\n8001 Zürich</td>\n",
       "      <td>www.hiltl.ch</td>\n",
       "      <td>044 227 70 00\\ninfo@hiltl.ch</td>\n",
       "      <td>Hiltl, das bekannteste vegetarische Restaurant...</td>\n",
       "      <td>NaN</td>\n",
       "    </tr>\n",
       "  </tbody>\n",
       "</table>\n",
       "</div>"
      ],
      "text/plain": [
       "                                                   0                     1  \\\n",
       "0  Unsere Gastronomiemitglieder haben mit uns ein...                   NaN   \n",
       "1                                               8001  Restaurant Au Gratin   \n",
       "2                                               8001            Haus Hiltl   \n",
       "\n",
       "                             2                3  \\\n",
       "0                          NaN              NaN   \n",
       "1  Bahnhofplatz 2\\n8001 Zürich  www.augratin.ch   \n",
       "2  Sihlstrasse 28\\n8001 Zürich     www.hiltl.ch   \n",
       "\n",
       "                                4  \\\n",
       "0                             NaN   \n",
       "1  044 221 38 00 \\ninfo@newszh.ch   \n",
       "2    044 227 70 00\\ninfo@hiltl.ch   \n",
       "\n",
       "                                                   5   6  \n",
       "0                                                NaN NaN  \n",
       "1  Unsere glutenfreien Gerichte sind auf der Spei... NaN  \n",
       "2  Hiltl, das bekannteste vegetarische Restaurant... NaN  "
      ]
     },
     "execution_count": 2,
     "metadata": {},
     "output_type": "execute_result"
    }
   ],
   "source": [
    "# Read csv while removing header as no header in original file\n",
    "df = pd.read_csv('zuerich_csv.csv',header=None)\n",
    "df.head(3)"
   ]
  },
  {
   "cell_type": "markdown",
   "id": "7ebc2e78",
   "metadata": {},
   "source": [
    "## EDA"
   ]
  },
  {
   "cell_type": "code",
   "execution_count": 3,
   "id": "7ecb6b70",
   "metadata": {},
   "outputs": [
    {
     "data": {
      "text/html": [
       "<div>\n",
       "<style scoped>\n",
       "    .dataframe tbody tr th:only-of-type {\n",
       "        vertical-align: middle;\n",
       "    }\n",
       "\n",
       "    .dataframe tbody tr th {\n",
       "        vertical-align: top;\n",
       "    }\n",
       "\n",
       "    .dataframe thead th {\n",
       "        text-align: right;\n",
       "    }\n",
       "</style>\n",
       "<table border=\"1\" class=\"dataframe\">\n",
       "  <thead>\n",
       "    <tr style=\"text-align: right;\">\n",
       "      <th></th>\n",
       "      <th>0</th>\n",
       "      <th>1</th>\n",
       "      <th>2</th>\n",
       "      <th>3</th>\n",
       "      <th>4</th>\n",
       "      <th>5</th>\n",
       "      <th>6</th>\n",
       "    </tr>\n",
       "  </thead>\n",
       "  <tbody>\n",
       "    <tr>\n",
       "      <th>0</th>\n",
       "      <td>Unsere Gastronomiemitglieder haben mit uns ein...</td>\n",
       "      <td>NaN</td>\n",
       "      <td>NaN</td>\n",
       "      <td>NaN</td>\n",
       "      <td>NaN</td>\n",
       "      <td>NaN</td>\n",
       "      <td>NaN</td>\n",
       "    </tr>\n",
       "  </tbody>\n",
       "</table>\n",
       "</div>"
      ],
      "text/plain": [
       "                                                   0    1    2    3    4    5  \\\n",
       "0  Unsere Gastronomiemitglieder haben mit uns ein...  NaN  NaN  NaN  NaN  NaN   \n",
       "\n",
       "    6  \n",
       "0 NaN  "
      ]
     },
     "execution_count": 3,
     "metadata": {},
     "output_type": "execute_result"
    }
   ],
   "source": [
    "df.head(1)"
   ]
  },
  {
   "cell_type": "code",
   "execution_count": 4,
   "id": "8b4cb26f",
   "metadata": {},
   "outputs": [
    {
     "data": {
      "text/html": [
       "<div>\n",
       "<style scoped>\n",
       "    .dataframe tbody tr th:only-of-type {\n",
       "        vertical-align: middle;\n",
       "    }\n",
       "\n",
       "    .dataframe tbody tr th {\n",
       "        vertical-align: top;\n",
       "    }\n",
       "\n",
       "    .dataframe thead th {\n",
       "        text-align: right;\n",
       "    }\n",
       "</style>\n",
       "<table border=\"1\" class=\"dataframe\">\n",
       "  <thead>\n",
       "    <tr style=\"text-align: right;\">\n",
       "      <th></th>\n",
       "      <th>0</th>\n",
       "      <th>1</th>\n",
       "      <th>2</th>\n",
       "      <th>3</th>\n",
       "      <th>4</th>\n",
       "      <th>5</th>\n",
       "      <th>6</th>\n",
       "    </tr>\n",
       "  </thead>\n",
       "  <tbody>\n",
       "    <tr>\n",
       "      <th>1</th>\n",
       "      <td>8001</td>\n",
       "      <td>Restaurant Au Gratin</td>\n",
       "      <td>Bahnhofplatz 2\\n8001 Zürich</td>\n",
       "      <td>www.augratin.ch</td>\n",
       "      <td>044 221 38 00 \\ninfo@newszh.ch</td>\n",
       "      <td>Unsere glutenfreien Gerichte sind auf der Spei...</td>\n",
       "      <td>NaN</td>\n",
       "    </tr>\n",
       "    <tr>\n",
       "      <th>2</th>\n",
       "      <td>8001</td>\n",
       "      <td>Haus Hiltl</td>\n",
       "      <td>Sihlstrasse 28\\n8001 Zürich</td>\n",
       "      <td>www.hiltl.ch</td>\n",
       "      <td>044 227 70 00\\ninfo@hiltl.ch</td>\n",
       "      <td>Hiltl, das bekannteste vegetarische Restaurant...</td>\n",
       "      <td>NaN</td>\n",
       "    </tr>\n",
       "    <tr>\n",
       "      <th>3</th>\n",
       "      <td>8001</td>\n",
       "      <td>Kunsthausrestaurant\\n(Remimag AG)</td>\n",
       "      <td>Heimplatz 1\\n8001 Zürich</td>\n",
       "      <td>www.kunsthausrestaurant.ch</td>\n",
       "      <td>044 251 53 53\\nkunsthausrestaurant@\\nremimag.ch</td>\n",
       "      <td>Genauso kunterbunt wie die Kunst im nahegelege...</td>\n",
       "      <td>NaN</td>\n",
       "    </tr>\n",
       "    <tr>\n",
       "      <th>4</th>\n",
       "      <td>8001</td>\n",
       "      <td>Hitzberger Fastfood natürlich\\nHauptbahnhof Zü...</td>\n",
       "      <td>Take Away Passage Bahnhofstrasse Zürich Shop-V...</td>\n",
       "      <td>www.hitzberger.ch</td>\n",
       "      <td>044 212 37 20 \\n\\n</td>\n",
       "      <td>Das Schnellverpflegungskonzept Hitzberger – Fa...</td>\n",
       "      <td>NaN</td>\n",
       "    </tr>\n",
       "    <tr>\n",
       "      <th>5</th>\n",
       "      <td>8005</td>\n",
       "      <td>SamSeS Vegetarisches Restaurant</td>\n",
       "      <td>Langstrasse 231\\n8005 Zürich</td>\n",
       "      <td>www.samses.ch</td>\n",
       "      <td>044 440 13 13</td>\n",
       "      <td>Bei uns geniessen Sie gefüllte Ravioli, Gnocch...</td>\n",
       "      <td>NaN</td>\n",
       "    </tr>\n",
       "  </tbody>\n",
       "</table>\n",
       "</div>"
      ],
      "text/plain": [
       "      0                                                  1  \\\n",
       "1  8001                               Restaurant Au Gratin   \n",
       "2  8001                                         Haus Hiltl   \n",
       "3  8001                  Kunsthausrestaurant\\n(Remimag AG)   \n",
       "4  8001  Hitzberger Fastfood natürlich\\nHauptbahnhof Zü...   \n",
       "5  8005                    SamSeS Vegetarisches Restaurant   \n",
       "\n",
       "                                                   2  \\\n",
       "1                        Bahnhofplatz 2\\n8001 Zürich   \n",
       "2                        Sihlstrasse 28\\n8001 Zürich   \n",
       "3                           Heimplatz 1\\n8001 Zürich   \n",
       "4  Take Away Passage Bahnhofstrasse Zürich Shop-V...   \n",
       "5                       Langstrasse 231\\n8005 Zürich   \n",
       "\n",
       "                            3  \\\n",
       "1             www.augratin.ch   \n",
       "2                www.hiltl.ch   \n",
       "3  www.kunsthausrestaurant.ch   \n",
       "4           www.hitzberger.ch   \n",
       "5               www.samses.ch   \n",
       "\n",
       "                                                 4  \\\n",
       "1                   044 221 38 00 \\ninfo@newszh.ch   \n",
       "2                     044 227 70 00\\ninfo@hiltl.ch   \n",
       "3  044 251 53 53\\nkunsthausrestaurant@\\nremimag.ch   \n",
       "4                               044 212 37 20 \\n\\n   \n",
       "5                                    044 440 13 13   \n",
       "\n",
       "                                                   5   6  \n",
       "1  Unsere glutenfreien Gerichte sind auf der Spei... NaN  \n",
       "2  Hiltl, das bekannteste vegetarische Restaurant... NaN  \n",
       "3  Genauso kunterbunt wie die Kunst im nahegelege... NaN  \n",
       "4  Das Schnellverpflegungskonzept Hitzberger – Fa... NaN  \n",
       "5  Bei uns geniessen Sie gefüllte Ravioli, Gnocch... NaN  "
      ]
     },
     "execution_count": 4,
     "metadata": {},
     "output_type": "execute_result"
    }
   ],
   "source": [
    "# Drop first row as description and NaN only\n",
    "df = df.drop(0)\n",
    "df.head()"
   ]
  },
  {
   "cell_type": "code",
   "execution_count": 5,
   "id": "aa296dcd",
   "metadata": {},
   "outputs": [
    {
     "name": "stdout",
     "output_type": "stream",
     "text": [
      "<class 'pandas.core.frame.DataFrame'>\n",
      "Int64Index: 15 entries, 1 to 15\n",
      "Data columns (total 7 columns):\n",
      " #   Column  Non-Null Count  Dtype  \n",
      "---  ------  --------------  -----  \n",
      " 0   0       15 non-null     object \n",
      " 1   1       15 non-null     object \n",
      " 2   2       15 non-null     object \n",
      " 3   3       15 non-null     object \n",
      " 4   4       15 non-null     object \n",
      " 5   5       15 non-null     object \n",
      " 6   6       0 non-null      float64\n",
      "dtypes: float64(1), object(6)\n",
      "memory usage: 960.0+ bytes\n"
     ]
    }
   ],
   "source": [
    "df.info()"
   ]
  },
  {
   "cell_type": "code",
   "execution_count": 6,
   "id": "080600e1",
   "metadata": {},
   "outputs": [
    {
     "data": {
      "text/plain": [
       "' Please remove ## if you want to save visualisation to your computer'"
      ]
     },
     "execution_count": 6,
     "metadata": {},
     "output_type": "execute_result"
    },
    {
     "data": {
      "image/png": "[encoded data removed]",
      "text/plain": [
       "<Figure size 1296x576 with 2 Axes>"
      ]
     },
     "metadata": {
      "needs_background": "light"
     },
     "output_type": "display_data"
    }
   ],
   "source": [
    "plt.figure(figsize=(18,8))\n",
    "\n",
    "# Labelling chart\n",
    "plt.title('Visualisation of Missing Data per column', fontsize = 34.0, color='Purple', fontstyle='italic')\n",
    "\n",
    "#Plotting and labelling colour bar\n",
    "sns.heatmap(df.isnull(),cmap=sns.color_palette(\"blend:purple,orange\", as_cmap=True), \n",
    "            cbar_kws={'label': '% of Missing Data'},annot_kws={'size':16});\n",
    "\n",
    "plt.xlabel('Variable Names')\n",
    "plt.ylabel('Observations')\n",
    "\n",
    "' Please remove ## if you want to save visualisation to your computer'\n",
    "# Saving as image and pdf\n",
    "##plt.savefig('Vis_Missing_Data_per_column.png',dpi=100)\n",
    "##plt.savefig('Visualisation of Missing Data per column.pdf')"
   ]
  },
  {
   "cell_type": "code",
   "execution_count": 7,
   "id": "b329828b",
   "metadata": {},
   "outputs": [
    {
     "data": {
      "text/html": [
       "<div>\n",
       "<style scoped>\n",
       "    .dataframe tbody tr th:only-of-type {\n",
       "        vertical-align: middle;\n",
       "    }\n",
       "\n",
       "    .dataframe tbody tr th {\n",
       "        vertical-align: top;\n",
       "    }\n",
       "\n",
       "    .dataframe thead th {\n",
       "        text-align: right;\n",
       "    }\n",
       "</style>\n",
       "<table border=\"1\" class=\"dataframe\">\n",
       "  <thead>\n",
       "    <tr style=\"text-align: right;\">\n",
       "      <th></th>\n",
       "      <th>0</th>\n",
       "      <th>1</th>\n",
       "      <th>2</th>\n",
       "      <th>3</th>\n",
       "      <th>4</th>\n",
       "      <th>5</th>\n",
       "    </tr>\n",
       "  </thead>\n",
       "  <tbody>\n",
       "    <tr>\n",
       "      <th>1</th>\n",
       "      <td>8001</td>\n",
       "      <td>Restaurant Au Gratin</td>\n",
       "      <td>Bahnhofplatz 2\\n8001 Zürich</td>\n",
       "      <td>www.augratin.ch</td>\n",
       "      <td>044 221 38 00 \\ninfo@newszh.ch</td>\n",
       "      <td>Unsere glutenfreien Gerichte sind auf der Spei...</td>\n",
       "    </tr>\n",
       "    <tr>\n",
       "      <th>2</th>\n",
       "      <td>8001</td>\n",
       "      <td>Haus Hiltl</td>\n",
       "      <td>Sihlstrasse 28\\n8001 Zürich</td>\n",
       "      <td>www.hiltl.ch</td>\n",
       "      <td>044 227 70 00\\ninfo@hiltl.ch</td>\n",
       "      <td>Hiltl, das bekannteste vegetarische Restaurant...</td>\n",
       "    </tr>\n",
       "    <tr>\n",
       "      <th>3</th>\n",
       "      <td>8001</td>\n",
       "      <td>Kunsthausrestaurant\\n(Remimag AG)</td>\n",
       "      <td>Heimplatz 1\\n8001 Zürich</td>\n",
       "      <td>www.kunsthausrestaurant.ch</td>\n",
       "      <td>044 251 53 53\\nkunsthausrestaurant@\\nremimag.ch</td>\n",
       "      <td>Genauso kunterbunt wie die Kunst im nahegelege...</td>\n",
       "    </tr>\n",
       "    <tr>\n",
       "      <th>4</th>\n",
       "      <td>8001</td>\n",
       "      <td>Hitzberger Fastfood natürlich\\nHauptbahnhof Zü...</td>\n",
       "      <td>Take Away Passage Bahnhofstrasse Zürich Shop-V...</td>\n",
       "      <td>www.hitzberger.ch</td>\n",
       "      <td>044 212 37 20 \\n\\n</td>\n",
       "      <td>Das Schnellverpflegungskonzept Hitzberger – Fa...</td>\n",
       "    </tr>\n",
       "    <tr>\n",
       "      <th>5</th>\n",
       "      <td>8005</td>\n",
       "      <td>SamSeS Vegetarisches Restaurant</td>\n",
       "      <td>Langstrasse 231\\n8005 Zürich</td>\n",
       "      <td>www.samses.ch</td>\n",
       "      <td>044 440 13 13</td>\n",
       "      <td>Bei uns geniessen Sie gefüllte Ravioli, Gnocch...</td>\n",
       "    </tr>\n",
       "  </tbody>\n",
       "</table>\n",
       "</div>"
      ],
      "text/plain": [
       "      0                                                  1  \\\n",
       "1  8001                               Restaurant Au Gratin   \n",
       "2  8001                                         Haus Hiltl   \n",
       "3  8001                  Kunsthausrestaurant\\n(Remimag AG)   \n",
       "4  8001  Hitzberger Fastfood natürlich\\nHauptbahnhof Zü...   \n",
       "5  8005                    SamSeS Vegetarisches Restaurant   \n",
       "\n",
       "                                                   2  \\\n",
       "1                        Bahnhofplatz 2\\n8001 Zürich   \n",
       "2                        Sihlstrasse 28\\n8001 Zürich   \n",
       "3                           Heimplatz 1\\n8001 Zürich   \n",
       "4  Take Away Passage Bahnhofstrasse Zürich Shop-V...   \n",
       "5                       Langstrasse 231\\n8005 Zürich   \n",
       "\n",
       "                            3  \\\n",
       "1             www.augratin.ch   \n",
       "2                www.hiltl.ch   \n",
       "3  www.kunsthausrestaurant.ch   \n",
       "4           www.hitzberger.ch   \n",
       "5               www.samses.ch   \n",
       "\n",
       "                                                 4  \\\n",
       "1                   044 221 38 00 \\ninfo@newszh.ch   \n",
       "2                     044 227 70 00\\ninfo@hiltl.ch   \n",
       "3  044 251 53 53\\nkunsthausrestaurant@\\nremimag.ch   \n",
       "4                               044 212 37 20 \\n\\n   \n",
       "5                                    044 440 13 13   \n",
       "\n",
       "                                                   5  \n",
       "1  Unsere glutenfreien Gerichte sind auf der Spei...  \n",
       "2  Hiltl, das bekannteste vegetarische Restaurant...  \n",
       "3  Genauso kunterbunt wie die Kunst im nahegelege...  \n",
       "4  Das Schnellverpflegungskonzept Hitzberger – Fa...  \n",
       "5  Bei uns geniessen Sie gefüllte Ravioli, Gnocch...  "
      ]
     },
     "execution_count": 7,
     "metadata": {},
     "output_type": "execute_result"
    }
   ],
   "source": [
    "# Drop column 6 as it is empty\n",
    "df.drop([6], axis=1,inplace=True)\n",
    "df.head()"
   ]
  },
  {
   "cell_type": "code",
   "execution_count": 8,
   "id": "cfee1bb8",
   "metadata": {},
   "outputs": [],
   "source": [
    "# Rename all columns\n",
    "df.rename(columns = {0:'plz',1:'restaurant',2:'adresse',\n",
    "                    3:'web',4:'kontakt',5:'beschreibung'},\n",
    "          inplace=True)\n",
    "\n",
    "#df.head()\n"
   ]
  },
  {
   "cell_type": "code",
   "execution_count": 9,
   "id": "bad6df40",
   "metadata": {},
   "outputs": [
    {
     "data": {
      "text/plain": [
       "plz             15\n",
       "restaurant      15\n",
       "adresse         15\n",
       "web             15\n",
       "kontakt         15\n",
       "beschreibung    15\n",
       "dtype: int64"
      ]
     },
     "execution_count": 9,
     "metadata": {},
     "output_type": "execute_result"
    }
   ],
   "source": [
    "# Verify number of empty cells\n",
    "df.count()"
   ]
  },
  {
   "cell_type": "code",
   "execution_count": 10,
   "id": "d4b7bdd8",
   "metadata": {},
   "outputs": [],
   "source": [
    "# Creating a copy of my df to clean up columns with Regex\n",
    "mdf = df.copy()"
   ]
  },
  {
   "cell_type": "code",
   "execution_count": 11,
   "id": "d4e555de",
   "metadata": {},
   "outputs": [
    {
     "data": {
      "text/html": [
       "<div>\n",
       "<style scoped>\n",
       "    .dataframe tbody tr th:only-of-type {\n",
       "        vertical-align: middle;\n",
       "    }\n",
       "\n",
       "    .dataframe tbody tr th {\n",
       "        vertical-align: top;\n",
       "    }\n",
       "\n",
       "    .dataframe thead th {\n",
       "        text-align: right;\n",
       "    }\n",
       "</style>\n",
       "<table border=\"1\" class=\"dataframe\">\n",
       "  <thead>\n",
       "    <tr style=\"text-align: right;\">\n",
       "      <th></th>\n",
       "      <th>plz</th>\n",
       "      <th>restaurant</th>\n",
       "      <th>adresse</th>\n",
       "      <th>web</th>\n",
       "      <th>kontakt</th>\n",
       "      <th>beschreibung</th>\n",
       "    </tr>\n",
       "  </thead>\n",
       "  <tbody>\n",
       "    <tr>\n",
       "      <th>1</th>\n",
       "      <td>8001</td>\n",
       "      <td>Restaurant Au Gratin</td>\n",
       "      <td>Bahnhofplatz 2\\n8001 Zürich</td>\n",
       "      <td>www.augratin.ch</td>\n",
       "      <td>044 221 38 00 \\ninfo@newszh.ch</td>\n",
       "      <td>Unsere glutenfreien Gerichte sind auf der Spei...</td>\n",
       "    </tr>\n",
       "    <tr>\n",
       "      <th>2</th>\n",
       "      <td>8001</td>\n",
       "      <td>Haus Hiltl</td>\n",
       "      <td>Sihlstrasse 28\\n8001 Zürich</td>\n",
       "      <td>www.hiltl.ch</td>\n",
       "      <td>044 227 70 00\\ninfo@hiltl.ch</td>\n",
       "      <td>Hiltl, das bekannteste vegetarische Restaurant...</td>\n",
       "    </tr>\n",
       "    <tr>\n",
       "      <th>3</th>\n",
       "      <td>8001</td>\n",
       "      <td>Kunsthausrestaurant\\n(Remimag AG)</td>\n",
       "      <td>Heimplatz 1\\n8001 Zürich</td>\n",
       "      <td>www.kunsthausrestaurant.ch</td>\n",
       "      <td>044 251 53 53\\nkunsthausrestaurant@\\nremimag.ch</td>\n",
       "      <td>Genauso kunterbunt wie die Kunst im nahegelege...</td>\n",
       "    </tr>\n",
       "    <tr>\n",
       "      <th>4</th>\n",
       "      <td>8001</td>\n",
       "      <td>Hitzberger Fastfood natürlich\\nHauptbahnhof Zü...</td>\n",
       "      <td>Take Away Passage Bahnhofstrasse Zürich Shop-V...</td>\n",
       "      <td>www.hitzberger.ch</td>\n",
       "      <td>044 212 37 20 \\n\\n</td>\n",
       "      <td>Das Schnellverpflegungskonzept Hitzberger – Fa...</td>\n",
       "    </tr>\n",
       "    <tr>\n",
       "      <th>5</th>\n",
       "      <td>8005</td>\n",
       "      <td>SamSeS Vegetarisches Restaurant</td>\n",
       "      <td>Langstrasse 231\\n8005 Zürich</td>\n",
       "      <td>www.samses.ch</td>\n",
       "      <td>044 440 13 13</td>\n",
       "      <td>Bei uns geniessen Sie gefüllte Ravioli, Gnocch...</td>\n",
       "    </tr>\n",
       "  </tbody>\n",
       "</table>\n",
       "</div>"
      ],
      "text/plain": [
       "    plz                                         restaurant  \\\n",
       "1  8001                               Restaurant Au Gratin   \n",
       "2  8001                                         Haus Hiltl   \n",
       "3  8001                  Kunsthausrestaurant\\n(Remimag AG)   \n",
       "4  8001  Hitzberger Fastfood natürlich\\nHauptbahnhof Zü...   \n",
       "5  8005                    SamSeS Vegetarisches Restaurant   \n",
       "\n",
       "                                             adresse  \\\n",
       "1                        Bahnhofplatz 2\\n8001 Zürich   \n",
       "2                        Sihlstrasse 28\\n8001 Zürich   \n",
       "3                           Heimplatz 1\\n8001 Zürich   \n",
       "4  Take Away Passage Bahnhofstrasse Zürich Shop-V...   \n",
       "5                       Langstrasse 231\\n8005 Zürich   \n",
       "\n",
       "                          web  \\\n",
       "1             www.augratin.ch   \n",
       "2                www.hiltl.ch   \n",
       "3  www.kunsthausrestaurant.ch   \n",
       "4           www.hitzberger.ch   \n",
       "5               www.samses.ch   \n",
       "\n",
       "                                           kontakt  \\\n",
       "1                   044 221 38 00 \\ninfo@newszh.ch   \n",
       "2                     044 227 70 00\\ninfo@hiltl.ch   \n",
       "3  044 251 53 53\\nkunsthausrestaurant@\\nremimag.ch   \n",
       "4                               044 212 37 20 \\n\\n   \n",
       "5                                    044 440 13 13   \n",
       "\n",
       "                                        beschreibung  \n",
       "1  Unsere glutenfreien Gerichte sind auf der Spei...  \n",
       "2  Hiltl, das bekannteste vegetarische Restaurant...  \n",
       "3  Genauso kunterbunt wie die Kunst im nahegelege...  \n",
       "4  Das Schnellverpflegungskonzept Hitzberger – Fa...  \n",
       "5  Bei uns geniessen Sie gefüllte Ravioli, Gnocch...  "
      ]
     },
     "execution_count": 11,
     "metadata": {},
     "output_type": "execute_result"
    }
   ],
   "source": [
    "df.head()"
   ]
  },
  {
   "cell_type": "code",
   "execution_count": 12,
   "id": "cb253cda",
   "metadata": {},
   "outputs": [],
   "source": [
    "# Set option to display all characters within a column\n",
    "pd.set_option('display.max_colwidth', None)"
   ]
  },
  {
   "cell_type": "code",
   "execution_count": 13,
   "id": "8d47c22d",
   "metadata": {},
   "outputs": [
    {
     "data": {
      "text/html": [
       "<div>\n",
       "<style scoped>\n",
       "    .dataframe tbody tr th:only-of-type {\n",
       "        vertical-align: middle;\n",
       "    }\n",
       "\n",
       "    .dataframe tbody tr th {\n",
       "        vertical-align: top;\n",
       "    }\n",
       "\n",
       "    .dataframe thead th {\n",
       "        text-align: right;\n",
       "    }\n",
       "</style>\n",
       "<table border=\"1\" class=\"dataframe\">\n",
       "  <thead>\n",
       "    <tr style=\"text-align: right;\">\n",
       "      <th></th>\n",
       "      <th>adresse</th>\n",
       "    </tr>\n",
       "  </thead>\n",
       "  <tbody>\n",
       "    <tr>\n",
       "      <th>4</th>\n",
       "      <td>Take Away Passage Bahnhofstrasse Zürich Shop-Ville Zürich Hauptbahnhof</td>\n",
       "    </tr>\n",
       "  </tbody>\n",
       "</table>\n",
       "</div>"
      ],
      "text/plain": [
       "                                                                  adresse\n",
       "4  Take Away Passage Bahnhofstrasse Zürich Shop-Ville Zürich Hauptbahnhof"
      ]
     },
     "execution_count": 13,
     "metadata": {},
     "output_type": "execute_result"
    }
   ],
   "source": [
    "# Verify it worked\n",
    "mdf[['adresse']].iloc[[3]]"
   ]
  },
  {
   "cell_type": "code",
   "execution_count": 14,
   "id": "a4ecff88",
   "metadata": {},
   "outputs": [
    {
     "data": {
      "text/html": [
       "<div>\n",
       "<style scoped>\n",
       "    .dataframe tbody tr th:only-of-type {\n",
       "        vertical-align: middle;\n",
       "    }\n",
       "\n",
       "    .dataframe tbody tr th {\n",
       "        vertical-align: top;\n",
       "    }\n",
       "\n",
       "    .dataframe thead th {\n",
       "        text-align: right;\n",
       "    }\n",
       "</style>\n",
       "<table border=\"1\" class=\"dataframe\">\n",
       "  <thead>\n",
       "    <tr style=\"text-align: right;\">\n",
       "      <th></th>\n",
       "      <th>plz</th>\n",
       "      <th>restaurant</th>\n",
       "      <th>adresse</th>\n",
       "      <th>web</th>\n",
       "      <th>kontakt</th>\n",
       "      <th>beschreibung</th>\n",
       "    </tr>\n",
       "  </thead>\n",
       "  <tbody>\n",
       "    <tr>\n",
       "      <th>1</th>\n",
       "      <td>8001</td>\n",
       "      <td>Restaurant Au Gratin</td>\n",
       "      <td>Bahnhofplatz 2\\n8001 Zürich</td>\n",
       "      <td>www.augratin.ch</td>\n",
       "      <td>044 221 38 00 \\ninfo@newszh.ch</td>\n",
       "      <td>Unsere glutenfreien Gerichte sind auf der Speisekarte\\ngekennzeichnet. Sie brauchen keine Spezialkarte zu\\nverlangen. Auf unserer Homepage www.augratin.ch können\\nSie die Gerichte anschauen. Dabei sehen Sie, dass wir eine\\ngrosse Auswahl an glutenfreien Gerichten anbieten.</td>\n",
       "    </tr>\n",
       "  </tbody>\n",
       "</table>\n",
       "</div>"
      ],
      "text/plain": [
       "    plz            restaurant                      adresse              web  \\\n",
       "1  8001  Restaurant Au Gratin  Bahnhofplatz 2\\n8001 Zürich  www.augratin.ch   \n",
       "\n",
       "                          kontakt  \\\n",
       "1  044 221 38 00 \\ninfo@newszh.ch   \n",
       "\n",
       "                                                                                                                                                                                                                                                                        beschreibung  \n",
       "1  Unsere glutenfreien Gerichte sind auf der Speisekarte\\ngekennzeichnet. Sie brauchen keine Spezialkarte zu\\nverlangen. Auf unserer Homepage www.augratin.ch können\\nSie die Gerichte anschauen. Dabei sehen Sie, dass wir eine\\ngrosse Auswahl an glutenfreien Gerichten anbieten.  "
      ]
     },
     "execution_count": 14,
     "metadata": {},
     "output_type": "execute_result"
    }
   ],
   "source": [
    "df.head(1)"
   ]
  },
  {
   "cell_type": "code",
   "execution_count": 15,
   "id": "34442a87",
   "metadata": {},
   "outputs": [
    {
     "data": {
      "text/plain": [
       "Index(['plz', 'restaurant', 'adresse', 'web', 'kontakt', 'beschreibung'], dtype='object')"
      ]
     },
     "execution_count": 15,
     "metadata": {},
     "output_type": "execute_result"
    }
   ],
   "source": [
    "df.columns"
   ]
  },
  {
   "cell_type": "code",
   "execution_count": 16,
   "id": "10ff1aa3",
   "metadata": {},
   "outputs": [],
   "source": [
    "# Replace all new line breaks (\\n) with a space\n",
    "df = mdf.replace(r'\\n',' ', regex=True)"
   ]
  },
  {
   "cell_type": "code",
   "execution_count": 17,
   "id": "290ab41d",
   "metadata": {},
   "outputs": [
    {
     "data": {
      "text/html": [
       "<div>\n",
       "<style scoped>\n",
       "    .dataframe tbody tr th:only-of-type {\n",
       "        vertical-align: middle;\n",
       "    }\n",
       "\n",
       "    .dataframe tbody tr th {\n",
       "        vertical-align: top;\n",
       "    }\n",
       "\n",
       "    .dataframe thead th {\n",
       "        text-align: right;\n",
       "    }\n",
       "</style>\n",
       "<table border=\"1\" class=\"dataframe\">\n",
       "  <thead>\n",
       "    <tr style=\"text-align: right;\">\n",
       "      <th></th>\n",
       "      <th>plz</th>\n",
       "      <th>restaurant</th>\n",
       "      <th>adresse</th>\n",
       "      <th>web</th>\n",
       "      <th>kontakt</th>\n",
       "      <th>beschreibung</th>\n",
       "    </tr>\n",
       "  </thead>\n",
       "  <tbody>\n",
       "    <tr>\n",
       "      <th>1</th>\n",
       "      <td>8001</td>\n",
       "      <td>Restaurant Au Gratin</td>\n",
       "      <td>Bahnhofplatz 2 8001 Zürich</td>\n",
       "      <td>www.augratin.ch</td>\n",
       "      <td>044 221 38 00  info@newszh.ch</td>\n",
       "      <td>Unsere glutenfreien Gerichte sind auf der Speisekarte gekennzeichnet. Sie brauchen keine Spezialkarte zu verlangen. Auf unserer Homepage www.augratin.ch können Sie die Gerichte anschauen. Dabei sehen Sie, dass wir eine grosse Auswahl an glutenfreien Gerichten anbieten.</td>\n",
       "    </tr>\n",
       "  </tbody>\n",
       "</table>\n",
       "</div>"
      ],
      "text/plain": [
       "    plz            restaurant                     adresse              web  \\\n",
       "1  8001  Restaurant Au Gratin  Bahnhofplatz 2 8001 Zürich  www.augratin.ch   \n",
       "\n",
       "                         kontakt  \\\n",
       "1  044 221 38 00  info@newszh.ch   \n",
       "\n",
       "                                                                                                                                                                                                                                                                    beschreibung  \n",
       "1  Unsere glutenfreien Gerichte sind auf der Speisekarte gekennzeichnet. Sie brauchen keine Spezialkarte zu verlangen. Auf unserer Homepage www.augratin.ch können Sie die Gerichte anschauen. Dabei sehen Sie, dass wir eine grosse Auswahl an glutenfreien Gerichten anbieten.  "
      ]
     },
     "execution_count": 17,
     "metadata": {},
     "output_type": "execute_result"
    }
   ],
   "source": [
    "df.head(1)"
   ]
  },
  {
   "cell_type": "code",
   "execution_count": 18,
   "id": "d2687278",
   "metadata": {},
   "outputs": [],
   "source": [
    "# Replace all Zürich with a space\n",
    "df['adresse'] = df['adresse'].replace(r'Zürich',' ', regex=True)"
   ]
  },
  {
   "cell_type": "code",
   "execution_count": 19,
   "id": "db51b3f4",
   "metadata": {},
   "outputs": [
    {
     "data": {
      "text/html": [
       "<div>\n",
       "<style scoped>\n",
       "    .dataframe tbody tr th:only-of-type {\n",
       "        vertical-align: middle;\n",
       "    }\n",
       "\n",
       "    .dataframe tbody tr th {\n",
       "        vertical-align: top;\n",
       "    }\n",
       "\n",
       "    .dataframe thead th {\n",
       "        text-align: right;\n",
       "    }\n",
       "</style>\n",
       "<table border=\"1\" class=\"dataframe\">\n",
       "  <thead>\n",
       "    <tr style=\"text-align: right;\">\n",
       "      <th></th>\n",
       "      <th>plz</th>\n",
       "      <th>restaurant</th>\n",
       "      <th>adresse</th>\n",
       "      <th>web</th>\n",
       "      <th>kontakt</th>\n",
       "      <th>beschreibung</th>\n",
       "    </tr>\n",
       "  </thead>\n",
       "  <tbody>\n",
       "    <tr>\n",
       "      <th>1</th>\n",
       "      <td>8001</td>\n",
       "      <td>Restaurant Au Gratin</td>\n",
       "      <td>Bahnhofplatz 2 8001</td>\n",
       "      <td>www.augratin.ch</td>\n",
       "      <td>044 221 38 00  info@newszh.ch</td>\n",
       "      <td>Unsere glutenfreien Gerichte sind auf der Speisekarte gekennzeichnet. Sie brauchen keine Spezialkarte zu verlangen. Auf unserer Homepage www.augratin.ch können Sie die Gerichte anschauen. Dabei sehen Sie, dass wir eine grosse Auswahl an glutenfreien Gerichten anbieten.</td>\n",
       "    </tr>\n",
       "  </tbody>\n",
       "</table>\n",
       "</div>"
      ],
      "text/plain": [
       "    plz            restaurant                adresse              web  \\\n",
       "1  8001  Restaurant Au Gratin  Bahnhofplatz 2 8001    www.augratin.ch   \n",
       "\n",
       "                         kontakt  \\\n",
       "1  044 221 38 00  info@newszh.ch   \n",
       "\n",
       "                                                                                                                                                                                                                                                                    beschreibung  \n",
       "1  Unsere glutenfreien Gerichte sind auf der Speisekarte gekennzeichnet. Sie brauchen keine Spezialkarte zu verlangen. Auf unserer Homepage www.augratin.ch können Sie die Gerichte anschauen. Dabei sehen Sie, dass wir eine grosse Auswahl an glutenfreien Gerichten anbieten.  "
      ]
     },
     "execution_count": 19,
     "metadata": {},
     "output_type": "execute_result"
    }
   ],
   "source": [
    "df.head(1)"
   ]
  },
  {
   "cell_type": "code",
   "execution_count": 20,
   "id": "af3313de",
   "metadata": {},
   "outputs": [],
   "source": [
    "# Replace 4 digits (postcode) in the address with a blank\n",
    "df['adresse'] = df.adresse.replace({'\\d{4}':''}, regex=True)"
   ]
  },
  {
   "cell_type": "code",
   "execution_count": 21,
   "id": "13582c40",
   "metadata": {},
   "outputs": [
    {
     "data": {
      "text/html": [
       "<div>\n",
       "<style scoped>\n",
       "    .dataframe tbody tr th:only-of-type {\n",
       "        vertical-align: middle;\n",
       "    }\n",
       "\n",
       "    .dataframe tbody tr th {\n",
       "        vertical-align: top;\n",
       "    }\n",
       "\n",
       "    .dataframe thead th {\n",
       "        text-align: right;\n",
       "    }\n",
       "</style>\n",
       "<table border=\"1\" class=\"dataframe\">\n",
       "  <thead>\n",
       "    <tr style=\"text-align: right;\">\n",
       "      <th></th>\n",
       "      <th>plz</th>\n",
       "      <th>restaurant</th>\n",
       "      <th>adresse</th>\n",
       "      <th>web</th>\n",
       "      <th>kontakt</th>\n",
       "      <th>beschreibung</th>\n",
       "    </tr>\n",
       "  </thead>\n",
       "  <tbody>\n",
       "    <tr>\n",
       "      <th>5</th>\n",
       "      <td>8005</td>\n",
       "      <td>SamSeS Vegetarisches Restaurant</td>\n",
       "      <td>Langstrasse 231</td>\n",
       "      <td>www.samses.ch</td>\n",
       "      <td>044 440 13 13</td>\n",
       "      <td>Bei uns geniessen Sie gefüllte Ravioli, Gnocchi, Brot, verschiedene Gerichte am Buffet, Salate, Vorspeisen, Hauptgerichte. Als Dessert bieten wir Schokoladen Kuchen, Eis, Panna Cotta, Mousse, Cheescake.</td>\n",
       "    </tr>\n",
       "    <tr>\n",
       "      <th>11</th>\n",
       "      <td>8032</td>\n",
       "      <td>Design Hotel Plattenhof  &amp; Restaurant Sento</td>\n",
       "      <td>bergstrasse 19</td>\n",
       "      <td>www.sento.ch</td>\n",
       "      <td>044 251 19 10 restaurant@sento.ch</td>\n",
       "      <td>Das Angebot umfasst verschiedene glutenfreie Fisch- und Fleischgerichte, Salate (z.B. Pouletsalat), glutenfreie Teigwaren und glutenfreies Brot. Das Personal ist bestens informiert. Bitte die Details jeweils bei der Bestellung besprechen.</td>\n",
       "    </tr>\n",
       "    <tr>\n",
       "      <th>7</th>\n",
       "      <td>8005</td>\n",
       "      <td>Restaurant Don Weber</td>\n",
       "      <td>Heinrichstrasse 213</td>\n",
       "      <td>www.donweber.ch</td>\n",
       "      <td>044 272 05 40 info@donweber.ch</td>\n",
       "      <td>Wir haben eine gut gekennzeichnete spezielle gluten- &amp; laktosefreie Speisekarte, die Sie gerne bei unseren Don’s &amp; Doñas verlangen können. Unsere mexikanischen Klassiker wie Nachos, Fajitas &amp; Burritos, sowie unsere verschiedenen Burgers sind der Renner. Nicht zu vergessen unser gluten- &amp; laktosefreies warmes Schoggiküchlein zum Abschluss – der Traum jedes Allergiker’s. Im Angebot ist immer mind. 1 glutenfreies Bier welches optimal zu einem Bistec de Carne, Mexican Pollo oder Surf Ajillo passt.</td>\n",
       "    </tr>\n",
       "    <tr>\n",
       "      <th>14</th>\n",
       "      <td>8050</td>\n",
       "      <td>Telepizza Zürich Oerlikon</td>\n",
       "      <td>Dörflistrasse 117</td>\n",
       "      <td>www.telepizza.ch</td>\n",
       "      <td>Zentrale 0844 33 33 33 Tel. direkt: 043 300 60 30</td>\n",
       "      <td>Wir bieten glutenfreie Pizzen in unseren verschiedenen Filialen an z.B. Pizza Margherita, Salami und Hawai. Dazu reichen wir Ihnen gerne ein glutenfreies Bier. Bei den Desserts haben Sie eine Auswahl aus einzelverpackten Produkten.</td>\n",
       "    </tr>\n",
       "    <tr>\n",
       "      <th>6</th>\n",
       "      <td>8005</td>\n",
       "      <td>Hitzberger Fastfood  Zürich Puls 5</td>\n",
       "      <td>Giessereistrasse 18</td>\n",
       "      <td>www.hitzberger.ch</td>\n",
       "      <td>044 271 24 00</td>\n",
       "      <td>Das Schnellverpflegungskonzept Hitzberger – Fastfood natürlich bietet an folgenden Standorten ein Sortiment an glutenfreien Salaten, Curries, Suppen, Smoothies und Säften sowie Desserts (die glutenfreien Angebote sind entsprechend gekennzeichnet).</td>\n",
       "    </tr>\n",
       "  </tbody>\n",
       "</table>\n",
       "</div>"
      ],
      "text/plain": [
       "     plz                                   restaurant                 adresse  \\\n",
       "5   8005              SamSeS Vegetarisches Restaurant      Langstrasse 231      \n",
       "11  8032  Design Hotel Plattenhof  & Restaurant Sento       bergstrasse 19      \n",
       "7   8005                         Restaurant Don Weber  Heinrichstrasse 213      \n",
       "14  8050                    Telepizza Zürich Oerlikon    Dörflistrasse 117      \n",
       "6   8005           Hitzberger Fastfood  Zürich Puls 5  Giessereistrasse 18      \n",
       "\n",
       "                  web                                            kontakt  \\\n",
       "5       www.samses.ch                                      044 440 13 13   \n",
       "11       www.sento.ch                  044 251 19 10 restaurant@sento.ch   \n",
       "7     www.donweber.ch                     044 272 05 40 info@donweber.ch   \n",
       "14   www.telepizza.ch  Zentrale 0844 33 33 33 Tel. direkt: 043 300 60 30   \n",
       "6   www.hitzberger.ch                                     044 271 24 00    \n",
       "\n",
       "                                                                                                                                                                                                                                                                                                                                                                                                                                                                                                          beschreibung  \n",
       "5                                                                                                                                                                                                                                                                                                           Bei uns geniessen Sie gefüllte Ravioli, Gnocchi, Brot, verschiedene Gerichte am Buffet, Salate, Vorspeisen, Hauptgerichte. Als Dessert bieten wir Schokoladen Kuchen, Eis, Panna Cotta, Mousse, Cheescake.  \n",
       "11                                                                                                                                                                                                                                                                      Das Angebot umfasst verschiedene glutenfreie Fisch- und Fleischgerichte, Salate (z.B. Pouletsalat), glutenfreie Teigwaren und glutenfreies Brot. Das Personal ist bestens informiert. Bitte die Details jeweils bei der Bestellung besprechen.  \n",
       "7   Wir haben eine gut gekennzeichnete spezielle gluten- & laktosefreie Speisekarte, die Sie gerne bei unseren Don’s & Doñas verlangen können. Unsere mexikanischen Klassiker wie Nachos, Fajitas & Burritos, sowie unsere verschiedenen Burgers sind der Renner. Nicht zu vergessen unser gluten- & laktosefreies warmes Schoggiküchlein zum Abschluss – der Traum jedes Allergiker’s. Im Angebot ist immer mind. 1 glutenfreies Bier welches optimal zu einem Bistec de Carne, Mexican Pollo oder Surf Ajillo passt.  \n",
       "14                                                                                                                                                                                                                                                                            Wir bieten glutenfreie Pizzen in unseren verschiedenen Filialen an z.B. Pizza Margherita, Salami und Hawai. Dazu reichen wir Ihnen gerne ein glutenfreies Bier. Bei den Desserts haben Sie eine Auswahl aus einzelverpackten Produkten.   \n",
       "6                                                                                                                                                                                                                                                              Das Schnellverpflegungskonzept Hitzberger – Fastfood natürlich bietet an folgenden Standorten ein Sortiment an glutenfreien Salaten, Curries, Suppen, Smoothies und Säften sowie Desserts (die glutenfreien Angebote sind entsprechend gekennzeichnet).  "
      ]
     },
     "execution_count": 21,
     "metadata": {},
     "output_type": "execute_result"
    }
   ],
   "source": [
    "# Check data for a sample of 1/3 of the data\n",
    "df.sample(frac=.33)"
   ]
  },
  {
   "cell_type": "code",
   "execution_count": 22,
   "id": "f921415c",
   "metadata": {},
   "outputs": [
    {
     "name": "stdout",
     "output_type": "stream",
     "text": [
      "<class 'pandas.core.frame.DataFrame'>\n",
      "Int64Index: 15 entries, 1 to 15\n",
      "Data columns (total 6 columns):\n",
      " #   Column        Non-Null Count  Dtype \n",
      "---  ------        --------------  ----- \n",
      " 0   plz           15 non-null     object\n",
      " 1   restaurant    15 non-null     object\n",
      " 2   adresse       15 non-null     object\n",
      " 3   web           15 non-null     object\n",
      " 4   kontakt       15 non-null     object\n",
      " 5   beschreibung  15 non-null     object\n",
      "dtypes: object(6)\n",
      "memory usage: 840.0+ bytes\n"
     ]
    }
   ],
   "source": [
    "df.info()"
   ]
  },
  {
   "cell_type": "markdown",
   "id": "1b41d99f",
   "metadata": {},
   "source": [
    "### Tidy up 'adresse' column to contain only street and number"
   ]
  },
  {
   "cell_type": "code",
   "execution_count": 23,
   "id": "e471877d",
   "metadata": {},
   "outputs": [
    {
     "data": {
      "text/html": [
       "<div>\n",
       "<style scoped>\n",
       "    .dataframe tbody tr th:only-of-type {\n",
       "        vertical-align: middle;\n",
       "    }\n",
       "\n",
       "    .dataframe tbody tr th {\n",
       "        vertical-align: top;\n",
       "    }\n",
       "\n",
       "    .dataframe thead th {\n",
       "        text-align: right;\n",
       "    }\n",
       "</style>\n",
       "<table border=\"1\" class=\"dataframe\">\n",
       "  <thead>\n",
       "    <tr style=\"text-align: right;\">\n",
       "      <th></th>\n",
       "      <th>plz</th>\n",
       "      <th>restaurant</th>\n",
       "      <th>adresse</th>\n",
       "      <th>web</th>\n",
       "      <th>kontakt</th>\n",
       "      <th>beschreibung</th>\n",
       "    </tr>\n",
       "  </thead>\n",
       "  <tbody>\n",
       "    <tr>\n",
       "      <th>1</th>\n",
       "      <td>8001</td>\n",
       "      <td>Restaurant Au Gratin</td>\n",
       "      <td>Bahnhofplatz 2</td>\n",
       "      <td>www.augratin.ch</td>\n",
       "      <td>044 221 38 00  info@newszh.ch</td>\n",
       "      <td>Unsere glutenfreien Gerichte sind auf der Speisekarte gekennzeichnet. Sie brauchen keine Spezialkarte zu verlangen. Auf unserer Homepage www.augratin.ch können Sie die Gerichte anschauen. Dabei sehen Sie, dass wir eine grosse Auswahl an glutenfreien Gerichten anbieten.</td>\n",
       "    </tr>\n",
       "    <tr>\n",
       "      <th>3</th>\n",
       "      <td>8001</td>\n",
       "      <td>Kunsthausrestaurant (Remimag AG)</td>\n",
       "      <td>Heimplatz 1</td>\n",
       "      <td>www.kunsthausrestaurant.ch</td>\n",
       "      <td>044 251 53 53 kunsthausrestaurant@ remimag.ch</td>\n",
       "      <td>Genauso kunterbunt wie die Kunst im nahegelegenen Kunsthaus, zeigt sich auch die Gästeschar im Restaurant und das Speiseangebot der Küche. Geprägt wird das alles von einer gelungenen Symbiose zwischen traditionellen und mediterranen Einflüssen. Das Speiseangebot umfasst mittags und abends während den Servicezeiten immer glutenfreie Produkte, unabhängig ob Suppe, Vorspeise oder Hauptgang. Die glutenfreie Pasta kann ganztags bestellt werden und ist über den hauseigenen Mercato auch für daheim erhältlich.</td>\n",
       "    </tr>\n",
       "    <tr>\n",
       "      <th>8</th>\n",
       "      <td>8005</td>\n",
       "      <td>Menu &amp; More AG</td>\n",
       "      <td>Sihlquai 340</td>\n",
       "      <td>www.menuandmore.ch</td>\n",
       "      <td>044 448 26 11 info@menuandmore.ch</td>\n",
       "      <td>Wir bieten Horten und Krippen verschiedene glutenfreie Menükomponenten, die als glutenfrei deklariert sind. Zusätzlich bieten wir als Zusatzsortiment 23 laktose- und glutenfreie Produkte als Einzelportionen verpackt, an (Eiweisskomponenten inkl. Vegi, Saucen, Stärkebeilagen). Bestellung der Mahlzeiten bis 4 Arbeitstage vor dem Menüdatum empfehlenswert.</td>\n",
       "    </tr>\n",
       "    <tr>\n",
       "      <th>13</th>\n",
       "      <td>8045</td>\n",
       "      <td>Hitzberger Fastfood  Zürich Sihlcity</td>\n",
       "      <td>Sihlcity Mall Mitte (Ebene 0)</td>\n",
       "      <td>www.hitzberger.ch</td>\n",
       "      <td>044 201 34 00</td>\n",
       "      <td>Das Schnellverpflegungskonzept Hitzberger – Fastfood natürlich bietet an folgenden Standorten ein Sortiment an glutenfreien Salaten, Curries, Suppen, Smoothies und Säften sowie Desserts (die glutenfreien Angebote sind entsprechend gekennzeichnet).</td>\n",
       "    </tr>\n",
       "  </tbody>\n",
       "</table>\n",
       "</div>"
      ],
      "text/plain": [
       "     plz                            restaurant  \\\n",
       "1   8001                  Restaurant Au Gratin   \n",
       "3   8001      Kunsthausrestaurant (Remimag AG)   \n",
       "8   8005                        Menu & More AG   \n",
       "13  8045  Hitzberger Fastfood  Zürich Sihlcity   \n",
       "\n",
       "                             adresse                         web  \\\n",
       "1                  Bahnhofplatz 2                www.augratin.ch   \n",
       "3                     Heimplatz 1     www.kunsthausrestaurant.ch   \n",
       "8                    Sihlquai 340             www.menuandmore.ch   \n",
       "13  Sihlcity Mall Mitte (Ebene 0)              www.hitzberger.ch   \n",
       "\n",
       "                                          kontakt  \\\n",
       "1                   044 221 38 00  info@newszh.ch   \n",
       "3   044 251 53 53 kunsthausrestaurant@ remimag.ch   \n",
       "8               044 448 26 11 info@menuandmore.ch   \n",
       "13                                  044 201 34 00   \n",
       "\n",
       "                                                                                                                                                                                                                                                                                                                                                                                                                                                                                                                   beschreibung  \n",
       "1                                                                                                                                                                                                                                                 Unsere glutenfreien Gerichte sind auf der Speisekarte gekennzeichnet. Sie brauchen keine Spezialkarte zu verlangen. Auf unserer Homepage www.augratin.ch können Sie die Gerichte anschauen. Dabei sehen Sie, dass wir eine grosse Auswahl an glutenfreien Gerichten anbieten.  \n",
       "3   Genauso kunterbunt wie die Kunst im nahegelegenen Kunsthaus, zeigt sich auch die Gästeschar im Restaurant und das Speiseangebot der Küche. Geprägt wird das alles von einer gelungenen Symbiose zwischen traditionellen und mediterranen Einflüssen. Das Speiseangebot umfasst mittags und abends während den Servicezeiten immer glutenfreie Produkte, unabhängig ob Suppe, Vorspeise oder Hauptgang. Die glutenfreie Pasta kann ganztags bestellt werden und ist über den hauseigenen Mercato auch für daheim erhältlich.  \n",
       "8                                                                                                                                                            Wir bieten Horten und Krippen verschiedene glutenfreie Menükomponenten, die als glutenfrei deklariert sind. Zusätzlich bieten wir als Zusatzsortiment 23 laktose- und glutenfreie Produkte als Einzelportionen verpackt, an (Eiweisskomponenten inkl. Vegi, Saucen, Stärkebeilagen). Bestellung der Mahlzeiten bis 4 Arbeitstage vor dem Menüdatum empfehlenswert.  \n",
       "13                                                                                                                                                                                                                                                                      Das Schnellverpflegungskonzept Hitzberger – Fastfood natürlich bietet an folgenden Standorten ein Sortiment an glutenfreien Salaten, Curries, Suppen, Smoothies und Säften sowie Desserts (die glutenfreien Angebote sind entsprechend gekennzeichnet).  "
      ]
     },
     "execution_count": 23,
     "metadata": {},
     "output_type": "execute_result"
    }
   ],
   "source": [
    "# Find address columns not containing 'strasse'\n",
    "df_ns = df[~df['adresse'].str.contains('strasse')]\n",
    "df_ns"
   ]
  },
  {
   "cell_type": "code",
   "execution_count": 24,
   "id": "093022e6",
   "metadata": {},
   "outputs": [],
   "source": [
    "# Replace current text in row 13 with the address of the mall\n",
    "df.loc[13,'adresse'] = 'Kalandarplatz 1'"
   ]
  },
  {
   "cell_type": "code",
   "execution_count": 25,
   "id": "00f9be6e",
   "metadata": {},
   "outputs": [
    {
     "data": {
      "text/plain": [
       "'Kalandarplatz 1'"
      ]
     },
     "execution_count": 25,
     "metadata": {},
     "output_type": "execute_result"
    }
   ],
   "source": [
    "# Verify change\n",
    "df.loc[13,'adresse']"
   ]
  },
  {
   "cell_type": "code",
   "execution_count": 26,
   "id": "b946041e",
   "metadata": {},
   "outputs": [
    {
     "data": {
      "text/html": [
       "<div>\n",
       "<style scoped>\n",
       "    .dataframe tbody tr th:only-of-type {\n",
       "        vertical-align: middle;\n",
       "    }\n",
       "\n",
       "    .dataframe tbody tr th {\n",
       "        vertical-align: top;\n",
       "    }\n",
       "\n",
       "    .dataframe thead th {\n",
       "        text-align: right;\n",
       "    }\n",
       "</style>\n",
       "<table border=\"1\" class=\"dataframe\">\n",
       "  <thead>\n",
       "    <tr style=\"text-align: right;\">\n",
       "      <th></th>\n",
       "      <th>plz</th>\n",
       "      <th>restaurant</th>\n",
       "      <th>adresse</th>\n",
       "      <th>web</th>\n",
       "      <th>kontakt</th>\n",
       "      <th>beschreibung</th>\n",
       "    </tr>\n",
       "  </thead>\n",
       "  <tbody>\n",
       "    <tr>\n",
       "      <th>4</th>\n",
       "      <td>8001</td>\n",
       "      <td>Hitzberger Fastfood natürlich Hauptbahnhof Zürich</td>\n",
       "      <td>Take Away Passage Bahnhofstrasse   Shop-Ville   Hauptbahnhof</td>\n",
       "      <td>www.hitzberger.ch</td>\n",
       "      <td>044 212 37 20</td>\n",
       "      <td>Das Schnellverpflegungskonzept Hitzberger – Fastfood natürlich bietet an folgenden Standorten ein Sortiment an glutenfreien Salaten, Curries, Suppen, Smoothies und Säften sowie Desserts (die glutenfreien Angebote sind entsprechend gekennzeichnet).</td>\n",
       "    </tr>\n",
       "  </tbody>\n",
       "</table>\n",
       "</div>"
      ],
      "text/plain": [
       "    plz                                         restaurant  \\\n",
       "4  8001  Hitzberger Fastfood natürlich Hauptbahnhof Zürich   \n",
       "\n",
       "                                                        adresse  \\\n",
       "4  Take Away Passage Bahnhofstrasse   Shop-Ville   Hauptbahnhof   \n",
       "\n",
       "                 web           kontakt  \\\n",
       "4  www.hitzberger.ch  044 212 37 20      \n",
       "\n",
       "                                                                                                                                                                                                                                              beschreibung  \n",
       "4  Das Schnellverpflegungskonzept Hitzberger – Fastfood natürlich bietet an folgenden Standorten ein Sortiment an glutenfreien Salaten, Curries, Suppen, Smoothies und Säften sowie Desserts (die glutenfreien Angebote sind entsprechend gekennzeichnet).  "
      ]
     },
     "execution_count": 26,
     "metadata": {},
     "output_type": "execute_result"
    }
   ],
   "source": [
    "# Using regex to find adresse inputs without street numbers (digits) to avoid missing inputs that need correcting.\n",
    "df[~df['adresse'].str.contains('\\\\d', regex=True)]"
   ]
  },
  {
   "cell_type": "code",
   "execution_count": 27,
   "id": "5f6f5f09",
   "metadata": {},
   "outputs": [],
   "source": [
    "# Replace current text in row 4 with the address of the mall\n",
    "df.loc[4,'adresse'] = 'Museumstrasse 1'"
   ]
  },
  {
   "cell_type": "code",
   "execution_count": 28,
   "id": "38b2a2e8",
   "metadata": {},
   "outputs": [
    {
     "data": {
      "text/plain": [
       "'Museumstrasse 1'"
      ]
     },
     "execution_count": 28,
     "metadata": {},
     "output_type": "execute_result"
    }
   ],
   "source": [
    "df.loc[4, 'adresse']"
   ]
  },
  {
   "cell_type": "code",
   "execution_count": 29,
   "id": "f071cbc2",
   "metadata": {},
   "outputs": [
    {
     "data": {
      "text/plain": [
       "1             Bahnhofplatz 2   \n",
       "2             Sihlstrasse 28   \n",
       "3                Heimplatz 1   \n",
       "4               Museumstrasse 1\n",
       "5            Langstrasse 231   \n",
       "6        Giessereistrasse 18   \n",
       "7        Heinrichstrasse 213   \n",
       "8               Sihlquai 340   \n",
       "9        Beckenhofstrasse 24   \n",
       "10    Universitätsstrasse 91   \n",
       "11            bergstrasse 19   \n",
       "12      Uetlibergstrasse 341   \n",
       "13              Kalandarplatz 1\n",
       "14         Dörflistrasse 117   \n",
       "15      Hofwiesenstrasse 188   \n",
       "Name: adresse, dtype: object"
      ]
     },
     "execution_count": 29,
     "metadata": {},
     "output_type": "execute_result"
    }
   ],
   "source": [
    "# Looking at address column to verify formating\n",
    "df.adresse"
   ]
  },
  {
   "cell_type": "code",
   "execution_count": 30,
   "id": "0670642d",
   "metadata": {},
   "outputs": [
    {
     "data": {
      "text/plain": [
       "' bergstrasse 19   '"
      ]
     },
     "execution_count": 30,
     "metadata": {},
     "output_type": "execute_result"
    }
   ],
   "source": [
    "# Isolating index 11 to verify formating requirements\n",
    "df.loc[11,'adresse']"
   ]
  },
  {
   "cell_type": "code",
   "execution_count": 31,
   "id": "f1775ed0",
   "metadata": {},
   "outputs": [
    {
     "data": {
      "text/plain": [
       "'bergstrasse 19   '"
      ]
     },
     "execution_count": 31,
     "metadata": {},
     "output_type": "execute_result"
    }
   ],
   "source": [
    "' There are whitespaces at the beginning and at the end of the column, that need removing'\n",
    "# Remove leading whitespaces\n",
    "df['adresse'] = df['adresse'].str.lstrip()\n",
    "df.loc[11,'adresse']"
   ]
  },
  {
   "cell_type": "code",
   "execution_count": 32,
   "id": "0cf2cac0",
   "metadata": {},
   "outputs": [],
   "source": [
    "# Remove trailing whitespaces\n",
    "df['adresse'] = df['adresse'].str.rstrip()"
   ]
  },
  {
   "cell_type": "code",
   "execution_count": 33,
   "id": "d5b71085",
   "metadata": {},
   "outputs": [
    {
     "data": {
      "text/plain": [
       "'bergstrasse 19'"
      ]
     },
     "execution_count": 33,
     "metadata": {},
     "output_type": "execute_result"
    }
   ],
   "source": [
    "# Verifying if whitespace was removed\n",
    "df.loc[11,'adresse']"
   ]
  },
  {
   "cell_type": "code",
   "execution_count": 34,
   "id": "f13116cf",
   "metadata": {},
   "outputs": [
    {
     "data": {
      "text/plain": [
       "'bergstrasse 19'"
      ]
     },
     "execution_count": 34,
     "metadata": {},
     "output_type": "execute_result"
    }
   ],
   "source": [
    "# Saving changes to series\n",
    "df.loc[11, 'adresse'] = df.loc[11, 'adresse'].lstrip()\n",
    "df.loc[11,'adresse']"
   ]
  },
  {
   "cell_type": "code",
   "execution_count": 35,
   "id": "c97c56e7",
   "metadata": {},
   "outputs": [
    {
     "data": {
      "text/plain": [
       "11          Bergstrasse 19\n",
       "12    Uetlibergstrasse 341\n",
       "13         Kalandarplatz 1\n",
       "14       Dörflistrasse 117\n",
       "15    Hofwiesenstrasse 188\n",
       "Name: adresse, dtype: object"
      ]
     },
     "execution_count": 35,
     "metadata": {},
     "output_type": "execute_result"
    }
   ],
   "source": [
    "# Tidying up all street names to start in capital letters\n",
    "df['adresse'] = df['adresse'].str.capitalize()\n",
    "df['adresse'].tail()"
   ]
  },
  {
   "cell_type": "code",
   "execution_count": 36,
   "id": "abb0a294",
   "metadata": {},
   "outputs": [],
   "source": [
    "# Making a copy of df with clean address column\n",
    "\n",
    "df_clean_add = df.copy()"
   ]
  },
  {
   "cell_type": "markdown",
   "id": "b73baf4e",
   "metadata": {},
   "source": [
    "### Tidy up kontakt column (email)"
   ]
  },
  {
   "cell_type": "code",
   "execution_count": 37,
   "id": "52cf5f5e",
   "metadata": {},
   "outputs": [
    {
     "data": {
      "text/html": [
       "<div>\n",
       "<style scoped>\n",
       "    .dataframe tbody tr th:only-of-type {\n",
       "        vertical-align: middle;\n",
       "    }\n",
       "\n",
       "    .dataframe tbody tr th {\n",
       "        vertical-align: top;\n",
       "    }\n",
       "\n",
       "    .dataframe thead th {\n",
       "        text-align: right;\n",
       "    }\n",
       "</style>\n",
       "<table border=\"1\" class=\"dataframe\">\n",
       "  <thead>\n",
       "    <tr style=\"text-align: right;\">\n",
       "      <th></th>\n",
       "      <th>plz</th>\n",
       "      <th>restaurant</th>\n",
       "      <th>adresse</th>\n",
       "      <th>web</th>\n",
       "      <th>kontakt</th>\n",
       "      <th>beschreibung</th>\n",
       "    </tr>\n",
       "  </thead>\n",
       "  <tbody>\n",
       "    <tr>\n",
       "      <th>1</th>\n",
       "      <td>8001</td>\n",
       "      <td>Restaurant Au Gratin</td>\n",
       "      <td>Bahnhofplatz 2</td>\n",
       "      <td>www.augratin.ch</td>\n",
       "      <td>044 221 38 00  info@newszh.ch</td>\n",
       "      <td>Unsere glutenfreien Gerichte sind auf der Speisekarte gekennzeichnet. Sie brauchen keine Spezialkarte zu verlangen. Auf unserer Homepage www.augratin.ch können Sie die Gerichte anschauen. Dabei sehen Sie, dass wir eine grosse Auswahl an glutenfreien Gerichten anbieten.</td>\n",
       "    </tr>\n",
       "    <tr>\n",
       "      <th>2</th>\n",
       "      <td>8001</td>\n",
       "      <td>Haus Hiltl</td>\n",
       "      <td>Sihlstrasse 28</td>\n",
       "      <td>www.hiltl.ch</td>\n",
       "      <td>044 227 70 00 info@hiltl.ch</td>\n",
       "      <td>Hiltl, das bekannteste vegetarische Restaurant der Schweiz: Ob à la carte Gerichte oder Buffet, alle Speisen sind präzise deklariert und auf der Karte entsprechend gekennzeichnet. Glutenfreies Brot ist vorrätig.</td>\n",
       "    </tr>\n",
       "    <tr>\n",
       "      <th>3</th>\n",
       "      <td>8001</td>\n",
       "      <td>Kunsthausrestaurant (Remimag AG)</td>\n",
       "      <td>Heimplatz 1</td>\n",
       "      <td>www.kunsthausrestaurant.ch</td>\n",
       "      <td>044 251 53 53 kunsthausrestaurant@ remimag.ch</td>\n",
       "      <td>Genauso kunterbunt wie die Kunst im nahegelegenen Kunsthaus, zeigt sich auch die Gästeschar im Restaurant und das Speiseangebot der Küche. Geprägt wird das alles von einer gelungenen Symbiose zwischen traditionellen und mediterranen Einflüssen. Das Speiseangebot umfasst mittags und abends während den Servicezeiten immer glutenfreie Produkte, unabhängig ob Suppe, Vorspeise oder Hauptgang. Die glutenfreie Pasta kann ganztags bestellt werden und ist über den hauseigenen Mercato auch für daheim erhältlich.</td>\n",
       "    </tr>\n",
       "    <tr>\n",
       "      <th>4</th>\n",
       "      <td>8001</td>\n",
       "      <td>Hitzberger Fastfood natürlich Hauptbahnhof Zürich</td>\n",
       "      <td>Museumstrasse 1</td>\n",
       "      <td>www.hitzberger.ch</td>\n",
       "      <td>044 212 37 20</td>\n",
       "      <td>Das Schnellverpflegungskonzept Hitzberger – Fastfood natürlich bietet an folgenden Standorten ein Sortiment an glutenfreien Salaten, Curries, Suppen, Smoothies und Säften sowie Desserts (die glutenfreien Angebote sind entsprechend gekennzeichnet).</td>\n",
       "    </tr>\n",
       "    <tr>\n",
       "      <th>5</th>\n",
       "      <td>8005</td>\n",
       "      <td>SamSeS Vegetarisches Restaurant</td>\n",
       "      <td>Langstrasse 231</td>\n",
       "      <td>www.samses.ch</td>\n",
       "      <td>044 440 13 13</td>\n",
       "      <td>Bei uns geniessen Sie gefüllte Ravioli, Gnocchi, Brot, verschiedene Gerichte am Buffet, Salate, Vorspeisen, Hauptgerichte. Als Dessert bieten wir Schokoladen Kuchen, Eis, Panna Cotta, Mousse, Cheescake.</td>\n",
       "    </tr>\n",
       "  </tbody>\n",
       "</table>\n",
       "</div>"
      ],
      "text/plain": [
       "    plz                                         restaurant          adresse  \\\n",
       "1  8001                               Restaurant Au Gratin   Bahnhofplatz 2   \n",
       "2  8001                                         Haus Hiltl   Sihlstrasse 28   \n",
       "3  8001                   Kunsthausrestaurant (Remimag AG)      Heimplatz 1   \n",
       "4  8001  Hitzberger Fastfood natürlich Hauptbahnhof Zürich  Museumstrasse 1   \n",
       "5  8005                    SamSeS Vegetarisches Restaurant  Langstrasse 231   \n",
       "\n",
       "                          web                                        kontakt  \\\n",
       "1             www.augratin.ch                  044 221 38 00  info@newszh.ch   \n",
       "2                www.hiltl.ch                    044 227 70 00 info@hiltl.ch   \n",
       "3  www.kunsthausrestaurant.ch  044 251 53 53 kunsthausrestaurant@ remimag.ch   \n",
       "4           www.hitzberger.ch                               044 212 37 20      \n",
       "5               www.samses.ch                                  044 440 13 13   \n",
       "\n",
       "                                                                                                                                                                                                                                                                                                                                                                                                                                                                                                                  beschreibung  \n",
       "1                                                                                                                                                                                                                                                Unsere glutenfreien Gerichte sind auf der Speisekarte gekennzeichnet. Sie brauchen keine Spezialkarte zu verlangen. Auf unserer Homepage www.augratin.ch können Sie die Gerichte anschauen. Dabei sehen Sie, dass wir eine grosse Auswahl an glutenfreien Gerichten anbieten.  \n",
       "2                                                                                                                                                                                                                                                                                                          Hiltl, das bekannteste vegetarische Restaurant der Schweiz: Ob à la carte Gerichte oder Buffet, alle Speisen sind präzise deklariert und auf der Karte entsprechend gekennzeichnet. Glutenfreies Brot ist vorrätig.  \n",
       "3  Genauso kunterbunt wie die Kunst im nahegelegenen Kunsthaus, zeigt sich auch die Gästeschar im Restaurant und das Speiseangebot der Küche. Geprägt wird das alles von einer gelungenen Symbiose zwischen traditionellen und mediterranen Einflüssen. Das Speiseangebot umfasst mittags und abends während den Servicezeiten immer glutenfreie Produkte, unabhängig ob Suppe, Vorspeise oder Hauptgang. Die glutenfreie Pasta kann ganztags bestellt werden und ist über den hauseigenen Mercato auch für daheim erhältlich.  \n",
       "4                                                                                                                                                                                                                                                                      Das Schnellverpflegungskonzept Hitzberger – Fastfood natürlich bietet an folgenden Standorten ein Sortiment an glutenfreien Salaten, Curries, Suppen, Smoothies und Säften sowie Desserts (die glutenfreien Angebote sind entsprechend gekennzeichnet).  \n",
       "5                                                                                                                                                                                                                                                                                                                   Bei uns geniessen Sie gefüllte Ravioli, Gnocchi, Brot, verschiedene Gerichte am Buffet, Salate, Vorspeisen, Hauptgerichte. Als Dessert bieten wir Schokoladen Kuchen, Eis, Panna Cotta, Mousse, Cheescake.  "
      ]
     },
     "execution_count": 37,
     "metadata": {},
     "output_type": "execute_result"
    }
   ],
   "source": [
    "df.head()"
   ]
  },
  {
   "cell_type": "code",
   "execution_count": 38,
   "id": "a08ba337",
   "metadata": {},
   "outputs": [],
   "source": [
    "# Using regex find email addresses and create a list\n",
    "emails_ = re.findall('\\S+@\\S+',str(df['kontakt']))\n",
    "#len(emails_)"
   ]
  },
  {
   "cell_type": "code",
   "execution_count": 39,
   "id": "13343ede",
   "metadata": {},
   "outputs": [
    {
     "data": {
      "text/plain": [
       "['info@newszh.ch',\n",
       " 'info@hiltl.ch',\n",
       " 'info@donweber.ch',\n",
       " 'info@menuandmore.ch',\n",
       " 'info@miyuko.ch',\n",
       " 'linde@remimag.ch',\n",
       " 'restaurant@sento.ch',\n",
       " 'info@albisguetli.ch']"
      ]
     },
     "execution_count": 39,
     "metadata": {},
     "output_type": "execute_result"
    }
   ],
   "source": [
    "emails_"
   ]
  },
  {
   "cell_type": "code",
   "execution_count": 40,
   "id": "7d26de44",
   "metadata": {},
   "outputs": [
    {
     "data": {
      "text/plain": [
       "8"
      ]
     },
     "execution_count": 40,
     "metadata": {},
     "output_type": "execute_result"
    }
   ],
   "source": [
    "len(emails_)"
   ]
  },
  {
   "cell_type": "code",
   "execution_count": 41,
   "id": "19c94a69",
   "metadata": {},
   "outputs": [],
   "source": [
    "# Verify if regex pattern found all email address, in case there where whitespaces\n",
    "col_with_at = df[df['kontakt'].str.contains('@')]"
   ]
  },
  {
   "cell_type": "code",
   "execution_count": 42,
   "id": "c8665d65",
   "metadata": {},
   "outputs": [
    {
     "name": "stdout",
     "output_type": "stream",
     "text": [
      "The discrepancy between counting observations including an '@' and our regex approach is 1 .\n"
     ]
    }
   ],
   "source": [
    "print(\"The discrepancy between counting observations including an '@' and our regex approach is\", len(col_with_at) - len(emails_),\".\")"
   ]
  },
  {
   "cell_type": "code",
   "execution_count": 43,
   "id": "c3eb4248",
   "metadata": {},
   "outputs": [
    {
     "data": {
      "text/plain": [
       "False"
      ]
     },
     "execution_count": 43,
     "metadata": {},
     "output_type": "execute_result"
    }
   ],
   "source": [
    "check = any(email in col_with_at for email in emails_)\n",
    "check"
   ]
  },
  {
   "cell_type": "code",
   "execution_count": 44,
   "id": "27a34c12",
   "metadata": {},
   "outputs": [
    {
     "data": {
      "text/plain": [
       "['info@newszh.ch',\n",
       " 'info@hiltl.ch',\n",
       " 'info@donweber.ch',\n",
       " 'info@menuandmore.ch',\n",
       " 'info@miyuko.ch',\n",
       " 'linde@remimag.ch',\n",
       " 'restaurant@sento.ch',\n",
       " 'info@albisguetli.ch']"
      ]
     },
     "execution_count": 44,
     "metadata": {},
     "output_type": "execute_result"
    }
   ],
   "source": [
    "emails_"
   ]
  },
  {
   "cell_type": "code",
   "execution_count": 45,
   "id": "4e3e89a5",
   "metadata": {},
   "outputs": [
    {
     "data": {
      "text/plain": [
       "['044 221 38 00  info@newszh.ch',\n",
       " '044 227 70 00 info@hiltl.ch',\n",
       " '044 251 53 53 kunsthausrestaurant@ remimag.ch',\n",
       " '044 272 05 40 info@donweber.ch',\n",
       " '044 448 26 11 info@menuandmore.ch',\n",
       " '044 350 21 43 info@miyuko.ch',\n",
       " '044 362 21 09 linde@remimag.ch',\n",
       " '044 251 19 10 restaurant@sento.ch',\n",
       " '043 333 30 00 info@albisguetli.ch']"
      ]
     },
     "execution_count": 45,
     "metadata": {},
     "output_type": "execute_result"
    }
   ],
   "source": [
    "# Create list of observations in 'Kontakt' containing '@'\n",
    "contact_including_at = list(col_with_at['kontakt'])\n",
    "contact_including_at"
   ]
  },
  {
   "cell_type": "code",
   "execution_count": 46,
   "id": "49fa18d5",
   "metadata": {},
   "outputs": [
    {
     "data": {
      "text/plain": [
       "list"
      ]
     },
     "execution_count": 46,
     "metadata": {},
     "output_type": "execute_result"
    }
   ],
   "source": [
    "# Confirming that we created a list\n",
    "type(contact_including_at)"
   ]
  },
  {
   "cell_type": "code",
   "execution_count": 47,
   "id": "334e53a1",
   "metadata": {},
   "outputs": [
    {
     "name": "stdout",
     "output_type": "stream",
     "text": [
      "['     info@newszh.ch', '    info@hiltl.ch', '    kunsthausrestaurant@ remimag.ch', '    info@donweber.ch', '    info@menuandmore.ch', '    info@miyuko.ch', '    linde@remimag.ch', '    restaurant@sento.ch', '    info@albisguetli.ch']\n"
     ]
    }
   ],
   "source": [
    "# Defining function to remove integers in string format from list including contact information with '@'\n",
    "\n",
    "def remove(list):\n",
    "\n",
    "    pattern = '[0-9]'\n",
    "\n",
    "    list = [re.sub(pattern, '', i) for i in list]\n",
    "\n",
    "    return list\n",
    "\n",
    "# Store result\n",
    "cont_removed = remove(contact_including_at)\n",
    "\n",
    "# Print to test function\n",
    "print(remove(contact_including_at))\n"
   ]
  },
  {
   "cell_type": "code",
   "execution_count": 48,
   "id": "27476b32",
   "metadata": {},
   "outputs": [
    {
     "data": {
      "text/plain": [
       "9"
      ]
     },
     "execution_count": 48,
     "metadata": {},
     "output_type": "execute_result"
    }
   ],
   "source": [
    "# Stored result verify if nothing got lost. Still 9 entries, all good.\n",
    "len(cont_removed)"
   ]
  },
  {
   "cell_type": "code",
   "execution_count": 49,
   "id": "373a501e",
   "metadata": {},
   "outputs": [
    {
     "data": {
      "text/plain": [
       "['info@newszh.ch',\n",
       " 'info@hiltl.ch',\n",
       " 'kunsthausrestaurant@ remimag.ch',\n",
       " 'info@donweber.ch',\n",
       " 'info@menuandmore.ch',\n",
       " 'info@miyuko.ch',\n",
       " 'linde@remimag.ch',\n",
       " 'restaurant@sento.ch',\n",
       " 'info@albisguetli.ch']"
      ]
     },
     "execution_count": 49,
     "metadata": {},
     "output_type": "execute_result"
    }
   ],
   "source": [
    "# Removing leading spaces with list comprehension\n",
    "no_leading_spaces = [x.lstrip() for x in cont_removed]\n",
    "\n",
    "no_leading_spaces"
   ]
  },
  {
   "cell_type": "code",
   "execution_count": 50,
   "id": "0b200d3f",
   "metadata": {},
   "outputs": [
    {
     "name": "stdout",
     "output_type": "stream",
     "text": [
      "['kunsthausrestaurant@ remimag.ch']\n"
     ]
    }
   ],
   "source": [
    "# List comprehension to compare the two lists and find the missmatch\n",
    "\n",
    "miss_m = [x for x in emails_ + no_leading_spaces if x not in emails_ or x not in no_leading_spaces]\n",
    "\n",
    "print(miss_m)"
   ]
  },
  {
   "cell_type": "code",
   "execution_count": 51,
   "id": "0e03b502",
   "metadata": {},
   "outputs": [
    {
     "data": {
      "text/html": [
       "<div>\n",
       "<style scoped>\n",
       "    .dataframe tbody tr th:only-of-type {\n",
       "        vertical-align: middle;\n",
       "    }\n",
       "\n",
       "    .dataframe tbody tr th {\n",
       "        vertical-align: top;\n",
       "    }\n",
       "\n",
       "    .dataframe thead th {\n",
       "        text-align: right;\n",
       "    }\n",
       "</style>\n",
       "<table border=\"1\" class=\"dataframe\">\n",
       "  <thead>\n",
       "    <tr style=\"text-align: right;\">\n",
       "      <th></th>\n",
       "      <th>plz</th>\n",
       "      <th>restaurant</th>\n",
       "      <th>adresse</th>\n",
       "      <th>web</th>\n",
       "      <th>kontakt</th>\n",
       "      <th>beschreibung</th>\n",
       "    </tr>\n",
       "  </thead>\n",
       "  <tbody>\n",
       "    <tr>\n",
       "      <th>3</th>\n",
       "      <td>8001</td>\n",
       "      <td>Kunsthausrestaurant (Remimag AG)</td>\n",
       "      <td>Heimplatz 1</td>\n",
       "      <td>www.kunsthausrestaurant.ch</td>\n",
       "      <td>044 251 53 53 kunsthausrestaurant@ remimag.ch</td>\n",
       "      <td>Genauso kunterbunt wie die Kunst im nahegelegenen Kunsthaus, zeigt sich auch die Gästeschar im Restaurant und das Speiseangebot der Küche. Geprägt wird das alles von einer gelungenen Symbiose zwischen traditionellen und mediterranen Einflüssen. Das Speiseangebot umfasst mittags und abends während den Servicezeiten immer glutenfreie Produkte, unabhängig ob Suppe, Vorspeise oder Hauptgang. Die glutenfreie Pasta kann ganztags bestellt werden und ist über den hauseigenen Mercato auch für daheim erhältlich.</td>\n",
       "    </tr>\n",
       "  </tbody>\n",
       "</table>\n",
       "</div>"
      ],
      "text/plain": [
       "    plz                        restaurant      adresse  \\\n",
       "3  8001  Kunsthausrestaurant (Remimag AG)  Heimplatz 1   \n",
       "\n",
       "                          web                                        kontakt  \\\n",
       "3  www.kunsthausrestaurant.ch  044 251 53 53 kunsthausrestaurant@ remimag.ch   \n",
       "\n",
       "                                                                                                                                                                                                                                                                                                                                                                                                                                                                                                                  beschreibung  \n",
       "3  Genauso kunterbunt wie die Kunst im nahegelegenen Kunsthaus, zeigt sich auch die Gästeschar im Restaurant und das Speiseangebot der Küche. Geprägt wird das alles von einer gelungenen Symbiose zwischen traditionellen und mediterranen Einflüssen. Das Speiseangebot umfasst mittags und abends während den Servicezeiten immer glutenfreie Produkte, unabhängig ob Suppe, Vorspeise oder Hauptgang. Die glutenfreie Pasta kann ganztags bestellt werden und ist über den hauseigenen Mercato auch für daheim erhältlich.  "
      ]
     },
     "execution_count": 51,
     "metadata": {},
     "output_type": "execute_result"
    }
   ],
   "source": [
    "# Find column including the wrongly formated email address\n",
    "df[df['kontakt'].str.contains('kunsthausrestaurant@')]"
   ]
  },
  {
   "cell_type": "code",
   "execution_count": 52,
   "id": "9f3f9517",
   "metadata": {},
   "outputs": [],
   "source": [
    "# Change row 3 with iloc to replace incorrectly formated email address\n",
    "df.loc[df['kontakt'].str.contains('kunsthausrestaurant@ remimag.ch'), \n",
    "                                         'kontakt'] = '044 251 53 53 kunsthausrestaurant@remimag.ch'"
   ]
  },
  {
   "cell_type": "code",
   "execution_count": 53,
   "id": "f1190d60",
   "metadata": {},
   "outputs": [
    {
     "data": {
      "text/html": [
       "<div>\n",
       "<style scoped>\n",
       "    .dataframe tbody tr th:only-of-type {\n",
       "        vertical-align: middle;\n",
       "    }\n",
       "\n",
       "    .dataframe tbody tr th {\n",
       "        vertical-align: top;\n",
       "    }\n",
       "\n",
       "    .dataframe thead th {\n",
       "        text-align: right;\n",
       "    }\n",
       "</style>\n",
       "<table border=\"1\" class=\"dataframe\">\n",
       "  <thead>\n",
       "    <tr style=\"text-align: right;\">\n",
       "      <th></th>\n",
       "      <th>plz</th>\n",
       "      <th>restaurant</th>\n",
       "      <th>adresse</th>\n",
       "      <th>web</th>\n",
       "      <th>kontakt</th>\n",
       "      <th>beschreibung</th>\n",
       "    </tr>\n",
       "  </thead>\n",
       "  <tbody>\n",
       "    <tr>\n",
       "      <th>3</th>\n",
       "      <td>8001</td>\n",
       "      <td>Kunsthausrestaurant (Remimag AG)</td>\n",
       "      <td>Heimplatz 1</td>\n",
       "      <td>www.kunsthausrestaurant.ch</td>\n",
       "      <td>044 251 53 53 kunsthausrestaurant@remimag.ch</td>\n",
       "      <td>Genauso kunterbunt wie die Kunst im nahegelegenen Kunsthaus, zeigt sich auch die Gästeschar im Restaurant und das Speiseangebot der Küche. Geprägt wird das alles von einer gelungenen Symbiose zwischen traditionellen und mediterranen Einflüssen. Das Speiseangebot umfasst mittags und abends während den Servicezeiten immer glutenfreie Produkte, unabhängig ob Suppe, Vorspeise oder Hauptgang. Die glutenfreie Pasta kann ganztags bestellt werden und ist über den hauseigenen Mercato auch für daheim erhältlich.</td>\n",
       "    </tr>\n",
       "  </tbody>\n",
       "</table>\n",
       "</div>"
      ],
      "text/plain": [
       "    plz                        restaurant      adresse  \\\n",
       "3  8001  Kunsthausrestaurant (Remimag AG)  Heimplatz 1   \n",
       "\n",
       "                          web                                       kontakt  \\\n",
       "3  www.kunsthausrestaurant.ch  044 251 53 53 kunsthausrestaurant@remimag.ch   \n",
       "\n",
       "                                                                                                                                                                                                                                                                                                                                                                                                                                                                                                                  beschreibung  \n",
       "3  Genauso kunterbunt wie die Kunst im nahegelegenen Kunsthaus, zeigt sich auch die Gästeschar im Restaurant und das Speiseangebot der Küche. Geprägt wird das alles von einer gelungenen Symbiose zwischen traditionellen und mediterranen Einflüssen. Das Speiseangebot umfasst mittags und abends während den Servicezeiten immer glutenfreie Produkte, unabhängig ob Suppe, Vorspeise oder Hauptgang. Die glutenfreie Pasta kann ganztags bestellt werden und ist über den hauseigenen Mercato auch für daheim erhältlich.  "
      ]
     },
     "execution_count": 53,
     "metadata": {},
     "output_type": "execute_result"
    }
   ],
   "source": [
    "# Verify that gap was removed from email address\n",
    "df[df['kontakt'].str.contains('kunsthausrestaurant@')]"
   ]
  },
  {
   "cell_type": "code",
   "execution_count": 54,
   "id": "e346fee2",
   "metadata": {},
   "outputs": [],
   "source": [
    "# Creating a copy of work so far, to protect work while creating additional features\n",
    "df_test = df.copy()"
   ]
  },
  {
   "cell_type": "code",
   "execution_count": 55,
   "id": "b6cc8cd5",
   "metadata": {},
   "outputs": [
    {
     "data": {
      "text/html": [
       "<div>\n",
       "<style scoped>\n",
       "    .dataframe tbody tr th:only-of-type {\n",
       "        vertical-align: middle;\n",
       "    }\n",
       "\n",
       "    .dataframe tbody tr th {\n",
       "        vertical-align: top;\n",
       "    }\n",
       "\n",
       "    .dataframe thead th {\n",
       "        text-align: right;\n",
       "    }\n",
       "</style>\n",
       "<table border=\"1\" class=\"dataframe\">\n",
       "  <thead>\n",
       "    <tr style=\"text-align: right;\">\n",
       "      <th></th>\n",
       "      <th>plz</th>\n",
       "      <th>restaurant</th>\n",
       "      <th>adresse</th>\n",
       "      <th>web</th>\n",
       "      <th>kontakt</th>\n",
       "      <th>beschreibung</th>\n",
       "      <th>email</th>\n",
       "    </tr>\n",
       "  </thead>\n",
       "  <tbody>\n",
       "    <tr>\n",
       "      <th>12</th>\n",
       "      <td>8045</td>\n",
       "      <td>Schützenhaus Albisgütli (Gamag Management AG)</td>\n",
       "      <td>Uetlibergstrasse 341</td>\n",
       "      <td>www.albisguetli.ch</td>\n",
       "      <td>043 333 30 00 info@albisguetli.ch</td>\n",
       "      <td>Kulinarischen Genuss finden Sie bei uns in unterschiedlichen Räumlichkeiten. Geniessen Sie im gediegenen Ambiente unserer Taverne schweizerische Köstlichkeiten. Die Wirtschaft ist der richtige Rahmen für ein üppiges Essen oder den kleinen Imbiss vor dem Konzert. Das Gartenrestaurant und die neue Lounge laden besonders an lauen Sommerabenden zum Verweilen ein. Unter grossen Bäumen, die Schatten spenden, lässt sich die Aussicht über Zürich besonders angenehm geniessen. In unserem Gartenrestaurant erhalten Sie sämtliche Speisen, die Sie auch in den Räumlichkeiten bekommen. Die Lounge mit ihren bequemen Sesseln eignet sich perfekt zum Genuss von kleinen Häppchen, erlesenen Apéro-Weinen oder Champagner. Das Speiseangebot umfasst mittags und abends während den Servicezeiten immer glutenfreie Produkte, unabhängig ob Suppe, Vorspeise oder Hauptgang.</td>\n",
       "      <td>info@albisguetli.ch</td>\n",
       "    </tr>\n",
       "    <tr>\n",
       "      <th>8</th>\n",
       "      <td>8005</td>\n",
       "      <td>Menu &amp; More AG</td>\n",
       "      <td>Sihlquai 340</td>\n",
       "      <td>www.menuandmore.ch</td>\n",
       "      <td>044 448 26 11 info@menuandmore.ch</td>\n",
       "      <td>Wir bieten Horten und Krippen verschiedene glutenfreie Menükomponenten, die als glutenfrei deklariert sind. Zusätzlich bieten wir als Zusatzsortiment 23 laktose- und glutenfreie Produkte als Einzelportionen verpackt, an (Eiweisskomponenten inkl. Vegi, Saucen, Stärkebeilagen). Bestellung der Mahlzeiten bis 4 Arbeitstage vor dem Menüdatum empfehlenswert.</td>\n",
       "      <td>info@menuandmore.ch</td>\n",
       "    </tr>\n",
       "    <tr>\n",
       "      <th>4</th>\n",
       "      <td>8001</td>\n",
       "      <td>Hitzberger Fastfood natürlich Hauptbahnhof Zürich</td>\n",
       "      <td>Museumstrasse 1</td>\n",
       "      <td>www.hitzberger.ch</td>\n",
       "      <td>044 212 37 20</td>\n",
       "      <td>Das Schnellverpflegungskonzept Hitzberger – Fastfood natürlich bietet an folgenden Standorten ein Sortiment an glutenfreien Salaten, Curries, Suppen, Smoothies und Säften sowie Desserts (die glutenfreien Angebote sind entsprechend gekennzeichnet).</td>\n",
       "      <td></td>\n",
       "    </tr>\n",
       "  </tbody>\n",
       "</table>\n",
       "</div>"
      ],
      "text/plain": [
       "     plz                                         restaurant  \\\n",
       "12  8045      Schützenhaus Albisgütli (Gamag Management AG)   \n",
       "8   8005                                     Menu & More AG   \n",
       "4   8001  Hitzberger Fastfood natürlich Hauptbahnhof Zürich   \n",
       "\n",
       "                 adresse                 web  \\\n",
       "12  Uetlibergstrasse 341  www.albisguetli.ch   \n",
       "8           Sihlquai 340  www.menuandmore.ch   \n",
       "4        Museumstrasse 1   www.hitzberger.ch   \n",
       "\n",
       "                              kontakt  \\\n",
       "12  043 333 30 00 info@albisguetli.ch   \n",
       "8   044 448 26 11 info@menuandmore.ch   \n",
       "4                    044 212 37 20      \n",
       "\n",
       "                                                                                                                                                                                                                                                                                                                                                                                                                                                                                                                                                                                                                                                                                                                                                                                                                                                                             beschreibung  \\\n",
       "12  Kulinarischen Genuss finden Sie bei uns in unterschiedlichen Räumlichkeiten. Geniessen Sie im gediegenen Ambiente unserer Taverne schweizerische Köstlichkeiten. Die Wirtschaft ist der richtige Rahmen für ein üppiges Essen oder den kleinen Imbiss vor dem Konzert. Das Gartenrestaurant und die neue Lounge laden besonders an lauen Sommerabenden zum Verweilen ein. Unter grossen Bäumen, die Schatten spenden, lässt sich die Aussicht über Zürich besonders angenehm geniessen. In unserem Gartenrestaurant erhalten Sie sämtliche Speisen, die Sie auch in den Räumlichkeiten bekommen. Die Lounge mit ihren bequemen Sesseln eignet sich perfekt zum Genuss von kleinen Häppchen, erlesenen Apéro-Weinen oder Champagner. Das Speiseangebot umfasst mittags und abends während den Servicezeiten immer glutenfreie Produkte, unabhängig ob Suppe, Vorspeise oder Hauptgang.   \n",
       "8                                                                                                                                                                                                                                                                                                                                                                                                                                                                                                                      Wir bieten Horten und Krippen verschiedene glutenfreie Menükomponenten, die als glutenfrei deklariert sind. Zusätzlich bieten wir als Zusatzsortiment 23 laktose- und glutenfreie Produkte als Einzelportionen verpackt, an (Eiweisskomponenten inkl. Vegi, Saucen, Stärkebeilagen). Bestellung der Mahlzeiten bis 4 Arbeitstage vor dem Menüdatum empfehlenswert.   \n",
       "4                                                                                                                                                                                                                                                                                                                                                                                                                                                                                                                                                                                                                                 Das Schnellverpflegungskonzept Hitzberger – Fastfood natürlich bietet an folgenden Standorten ein Sortiment an glutenfreien Salaten, Curries, Suppen, Smoothies und Säften sowie Desserts (die glutenfreien Angebote sind entsprechend gekennzeichnet).   \n",
       "\n",
       "                  email  \n",
       "12  info@albisguetli.ch  \n",
       "8   info@menuandmore.ch  \n",
       "4                        "
      ]
     },
     "execution_count": 55,
     "metadata": {},
     "output_type": "execute_result"
    }
   ],
   "source": [
    "# Using a function to create a new column (email) \n",
    "def find_email(text):\n",
    "    email = re.findall(r'[\\w\\.-]+@[\\w\\.-]+',str(text))\n",
    "    return \",\".join(email)\n",
    "df_test['email']=df_test['kontakt'].apply(lambda x: find_email(x))\n",
    "\n",
    "df_test.sample(3)"
   ]
  },
  {
   "cell_type": "code",
   "execution_count": 56,
   "id": "82b094ac",
   "metadata": {},
   "outputs": [
    {
     "data": {
      "text/plain": [
       "0"
      ]
     },
     "execution_count": 56,
     "metadata": {},
     "output_type": "execute_result"
    }
   ],
   "source": [
    "'''Because .isna() isn't working, we have to come up with a solution that counts empty cells below.'''  \n",
    "df_test.email.isna().sum()"
   ]
  },
  {
   "cell_type": "code",
   "execution_count": 57,
   "id": "5bdb306a",
   "metadata": {},
   "outputs": [
    {
     "name": "stdout",
     "output_type": "stream",
     "text": [
      "We are missing 6 email entries.\n"
     ]
    }
   ],
   "source": [
    "# Count how many empty entries we have for email\n",
    "\n",
    "empty_email = df_test.email.eq('').sum()\n",
    "print('We are missing',empty_email,'email entries.')"
   ]
  },
  {
   "cell_type": "code",
   "execution_count": 58,
   "id": "789f2ac5",
   "metadata": {},
   "outputs": [
    {
     "data": {
      "image/png": "[encoded data removed]",
      "text/plain": [
       "<Figure size 432x288 with 1 Axes>"
      ]
     },
     "metadata": {
      "needs_background": "light"
     },
     "output_type": "display_data"
    },
    {
     "data": {
      "text/plain": [
       "'remove hashes to save figure as pdf'"
      ]
     },
     "execution_count": 58,
     "metadata": {},
     "output_type": "execute_result"
    }
   ],
   "source": [
    "# Visualising empty entries\n",
    "\n",
    "df_test.eq('').sum().plot(kind='bar',\n",
    "                          xlabel = 'features',\n",
    "                          ylabel = 'count of missing values',\n",
    "                          title='Visualising Columns with empty cells',\n",
    "                          rot=45,\n",
    "                          color='purple')\n",
    "plt.show()\n",
    "\n",
    "'remove hashes to save figure as pdf'\n",
    "##plt.savefig('Visualisation Columns with empty cells.pdf')"
   ]
  },
  {
   "cell_type": "code",
   "execution_count": 59,
   "id": "db41213d",
   "metadata": {},
   "outputs": [
    {
     "data": {
      "text/plain": [
       "12    info@albisguetli.ch\n",
       "6                     NaN\n",
       "14                    NaN\n",
       "2           info@hiltl.ch\n",
       "Name: email, dtype: object"
      ]
     },
     "metadata": {},
     "output_type": "display_data"
    }
   ],
   "source": [
    "# Replace missing entries with NaN\n",
    "\n",
    "df_test.email.replace('',np.nan, inplace=True)\n",
    "\n",
    "#Verify imputation\n",
    "display(df_test.email.sample(frac=.3))"
   ]
  },
  {
   "cell_type": "code",
   "execution_count": 60,
   "id": "f509ec2c",
   "metadata": {},
   "outputs": [
    {
     "name": "stdout",
     "output_type": "stream",
     "text": [
      "Number of empty emails 6\n",
      "Number of emails replaced with NaN 6\n",
      "Difference 0\n"
     ]
    }
   ],
   "source": [
    "# Verify replaced empty spaces are equal to NaN values\n",
    "print('Number of empty emails',empty_email)\n",
    "print('Number of emails replaced with NaN', df_test.email.isna().sum())\n",
    "print('Difference',(empty_email-df_test.email.isna().sum()))"
   ]
  },
  {
   "cell_type": "code",
   "execution_count": 61,
   "id": "5d87a4e6",
   "metadata": {},
   "outputs": [],
   "source": [
    "# Creating a new df to protect wrangling done until this stage.\n",
    "df_split_phones = df_test.copy()\n",
    "df_playaround = df_test.copy()"
   ]
  },
  {
   "cell_type": "markdown",
   "id": "1241bb3b",
   "metadata": {},
   "source": [
    "### Tidy up kontakt column (telefon)"
   ]
  },
  {
   "cell_type": "code",
   "execution_count": 62,
   "id": "556ca65f",
   "metadata": {},
   "outputs": [
    {
     "data": {
      "text/plain": [
       "(15, 15)"
      ]
     },
     "execution_count": 62,
     "metadata": {},
     "output_type": "execute_result"
    }
   ],
   "source": [
    "# Using regex find email addresses and create a list\n",
    "phone_n = re.findall('\\d{3} \\d{3} \\d{2} \\d{2}',str(df_split_phones['kontakt']))\n",
    "\n",
    "# Comparing number of available phone numbers to number of total contacts\n",
    "len(phone_n), len(df_split_phones.kontakt)"
   ]
  },
  {
   "cell_type": "code",
   "execution_count": 63,
   "id": "7b1abd43",
   "metadata": {},
   "outputs": [
    {
     "name": "stdout",
     "output_type": "stream",
     "text": [
      "['044 221 38 00', '044 227 70 00', '044 251 53 53', '044 212 37 20', '044 440 13 13']\n"
     ]
    }
   ],
   "source": [
    "# Print first 5 to verify result\n",
    "print(phone_n[:5])"
   ]
  },
  {
   "cell_type": "code",
   "execution_count": 64,
   "id": "a6d3a77d",
   "metadata": {},
   "outputs": [
    {
     "data": {
      "text/plain": [
       "1    044 221 38 00\n",
       "2    044 227 70 00\n",
       "3    044 251 53 53\n",
       "Name: telefon, dtype: object"
      ]
     },
     "execution_count": 64,
     "metadata": {},
     "output_type": "execute_result"
    }
   ],
   "source": [
    "# Using a function to create a new column (email) \n",
    "def find_phone_n(text):\n",
    "    phones = re.findall(r'\\d{3} \\d{3} \\d{2} \\d{2}',str(text))\n",
    "    return \",\".join(phones)\n",
    "df_split_phones['telefon']=df_split_phones['kontakt'].apply(lambda x: find_phone_n(x))\n",
    "\n",
    "df_split_phones['telefon'][:3]"
   ]
  },
  {
   "cell_type": "code",
   "execution_count": 65,
   "id": "002932ba",
   "metadata": {},
   "outputs": [
    {
     "data": {
      "text/html": [
       "<div>\n",
       "<style scoped>\n",
       "    .dataframe tbody tr th:only-of-type {\n",
       "        vertical-align: middle;\n",
       "    }\n",
       "\n",
       "    .dataframe tbody tr th {\n",
       "        vertical-align: top;\n",
       "    }\n",
       "\n",
       "    .dataframe thead th {\n",
       "        text-align: right;\n",
       "    }\n",
       "</style>\n",
       "<table border=\"1\" class=\"dataframe\">\n",
       "  <thead>\n",
       "    <tr style=\"text-align: right;\">\n",
       "      <th></th>\n",
       "      <th>plz</th>\n",
       "      <th>restaurant</th>\n",
       "      <th>adresse</th>\n",
       "      <th>web</th>\n",
       "      <th>kontakt</th>\n",
       "      <th>beschreibung</th>\n",
       "      <th>email</th>\n",
       "      <th>telefon</th>\n",
       "    </tr>\n",
       "  </thead>\n",
       "  <tbody>\n",
       "    <tr>\n",
       "      <th>9</th>\n",
       "      <td>8006</td>\n",
       "      <td>Les Gourmandises de Miyuko</td>\n",
       "      <td>Beckenhofstrasse 24</td>\n",
       "      <td>www.miyuko.ch</td>\n",
       "      <td>044 350 21 43 info@miyuko.ch</td>\n",
       "      <td>Unsere bekannten Torten, Kuchen, Scones aber auch Speisen für den kleinen Hunger sind in der Menükarte gekennzeichnet und aus eigener Produktion. Eine Online Reservation fürs Miyuko Gnüsser Zmorge, Tea Time oder den Prinzessinen Kafi Klatsch wird empfohlen.</td>\n",
       "      <td>info@miyuko.ch</td>\n",
       "      <td>044 350 21 43</td>\n",
       "    </tr>\n",
       "    <tr>\n",
       "      <th>7</th>\n",
       "      <td>8005</td>\n",
       "      <td>Restaurant Don Weber</td>\n",
       "      <td>Heinrichstrasse 213</td>\n",
       "      <td>www.donweber.ch</td>\n",
       "      <td>044 272 05 40 info@donweber.ch</td>\n",
       "      <td>Wir haben eine gut gekennzeichnete spezielle gluten- &amp; laktosefreie Speisekarte, die Sie gerne bei unseren Don’s &amp; Doñas verlangen können. Unsere mexikanischen Klassiker wie Nachos, Fajitas &amp; Burritos, sowie unsere verschiedenen Burgers sind der Renner. Nicht zu vergessen unser gluten- &amp; laktosefreies warmes Schoggiküchlein zum Abschluss – der Traum jedes Allergiker’s. Im Angebot ist immer mind. 1 glutenfreies Bier welches optimal zu einem Bistec de Carne, Mexican Pollo oder Surf Ajillo passt.</td>\n",
       "      <td>info@donweber.ch</td>\n",
       "      <td>044 272 05 40</td>\n",
       "    </tr>\n",
       "    <tr>\n",
       "      <th>4</th>\n",
       "      <td>8001</td>\n",
       "      <td>Hitzberger Fastfood natürlich Hauptbahnhof Zürich</td>\n",
       "      <td>Museumstrasse 1</td>\n",
       "      <td>www.hitzberger.ch</td>\n",
       "      <td>044 212 37 20</td>\n",
       "      <td>Das Schnellverpflegungskonzept Hitzberger – Fastfood natürlich bietet an folgenden Standorten ein Sortiment an glutenfreien Salaten, Curries, Suppen, Smoothies und Säften sowie Desserts (die glutenfreien Angebote sind entsprechend gekennzeichnet).</td>\n",
       "      <td>NaN</td>\n",
       "      <td>044 212 37 20</td>\n",
       "    </tr>\n",
       "    <tr>\n",
       "      <th>11</th>\n",
       "      <td>8032</td>\n",
       "      <td>Design Hotel Plattenhof  &amp; Restaurant Sento</td>\n",
       "      <td>Bergstrasse 19</td>\n",
       "      <td>www.sento.ch</td>\n",
       "      <td>044 251 19 10 restaurant@sento.ch</td>\n",
       "      <td>Das Angebot umfasst verschiedene glutenfreie Fisch- und Fleischgerichte, Salate (z.B. Pouletsalat), glutenfreie Teigwaren und glutenfreies Brot. Das Personal ist bestens informiert. Bitte die Details jeweils bei der Bestellung besprechen.</td>\n",
       "      <td>restaurant@sento.ch</td>\n",
       "      <td>044 251 19 10</td>\n",
       "    </tr>\n",
       "  </tbody>\n",
       "</table>\n",
       "</div>"
      ],
      "text/plain": [
       "     plz                                         restaurant  \\\n",
       "9   8006                         Les Gourmandises de Miyuko   \n",
       "7   8005                               Restaurant Don Weber   \n",
       "4   8001  Hitzberger Fastfood natürlich Hauptbahnhof Zürich   \n",
       "11  8032        Design Hotel Plattenhof  & Restaurant Sento   \n",
       "\n",
       "                adresse                web                            kontakt  \\\n",
       "9   Beckenhofstrasse 24      www.miyuko.ch       044 350 21 43 info@miyuko.ch   \n",
       "7   Heinrichstrasse 213    www.donweber.ch     044 272 05 40 info@donweber.ch   \n",
       "4       Museumstrasse 1  www.hitzberger.ch                   044 212 37 20      \n",
       "11       Bergstrasse 19       www.sento.ch  044 251 19 10 restaurant@sento.ch   \n",
       "\n",
       "                                                                                                                                                                                                                                                                                                                                                                                                                                                                                                          beschreibung  \\\n",
       "9                                                                                                                                                                                                                                                   Unsere bekannten Torten, Kuchen, Scones aber auch Speisen für den kleinen Hunger sind in der Menükarte gekennzeichnet und aus eigener Produktion. Eine Online Reservation fürs Miyuko Gnüsser Zmorge, Tea Time oder den Prinzessinen Kafi Klatsch wird empfohlen.    \n",
       "7   Wir haben eine gut gekennzeichnete spezielle gluten- & laktosefreie Speisekarte, die Sie gerne bei unseren Don’s & Doñas verlangen können. Unsere mexikanischen Klassiker wie Nachos, Fajitas & Burritos, sowie unsere verschiedenen Burgers sind der Renner. Nicht zu vergessen unser gluten- & laktosefreies warmes Schoggiküchlein zum Abschluss – der Traum jedes Allergiker’s. Im Angebot ist immer mind. 1 glutenfreies Bier welches optimal zu einem Bistec de Carne, Mexican Pollo oder Surf Ajillo passt.   \n",
       "4                                                                                                                                                                                                                                                              Das Schnellverpflegungskonzept Hitzberger – Fastfood natürlich bietet an folgenden Standorten ein Sortiment an glutenfreien Salaten, Curries, Suppen, Smoothies und Säften sowie Desserts (die glutenfreien Angebote sind entsprechend gekennzeichnet).   \n",
       "11                                                                                                                                                                                                                                                                      Das Angebot umfasst verschiedene glutenfreie Fisch- und Fleischgerichte, Salate (z.B. Pouletsalat), glutenfreie Teigwaren und glutenfreies Brot. Das Personal ist bestens informiert. Bitte die Details jeweils bei der Bestellung besprechen.   \n",
       "\n",
       "                  email        telefon  \n",
       "9        info@miyuko.ch  044 350 21 43  \n",
       "7      info@donweber.ch  044 272 05 40  \n",
       "4                   NaN  044 212 37 20  \n",
       "11  restaurant@sento.ch  044 251 19 10  "
      ]
     },
     "execution_count": 65,
     "metadata": {},
     "output_type": "execute_result"
    }
   ],
   "source": [
    "df_split_phones.sample(frac=.3)"
   ]
  },
  {
   "cell_type": "markdown",
   "id": "11c7b7b7",
   "metadata": {},
   "source": [
    "In a case where the phone numbers might not be in a predictable pattern, but we know there are only numbers belonging to a phone number within a column, we could use below regex. This would avoid us missing out on any phone numbers as it simply find all digits within a column."
   ]
  },
  {
   "cell_type": "code",
   "execution_count": 66,
   "id": "eab8196e",
   "metadata": {},
   "outputs": [
    {
     "data": {
      "text/plain": [
       "1    044,221,38,00\n",
       "2    044,227,70,00\n",
       "3    044,251,53,53\n",
       "Name: telefon2, dtype: object"
      ]
     },
     "execution_count": 66,
     "metadata": {},
     "output_type": "execute_result"
    }
   ],
   "source": [
    "# Using a function to create a new column (email) \n",
    "def find_phone_n(text):\n",
    "    phones = re.findall(r'[\\d]+',str(text))\n",
    "    return \",\".join(phones)\n",
    "\n",
    "df_split_phones['telefon2']=df_split_phones['kontakt'].apply(lambda x: find_phone_n(x))\n",
    "\n",
    "df_split_phones['telefon2'][:3]"
   ]
  },
  {
   "cell_type": "code",
   "execution_count": 67,
   "id": "7e4ba5cd",
   "metadata": {},
   "outputs": [],
   "source": [
    "# Tidying up the commas within our result\n",
    "df_split_phones['telefon2'] = df_split_phones['telefon2'].replace(r',',' ', regex=True)"
   ]
  },
  {
   "cell_type": "code",
   "execution_count": 71,
   "id": "b9415090",
   "metadata": {},
   "outputs": [
    {
     "data": {
      "text/html": [
       "<div>\n",
       "<style scoped>\n",
       "    .dataframe tbody tr th:only-of-type {\n",
       "        vertical-align: middle;\n",
       "    }\n",
       "\n",
       "    .dataframe tbody tr th {\n",
       "        vertical-align: top;\n",
       "    }\n",
       "\n",
       "    .dataframe thead th {\n",
       "        text-align: right;\n",
       "    }\n",
       "</style>\n",
       "<table border=\"1\" class=\"dataframe\">\n",
       "  <thead>\n",
       "    <tr style=\"text-align: right;\">\n",
       "      <th></th>\n",
       "      <th>plz</th>\n",
       "      <th>restaurant</th>\n",
       "      <th>adresse</th>\n",
       "      <th>web</th>\n",
       "      <th>kontakt</th>\n",
       "      <th>beschreibung</th>\n",
       "      <th>email</th>\n",
       "      <th>telefon</th>\n",
       "      <th>telefon2</th>\n",
       "    </tr>\n",
       "  </thead>\n",
       "  <tbody>\n",
       "    <tr>\n",
       "      <th>10</th>\n",
       "      <td>8006</td>\n",
       "      <td>Restaurant Linde Oberstrass (Gamag Management AG)</td>\n",
       "      <td>Universitätsstrasse 91</td>\n",
       "      <td>www.linde-oberstrass.ch</td>\n",
       "      <td>044 362 21 09 linde@remimag.ch</td>\n",
       "      <td>Kulinarisch bietet die Linde alles, was zum hauseigenen Bier passt. Von Bagels und Hefeteigfladen über bodenständige Hausmannskost bis hin zu leichten Salatkreationen. An lauen Sommerabenden lädt der Biergarten zum Verweilen ein. Das Speiseangebot umfasst mittags und abends während den Servicezeiten immer glutenfreie Produkte, unabhängig ob Suppe, Vorspeise oder Hauptgang.</td>\n",
       "      <td>linde@remimag.ch</td>\n",
       "      <td>044 362 21 09</td>\n",
       "      <td>044 362 21 09</td>\n",
       "    </tr>\n",
       "    <tr>\n",
       "      <th>6</th>\n",
       "      <td>8005</td>\n",
       "      <td>Hitzberger Fastfood  Zürich Puls 5</td>\n",
       "      <td>Giessereistrasse 18</td>\n",
       "      <td>www.hitzberger.ch</td>\n",
       "      <td>044 271 24 00</td>\n",
       "      <td>Das Schnellverpflegungskonzept Hitzberger – Fastfood natürlich bietet an folgenden Standorten ein Sortiment an glutenfreien Salaten, Curries, Suppen, Smoothies und Säften sowie Desserts (die glutenfreien Angebote sind entsprechend gekennzeichnet).</td>\n",
       "      <td>NaN</td>\n",
       "      <td>044 271 24 00</td>\n",
       "      <td>044 271 24 00</td>\n",
       "    </tr>\n",
       "    <tr>\n",
       "      <th>13</th>\n",
       "      <td>8045</td>\n",
       "      <td>Hitzberger Fastfood  Zürich Sihlcity</td>\n",
       "      <td>Kalandarplatz 1</td>\n",
       "      <td>www.hitzberger.ch</td>\n",
       "      <td>044 201 34 00</td>\n",
       "      <td>Das Schnellverpflegungskonzept Hitzberger – Fastfood natürlich bietet an folgenden Standorten ein Sortiment an glutenfreien Salaten, Curries, Suppen, Smoothies und Säften sowie Desserts (die glutenfreien Angebote sind entsprechend gekennzeichnet).</td>\n",
       "      <td>NaN</td>\n",
       "      <td>044 201 34 00</td>\n",
       "      <td>044 201 34 00</td>\n",
       "    </tr>\n",
       "  </tbody>\n",
       "</table>\n",
       "</div>"
      ],
      "text/plain": [
       "     plz                                         restaurant  \\\n",
       "10  8006  Restaurant Linde Oberstrass (Gamag Management AG)   \n",
       "6   8005                 Hitzberger Fastfood  Zürich Puls 5   \n",
       "13  8045               Hitzberger Fastfood  Zürich Sihlcity   \n",
       "\n",
       "                   adresse                      web  \\\n",
       "10  Universitätsstrasse 91  www.linde-oberstrass.ch   \n",
       "6      Giessereistrasse 18        www.hitzberger.ch   \n",
       "13         Kalandarplatz 1        www.hitzberger.ch   \n",
       "\n",
       "                           kontakt  \\\n",
       "10  044 362 21 09 linde@remimag.ch   \n",
       "6                   044 271 24 00    \n",
       "13                   044 201 34 00   \n",
       "\n",
       "                                                                                                                                                                                                                                                                                                                                                                               beschreibung  \\\n",
       "10  Kulinarisch bietet die Linde alles, was zum hauseigenen Bier passt. Von Bagels und Hefeteigfladen über bodenständige Hausmannskost bis hin zu leichten Salatkreationen. An lauen Sommerabenden lädt der Biergarten zum Verweilen ein. Das Speiseangebot umfasst mittags und abends während den Servicezeiten immer glutenfreie Produkte, unabhängig ob Suppe, Vorspeise oder Hauptgang.   \n",
       "6                                                                                                                                   Das Schnellverpflegungskonzept Hitzberger – Fastfood natürlich bietet an folgenden Standorten ein Sortiment an glutenfreien Salaten, Curries, Suppen, Smoothies und Säften sowie Desserts (die glutenfreien Angebote sind entsprechend gekennzeichnet).   \n",
       "13                                                                                                                                  Das Schnellverpflegungskonzept Hitzberger – Fastfood natürlich bietet an folgenden Standorten ein Sortiment an glutenfreien Salaten, Curries, Suppen, Smoothies und Säften sowie Desserts (die glutenfreien Angebote sind entsprechend gekennzeichnet).   \n",
       "\n",
       "               email        telefon       telefon2  \n",
       "10  linde@remimag.ch  044 362 21 09  044 362 21 09  \n",
       "6                NaN  044 271 24 00  044 271 24 00  \n",
       "13               NaN  044 201 34 00  044 201 34 00  "
      ]
     },
     "execution_count": 71,
     "metadata": {},
     "output_type": "execute_result"
    }
   ],
   "source": [
    "df_split_phones.sample(frac=.2)"
   ]
  },
  {
   "cell_type": "code",
   "execution_count": 68,
   "id": "7d7ce6a8",
   "metadata": {},
   "outputs": [],
   "source": [
    "# Creating a new df to protect wrangling done to complete kontakt split into emails and phone number\n",
    "df_tidy_contact = df_split_phones.copy()"
   ]
  },
  {
   "cell_type": "code",
   "execution_count": 69,
   "id": "2dea2dc4",
   "metadata": {},
   "outputs": [
    {
     "data": {
      "image/png": "[encoded data removed]",
      "text/plain": [
       "<Figure size 432x288 with 1 Axes>"
      ]
     },
     "metadata": {
      "needs_background": "light"
     },
     "output_type": "display_data"
    },
    {
     "name": "stdout",
     "output_type": "stream",
     "text": [
      "plz             0\n",
      "restaurant      0\n",
      "adresse         0\n",
      "web             0\n",
      "kontakt         0\n",
      "beschreibung    0\n",
      "email           0\n",
      "telefon         0\n",
      "telefon2        0\n",
      "dtype: int64\n"
     ]
    }
   ],
   "source": [
    "# Visualising empty entries\n",
    "\n",
    "df_tidy_contact.eq('').sum().plot(kind='bar',\n",
    "                          xlabel = 'features',\n",
    "                          ylabel = 'count of missing values',\n",
    "                          title='Visualising Columns with empty cells',\n",
    "                          rot=45,\n",
    "                          color='orange')\n",
    "plt.show()\n",
    "print(df_tidy_contact.eq('').sum())\n",
    "##plt.savefig('Visualisation Columns with empty cells.pdf')"
   ]
  },
  {
   "cell_type": "code",
   "execution_count": 75,
   "id": "4a2b1c55",
   "metadata": {},
   "outputs": [],
   "source": [
    "# Saving to csv with actual date\n",
    "date = datetime.now().strftime('%Y%m%d')\n",
    "\n",
    "df_tidy_contact.to_csv(f\"{date}_clean_zoeliakie.csv\")"
   ]
  },
  {
   "cell_type": "code",
   "execution_count": null,
   "id": "20bb5742",
   "metadata": {},
   "outputs": [],
   "source": []
  },
  {
   "cell_type": "code",
   "execution_count": null,
   "id": "409a7c44",
   "metadata": {},
   "outputs": [],
   "source": []
  }
 ],
 "metadata": {
  "kernelspec": {
   "display_name": "Python 3 (ipykernel)",
   "language": "python",
   "name": "python3"
  },
  "language_info": {
   "codemirror_mode": {
    "name": "ipython",
    "version": 3
   },
   "file_extension": ".py",
   "mimetype": "text/x-python",
   "name": "python",
   "nbconvert_exporter": "python",
   "pygments_lexer": "ipython3",
   "version": "3.9.7"
  }
 },
 "nbformat": 4,
 "nbformat_minor": 5
}
