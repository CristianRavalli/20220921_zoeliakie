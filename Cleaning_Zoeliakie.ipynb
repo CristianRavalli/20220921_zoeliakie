{
 "cells": [
  {
   "cell_type": "markdown",
   "id": "67fd2735",
   "metadata": {},
   "source": [
    "# Data Cleaning workin in progress..."
   ]
  },
  {
   "cell_type": "code",
   "execution_count": 42,
   "id": "84ebcad9-15fb-48f9-a61a-85793a8da670",
   "metadata": {},
   "outputs": [],
   "source": [
    "# Importing libraries\n",
    "import pandas as pd\n",
    "import numpy as np\n",
    "import re"
   ]
  },
  {
   "cell_type": "code",
   "execution_count": 2,
   "id": "b34a4390",
   "metadata": {},
   "outputs": [
    {
     "data": {
      "text/html": [
       "<div>\n",
       "<style scoped>\n",
       "    .dataframe tbody tr th:only-of-type {\n",
       "        vertical-align: middle;\n",
       "    }\n",
       "\n",
       "    .dataframe tbody tr th {\n",
       "        vertical-align: top;\n",
       "    }\n",
       "\n",
       "    .dataframe thead th {\n",
       "        text-align: right;\n",
       "    }\n",
       "</style>\n",
       "<table border=\"1\" class=\"dataframe\">\n",
       "  <thead>\n",
       "    <tr style=\"text-align: right;\">\n",
       "      <th></th>\n",
       "      <th>0</th>\n",
       "      <th>1</th>\n",
       "      <th>2</th>\n",
       "      <th>3</th>\n",
       "      <th>4</th>\n",
       "      <th>5</th>\n",
       "      <th>6</th>\n",
       "    </tr>\n",
       "  </thead>\n",
       "  <tbody>\n",
       "    <tr>\n",
       "      <th>0</th>\n",
       "      <td>Unsere Gastronomiemitglieder haben mit uns ein...</td>\n",
       "      <td>NaN</td>\n",
       "      <td>NaN</td>\n",
       "      <td>NaN</td>\n",
       "      <td>NaN</td>\n",
       "      <td>NaN</td>\n",
       "      <td>NaN</td>\n",
       "    </tr>\n",
       "    <tr>\n",
       "      <th>1</th>\n",
       "      <td>8001</td>\n",
       "      <td>Restaurant Au Gratin</td>\n",
       "      <td>Bahnhofplatz 2\\n8001 Zürich</td>\n",
       "      <td>www.augratin.ch</td>\n",
       "      <td>044 221 38 00 \\ninfo@newszh.ch</td>\n",
       "      <td>Unsere glutenfreien Gerichte sind auf der Spei...</td>\n",
       "      <td>NaN</td>\n",
       "    </tr>\n",
       "    <tr>\n",
       "      <th>2</th>\n",
       "      <td>8001</td>\n",
       "      <td>Haus Hiltl</td>\n",
       "      <td>Sihlstrasse 28\\n8001 Zürich</td>\n",
       "      <td>www.hiltl.ch</td>\n",
       "      <td>044 227 70 00\\ninfo@hiltl.ch</td>\n",
       "      <td>Hiltl, das bekannteste vegetarische Restaurant...</td>\n",
       "      <td>NaN</td>\n",
       "    </tr>\n",
       "  </tbody>\n",
       "</table>\n",
       "</div>"
      ],
      "text/plain": [
       "                                                   0                     1  \\\n",
       "0  Unsere Gastronomiemitglieder haben mit uns ein...                   NaN   \n",
       "1                                               8001  Restaurant Au Gratin   \n",
       "2                                               8001            Haus Hiltl   \n",
       "\n",
       "                             2                3  \\\n",
       "0                          NaN              NaN   \n",
       "1  Bahnhofplatz 2\\n8001 Zürich  www.augratin.ch   \n",
       "2  Sihlstrasse 28\\n8001 Zürich     www.hiltl.ch   \n",
       "\n",
       "                                4  \\\n",
       "0                             NaN   \n",
       "1  044 221 38 00 \\ninfo@newszh.ch   \n",
       "2    044 227 70 00\\ninfo@hiltl.ch   \n",
       "\n",
       "                                                   5   6  \n",
       "0                                                NaN NaN  \n",
       "1  Unsere glutenfreien Gerichte sind auf der Spei... NaN  \n",
       "2  Hiltl, das bekannteste vegetarische Restaurant... NaN  "
      ]
     },
     "execution_count": 2,
     "metadata": {},
     "output_type": "execute_result"
    }
   ],
   "source": [
    "# Read csv while removing header as no header in original file\n",
    "df = pd.read_csv('zuerich_csv.csv',header=None)\n",
    "df.head(3)"
   ]
  },
  {
   "cell_type": "code",
   "execution_count": 3,
   "id": "7ecb6b70",
   "metadata": {},
   "outputs": [
    {
     "data": {
      "text/html": [
       "<div>\n",
       "<style scoped>\n",
       "    .dataframe tbody tr th:only-of-type {\n",
       "        vertical-align: middle;\n",
       "    }\n",
       "\n",
       "    .dataframe tbody tr th {\n",
       "        vertical-align: top;\n",
       "    }\n",
       "\n",
       "    .dataframe thead th {\n",
       "        text-align: right;\n",
       "    }\n",
       "</style>\n",
       "<table border=\"1\" class=\"dataframe\">\n",
       "  <thead>\n",
       "    <tr style=\"text-align: right;\">\n",
       "      <th></th>\n",
       "      <th>0</th>\n",
       "      <th>1</th>\n",
       "      <th>2</th>\n",
       "      <th>3</th>\n",
       "      <th>4</th>\n",
       "      <th>5</th>\n",
       "      <th>6</th>\n",
       "    </tr>\n",
       "  </thead>\n",
       "  <tbody>\n",
       "    <tr>\n",
       "      <th>0</th>\n",
       "      <td>Unsere Gastronomiemitglieder haben mit uns ein...</td>\n",
       "      <td>NaN</td>\n",
       "      <td>NaN</td>\n",
       "      <td>NaN</td>\n",
       "      <td>NaN</td>\n",
       "      <td>NaN</td>\n",
       "      <td>NaN</td>\n",
       "    </tr>\n",
       "  </tbody>\n",
       "</table>\n",
       "</div>"
      ],
      "text/plain": [
       "                                                   0    1    2    3    4    5  \\\n",
       "0  Unsere Gastronomiemitglieder haben mit uns ein...  NaN  NaN  NaN  NaN  NaN   \n",
       "\n",
       "    6  \n",
       "0 NaN  "
      ]
     },
     "execution_count": 3,
     "metadata": {},
     "output_type": "execute_result"
    }
   ],
   "source": [
    "df.head(1)"
   ]
  },
  {
   "cell_type": "code",
   "execution_count": 4,
   "id": "8b4cb26f",
   "metadata": {},
   "outputs": [
    {
     "data": {
      "text/html": [
       "<div>\n",
       "<style scoped>\n",
       "    .dataframe tbody tr th:only-of-type {\n",
       "        vertical-align: middle;\n",
       "    }\n",
       "\n",
       "    .dataframe tbody tr th {\n",
       "        vertical-align: top;\n",
       "    }\n",
       "\n",
       "    .dataframe thead th {\n",
       "        text-align: right;\n",
       "    }\n",
       "</style>\n",
       "<table border=\"1\" class=\"dataframe\">\n",
       "  <thead>\n",
       "    <tr style=\"text-align: right;\">\n",
       "      <th></th>\n",
       "      <th>0</th>\n",
       "      <th>1</th>\n",
       "      <th>2</th>\n",
       "      <th>3</th>\n",
       "      <th>4</th>\n",
       "      <th>5</th>\n",
       "      <th>6</th>\n",
       "    </tr>\n",
       "  </thead>\n",
       "  <tbody>\n",
       "    <tr>\n",
       "      <th>1</th>\n",
       "      <td>8001</td>\n",
       "      <td>Restaurant Au Gratin</td>\n",
       "      <td>Bahnhofplatz 2\\n8001 Zürich</td>\n",
       "      <td>www.augratin.ch</td>\n",
       "      <td>044 221 38 00 \\ninfo@newszh.ch</td>\n",
       "      <td>Unsere glutenfreien Gerichte sind auf der Spei...</td>\n",
       "      <td>NaN</td>\n",
       "    </tr>\n",
       "    <tr>\n",
       "      <th>2</th>\n",
       "      <td>8001</td>\n",
       "      <td>Haus Hiltl</td>\n",
       "      <td>Sihlstrasse 28\\n8001 Zürich</td>\n",
       "      <td>www.hiltl.ch</td>\n",
       "      <td>044 227 70 00\\ninfo@hiltl.ch</td>\n",
       "      <td>Hiltl, das bekannteste vegetarische Restaurant...</td>\n",
       "      <td>NaN</td>\n",
       "    </tr>\n",
       "    <tr>\n",
       "      <th>3</th>\n",
       "      <td>8001</td>\n",
       "      <td>Kunsthausrestaurant\\n(Remimag AG)</td>\n",
       "      <td>Heimplatz 1\\n8001 Zürich</td>\n",
       "      <td>www.kunsthausrestaurant.ch</td>\n",
       "      <td>044 251 53 53\\nkunsthausrestaurant@\\nremimag.ch</td>\n",
       "      <td>Genauso kunterbunt wie die Kunst im nahegelege...</td>\n",
       "      <td>NaN</td>\n",
       "    </tr>\n",
       "    <tr>\n",
       "      <th>4</th>\n",
       "      <td>8001</td>\n",
       "      <td>Hitzberger Fastfood natürlich\\nHauptbahnhof Zü...</td>\n",
       "      <td>Take Away Passage Bahnhofstrasse Zürich Shop-V...</td>\n",
       "      <td>www.hitzberger.ch</td>\n",
       "      <td>044 212 37 20 \\n\\n</td>\n",
       "      <td>Das Schnellverpflegungskonzept Hitzberger – Fa...</td>\n",
       "      <td>NaN</td>\n",
       "    </tr>\n",
       "    <tr>\n",
       "      <th>5</th>\n",
       "      <td>8005</td>\n",
       "      <td>SamSeS Vegetarisches Restaurant</td>\n",
       "      <td>Langstrasse 231\\n8005 Zürich</td>\n",
       "      <td>www.samses.ch</td>\n",
       "      <td>044 440 13 13</td>\n",
       "      <td>Bei uns geniessen Sie gefüllte Ravioli, Gnocch...</td>\n",
       "      <td>NaN</td>\n",
       "    </tr>\n",
       "  </tbody>\n",
       "</table>\n",
       "</div>"
      ],
      "text/plain": [
       "      0                                                  1  \\\n",
       "1  8001                               Restaurant Au Gratin   \n",
       "2  8001                                         Haus Hiltl   \n",
       "3  8001                  Kunsthausrestaurant\\n(Remimag AG)   \n",
       "4  8001  Hitzberger Fastfood natürlich\\nHauptbahnhof Zü...   \n",
       "5  8005                    SamSeS Vegetarisches Restaurant   \n",
       "\n",
       "                                                   2  \\\n",
       "1                        Bahnhofplatz 2\\n8001 Zürich   \n",
       "2                        Sihlstrasse 28\\n8001 Zürich   \n",
       "3                           Heimplatz 1\\n8001 Zürich   \n",
       "4  Take Away Passage Bahnhofstrasse Zürich Shop-V...   \n",
       "5                       Langstrasse 231\\n8005 Zürich   \n",
       "\n",
       "                            3  \\\n",
       "1             www.augratin.ch   \n",
       "2                www.hiltl.ch   \n",
       "3  www.kunsthausrestaurant.ch   \n",
       "4           www.hitzberger.ch   \n",
       "5               www.samses.ch   \n",
       "\n",
       "                                                 4  \\\n",
       "1                   044 221 38 00 \\ninfo@newszh.ch   \n",
       "2                     044 227 70 00\\ninfo@hiltl.ch   \n",
       "3  044 251 53 53\\nkunsthausrestaurant@\\nremimag.ch   \n",
       "4                               044 212 37 20 \\n\\n   \n",
       "5                                    044 440 13 13   \n",
       "\n",
       "                                                   5   6  \n",
       "1  Unsere glutenfreien Gerichte sind auf der Spei... NaN  \n",
       "2  Hiltl, das bekannteste vegetarische Restaurant... NaN  \n",
       "3  Genauso kunterbunt wie die Kunst im nahegelege... NaN  \n",
       "4  Das Schnellverpflegungskonzept Hitzberger – Fa... NaN  \n",
       "5  Bei uns geniessen Sie gefüllte Ravioli, Gnocch... NaN  "
      ]
     },
     "execution_count": 4,
     "metadata": {},
     "output_type": "execute_result"
    }
   ],
   "source": [
    "# Drop first row as description and NaN only\n",
    "df = df.drop(0)\n",
    "df.head()"
   ]
  },
  {
   "cell_type": "code",
   "execution_count": 5,
   "id": "cfee1bb8",
   "metadata": {},
   "outputs": [],
   "source": [
    "# Rename all columns\n",
    "df.rename(columns = {0:'plz',1:'restaurant',2:'adresse',\n",
    "                    3:'web',4:'kontakt',5:'beschreibung',6:'leer'},\n",
    "          inplace=True)\n",
    "\n",
    "#df.head()\n"
   ]
  },
  {
   "cell_type": "code",
   "execution_count": 6,
   "id": "d4e555de",
   "metadata": {},
   "outputs": [
    {
     "data": {
      "text/html": [
       "<div>\n",
       "<style scoped>\n",
       "    .dataframe tbody tr th:only-of-type {\n",
       "        vertical-align: middle;\n",
       "    }\n",
       "\n",
       "    .dataframe tbody tr th {\n",
       "        vertical-align: top;\n",
       "    }\n",
       "\n",
       "    .dataframe thead th {\n",
       "        text-align: right;\n",
       "    }\n",
       "</style>\n",
       "<table border=\"1\" class=\"dataframe\">\n",
       "  <thead>\n",
       "    <tr style=\"text-align: right;\">\n",
       "      <th></th>\n",
       "      <th>plz</th>\n",
       "      <th>restaurant</th>\n",
       "      <th>adresse</th>\n",
       "      <th>web</th>\n",
       "      <th>kontakt</th>\n",
       "      <th>beschreibung</th>\n",
       "      <th>leer</th>\n",
       "    </tr>\n",
       "  </thead>\n",
       "  <tbody>\n",
       "    <tr>\n",
       "      <th>1</th>\n",
       "      <td>8001</td>\n",
       "      <td>Restaurant Au Gratin</td>\n",
       "      <td>Bahnhofplatz 2\\n8001 Zürich</td>\n",
       "      <td>www.augratin.ch</td>\n",
       "      <td>044 221 38 00 \\ninfo@newszh.ch</td>\n",
       "      <td>Unsere glutenfreien Gerichte sind auf der Spei...</td>\n",
       "      <td>NaN</td>\n",
       "    </tr>\n",
       "    <tr>\n",
       "      <th>2</th>\n",
       "      <td>8001</td>\n",
       "      <td>Haus Hiltl</td>\n",
       "      <td>Sihlstrasse 28\\n8001 Zürich</td>\n",
       "      <td>www.hiltl.ch</td>\n",
       "      <td>044 227 70 00\\ninfo@hiltl.ch</td>\n",
       "      <td>Hiltl, das bekannteste vegetarische Restaurant...</td>\n",
       "      <td>NaN</td>\n",
       "    </tr>\n",
       "    <tr>\n",
       "      <th>3</th>\n",
       "      <td>8001</td>\n",
       "      <td>Kunsthausrestaurant\\n(Remimag AG)</td>\n",
       "      <td>Heimplatz 1\\n8001 Zürich</td>\n",
       "      <td>www.kunsthausrestaurant.ch</td>\n",
       "      <td>044 251 53 53\\nkunsthausrestaurant@\\nremimag.ch</td>\n",
       "      <td>Genauso kunterbunt wie die Kunst im nahegelege...</td>\n",
       "      <td>NaN</td>\n",
       "    </tr>\n",
       "  </tbody>\n",
       "</table>\n",
       "</div>"
      ],
      "text/plain": [
       "    plz                         restaurant                      adresse  \\\n",
       "1  8001               Restaurant Au Gratin  Bahnhofplatz 2\\n8001 Zürich   \n",
       "2  8001                         Haus Hiltl  Sihlstrasse 28\\n8001 Zürich   \n",
       "3  8001  Kunsthausrestaurant\\n(Remimag AG)     Heimplatz 1\\n8001 Zürich   \n",
       "\n",
       "                          web  \\\n",
       "1             www.augratin.ch   \n",
       "2                www.hiltl.ch   \n",
       "3  www.kunsthausrestaurant.ch   \n",
       "\n",
       "                                           kontakt  \\\n",
       "1                   044 221 38 00 \\ninfo@newszh.ch   \n",
       "2                     044 227 70 00\\ninfo@hiltl.ch   \n",
       "3  044 251 53 53\\nkunsthausrestaurant@\\nremimag.ch   \n",
       "\n",
       "                                        beschreibung  leer  \n",
       "1  Unsere glutenfreien Gerichte sind auf der Spei...   NaN  \n",
       "2  Hiltl, das bekannteste vegetarische Restaurant...   NaN  \n",
       "3  Genauso kunterbunt wie die Kunst im nahegelege...   NaN  "
      ]
     },
     "execution_count": 6,
     "metadata": {},
     "output_type": "execute_result"
    }
   ],
   "source": [
    "df.head(3)"
   ]
  },
  {
   "cell_type": "code",
   "execution_count": 7,
   "id": "bad6df40",
   "metadata": {},
   "outputs": [
    {
     "data": {
      "text/plain": [
       "plz             15\n",
       "restaurant      15\n",
       "adresse         15\n",
       "web             15\n",
       "kontakt         15\n",
       "beschreibung    15\n",
       "leer             0\n",
       "dtype: int64"
      ]
     },
     "execution_count": 7,
     "metadata": {},
     "output_type": "execute_result"
    }
   ],
   "source": [
    "# Verify number of empty cells\n",
    "df.count()"
   ]
  },
  {
   "cell_type": "code",
   "execution_count": 8,
   "id": "b329828b",
   "metadata": {},
   "outputs": [
    {
     "data": {
      "text/html": [
       "<div>\n",
       "<style scoped>\n",
       "    .dataframe tbody tr th:only-of-type {\n",
       "        vertical-align: middle;\n",
       "    }\n",
       "\n",
       "    .dataframe tbody tr th {\n",
       "        vertical-align: top;\n",
       "    }\n",
       "\n",
       "    .dataframe thead th {\n",
       "        text-align: right;\n",
       "    }\n",
       "</style>\n",
       "<table border=\"1\" class=\"dataframe\">\n",
       "  <thead>\n",
       "    <tr style=\"text-align: right;\">\n",
       "      <th></th>\n",
       "      <th>plz</th>\n",
       "      <th>restaurant</th>\n",
       "      <th>adresse</th>\n",
       "      <th>web</th>\n",
       "      <th>kontakt</th>\n",
       "      <th>beschreibung</th>\n",
       "    </tr>\n",
       "  </thead>\n",
       "  <tbody>\n",
       "    <tr>\n",
       "      <th>1</th>\n",
       "      <td>8001</td>\n",
       "      <td>Restaurant Au Gratin</td>\n",
       "      <td>Bahnhofplatz 2\\n8001 Zürich</td>\n",
       "      <td>www.augratin.ch</td>\n",
       "      <td>044 221 38 00 \\ninfo@newszh.ch</td>\n",
       "      <td>Unsere glutenfreien Gerichte sind auf der Spei...</td>\n",
       "    </tr>\n",
       "    <tr>\n",
       "      <th>2</th>\n",
       "      <td>8001</td>\n",
       "      <td>Haus Hiltl</td>\n",
       "      <td>Sihlstrasse 28\\n8001 Zürich</td>\n",
       "      <td>www.hiltl.ch</td>\n",
       "      <td>044 227 70 00\\ninfo@hiltl.ch</td>\n",
       "      <td>Hiltl, das bekannteste vegetarische Restaurant...</td>\n",
       "    </tr>\n",
       "    <tr>\n",
       "      <th>3</th>\n",
       "      <td>8001</td>\n",
       "      <td>Kunsthausrestaurant\\n(Remimag AG)</td>\n",
       "      <td>Heimplatz 1\\n8001 Zürich</td>\n",
       "      <td>www.kunsthausrestaurant.ch</td>\n",
       "      <td>044 251 53 53\\nkunsthausrestaurant@\\nremimag.ch</td>\n",
       "      <td>Genauso kunterbunt wie die Kunst im nahegelege...</td>\n",
       "    </tr>\n",
       "    <tr>\n",
       "      <th>4</th>\n",
       "      <td>8001</td>\n",
       "      <td>Hitzberger Fastfood natürlich\\nHauptbahnhof Zü...</td>\n",
       "      <td>Take Away Passage Bahnhofstrasse Zürich Shop-V...</td>\n",
       "      <td>www.hitzberger.ch</td>\n",
       "      <td>044 212 37 20 \\n\\n</td>\n",
       "      <td>Das Schnellverpflegungskonzept Hitzberger – Fa...</td>\n",
       "    </tr>\n",
       "    <tr>\n",
       "      <th>5</th>\n",
       "      <td>8005</td>\n",
       "      <td>SamSeS Vegetarisches Restaurant</td>\n",
       "      <td>Langstrasse 231\\n8005 Zürich</td>\n",
       "      <td>www.samses.ch</td>\n",
       "      <td>044 440 13 13</td>\n",
       "      <td>Bei uns geniessen Sie gefüllte Ravioli, Gnocch...</td>\n",
       "    </tr>\n",
       "  </tbody>\n",
       "</table>\n",
       "</div>"
      ],
      "text/plain": [
       "    plz                                         restaurant  \\\n",
       "1  8001                               Restaurant Au Gratin   \n",
       "2  8001                                         Haus Hiltl   \n",
       "3  8001                  Kunsthausrestaurant\\n(Remimag AG)   \n",
       "4  8001  Hitzberger Fastfood natürlich\\nHauptbahnhof Zü...   \n",
       "5  8005                    SamSeS Vegetarisches Restaurant   \n",
       "\n",
       "                                             adresse  \\\n",
       "1                        Bahnhofplatz 2\\n8001 Zürich   \n",
       "2                        Sihlstrasse 28\\n8001 Zürich   \n",
       "3                           Heimplatz 1\\n8001 Zürich   \n",
       "4  Take Away Passage Bahnhofstrasse Zürich Shop-V...   \n",
       "5                       Langstrasse 231\\n8005 Zürich   \n",
       "\n",
       "                          web  \\\n",
       "1             www.augratin.ch   \n",
       "2                www.hiltl.ch   \n",
       "3  www.kunsthausrestaurant.ch   \n",
       "4           www.hitzberger.ch   \n",
       "5               www.samses.ch   \n",
       "\n",
       "                                           kontakt  \\\n",
       "1                   044 221 38 00 \\ninfo@newszh.ch   \n",
       "2                     044 227 70 00\\ninfo@hiltl.ch   \n",
       "3  044 251 53 53\\nkunsthausrestaurant@\\nremimag.ch   \n",
       "4                               044 212 37 20 \\n\\n   \n",
       "5                                    044 440 13 13   \n",
       "\n",
       "                                        beschreibung  \n",
       "1  Unsere glutenfreien Gerichte sind auf der Spei...  \n",
       "2  Hiltl, das bekannteste vegetarische Restaurant...  \n",
       "3  Genauso kunterbunt wie die Kunst im nahegelege...  \n",
       "4  Das Schnellverpflegungskonzept Hitzberger – Fa...  \n",
       "5  Bei uns geniessen Sie gefüllte Ravioli, Gnocch...  "
      ]
     },
     "execution_count": 8,
     "metadata": {},
     "output_type": "execute_result"
    }
   ],
   "source": [
    "# Drop last column ('leer') as it is empty\n",
    "df.drop(['leer'], axis=1,inplace=True)\n",
    "df.head()"
   ]
  },
  {
   "cell_type": "code",
   "execution_count": 9,
   "id": "d4b7bdd8",
   "metadata": {},
   "outputs": [],
   "source": [
    "# Creating a copy of my df to clean up columns with Regex\n",
    "mdf = df.copy()"
   ]
  },
  {
   "cell_type": "code",
   "execution_count": 10,
   "id": "01d08c2d",
   "metadata": {},
   "outputs": [
    {
     "data": {
      "text/html": [
       "<div>\n",
       "<style scoped>\n",
       "    .dataframe tbody tr th:only-of-type {\n",
       "        vertical-align: middle;\n",
       "    }\n",
       "\n",
       "    .dataframe tbody tr th {\n",
       "        vertical-align: top;\n",
       "    }\n",
       "\n",
       "    .dataframe thead th {\n",
       "        text-align: right;\n",
       "    }\n",
       "</style>\n",
       "<table border=\"1\" class=\"dataframe\">\n",
       "  <thead>\n",
       "    <tr style=\"text-align: right;\">\n",
       "      <th></th>\n",
       "      <th>plz</th>\n",
       "      <th>restaurant</th>\n",
       "      <th>adresse</th>\n",
       "      <th>web</th>\n",
       "      <th>kontakt</th>\n",
       "      <th>beschreibung</th>\n",
       "    </tr>\n",
       "  </thead>\n",
       "  <tbody>\n",
       "    <tr>\n",
       "      <th>4</th>\n",
       "      <td>8001</td>\n",
       "      <td>Hitzberger Fastfood natürlich\\nHauptbahnhof Zü...</td>\n",
       "      <td>Take Away Passage Bahnhofstrasse Zürich Shop-V...</td>\n",
       "      <td>www.hitzberger.ch</td>\n",
       "      <td>044 212 37 20 \\n\\n</td>\n",
       "      <td>Das Schnellverpflegungskonzept Hitzberger – Fa...</td>\n",
       "    </tr>\n",
       "  </tbody>\n",
       "</table>\n",
       "</div>"
      ],
      "text/plain": [
       "    plz                                         restaurant  \\\n",
       "4  8001  Hitzberger Fastfood natürlich\\nHauptbahnhof Zü...   \n",
       "\n",
       "                                             adresse                web  \\\n",
       "4  Take Away Passage Bahnhofstrasse Zürich Shop-V...  www.hitzberger.ch   \n",
       "\n",
       "              kontakt                                       beschreibung  \n",
       "4  044 212 37 20 \\n\\n  Das Schnellverpflegungskonzept Hitzberger – Fa...  "
      ]
     },
     "execution_count": 10,
     "metadata": {},
     "output_type": "execute_result"
    }
   ],
   "source": [
    "# Isolate row 4 (Index 3)\n",
    "mdf.iloc[[3]]"
   ]
  },
  {
   "cell_type": "code",
   "execution_count": 11,
   "id": "cb253cda",
   "metadata": {},
   "outputs": [],
   "source": [
    "# Set option to display all characters within a column\n",
    "pd.set_option('display.max_colwidth', None)"
   ]
  },
  {
   "cell_type": "code",
   "execution_count": 12,
   "id": "8d47c22d",
   "metadata": {},
   "outputs": [
    {
     "data": {
      "text/html": [
       "<div>\n",
       "<style scoped>\n",
       "    .dataframe tbody tr th:only-of-type {\n",
       "        vertical-align: middle;\n",
       "    }\n",
       "\n",
       "    .dataframe tbody tr th {\n",
       "        vertical-align: top;\n",
       "    }\n",
       "\n",
       "    .dataframe thead th {\n",
       "        text-align: right;\n",
       "    }\n",
       "</style>\n",
       "<table border=\"1\" class=\"dataframe\">\n",
       "  <thead>\n",
       "    <tr style=\"text-align: right;\">\n",
       "      <th></th>\n",
       "      <th>adresse</th>\n",
       "    </tr>\n",
       "  </thead>\n",
       "  <tbody>\n",
       "    <tr>\n",
       "      <th>4</th>\n",
       "      <td>Take Away Passage Bahnhofstrasse Zürich Shop-Ville Zürich Hauptbahnhof</td>\n",
       "    </tr>\n",
       "  </tbody>\n",
       "</table>\n",
       "</div>"
      ],
      "text/plain": [
       "                                                                  adresse\n",
       "4  Take Away Passage Bahnhofstrasse Zürich Shop-Ville Zürich Hauptbahnhof"
      ]
     },
     "execution_count": 12,
     "metadata": {},
     "output_type": "execute_result"
    }
   ],
   "source": [
    "# Verify it worked\n",
    "mdf[['adresse']].iloc[[3]]"
   ]
  },
  {
   "cell_type": "code",
   "execution_count": 13,
   "id": "a4ecff88",
   "metadata": {},
   "outputs": [
    {
     "data": {
      "text/html": [
       "<div>\n",
       "<style scoped>\n",
       "    .dataframe tbody tr th:only-of-type {\n",
       "        vertical-align: middle;\n",
       "    }\n",
       "\n",
       "    .dataframe tbody tr th {\n",
       "        vertical-align: top;\n",
       "    }\n",
       "\n",
       "    .dataframe thead th {\n",
       "        text-align: right;\n",
       "    }\n",
       "</style>\n",
       "<table border=\"1\" class=\"dataframe\">\n",
       "  <thead>\n",
       "    <tr style=\"text-align: right;\">\n",
       "      <th></th>\n",
       "      <th>plz</th>\n",
       "      <th>restaurant</th>\n",
       "      <th>adresse</th>\n",
       "      <th>web</th>\n",
       "      <th>kontakt</th>\n",
       "      <th>beschreibung</th>\n",
       "    </tr>\n",
       "  </thead>\n",
       "  <tbody>\n",
       "    <tr>\n",
       "      <th>1</th>\n",
       "      <td>8001</td>\n",
       "      <td>Restaurant Au Gratin</td>\n",
       "      <td>Bahnhofplatz 2\\n8001 Zürich</td>\n",
       "      <td>www.augratin.ch</td>\n",
       "      <td>044 221 38 00 \\ninfo@newszh.ch</td>\n",
       "      <td>Unsere glutenfreien Gerichte sind auf der Speisekarte\\ngekennzeichnet. Sie brauchen keine Spezialkarte zu\\nverlangen. Auf unserer Homepage www.augratin.ch können\\nSie die Gerichte anschauen. Dabei sehen Sie, dass wir eine\\ngrosse Auswahl an glutenfreien Gerichten anbieten.</td>\n",
       "    </tr>\n",
       "  </tbody>\n",
       "</table>\n",
       "</div>"
      ],
      "text/plain": [
       "    plz            restaurant                      adresse              web  \\\n",
       "1  8001  Restaurant Au Gratin  Bahnhofplatz 2\\n8001 Zürich  www.augratin.ch   \n",
       "\n",
       "                          kontakt  \\\n",
       "1  044 221 38 00 \\ninfo@newszh.ch   \n",
       "\n",
       "                                                                                                                                                                                                                                                                        beschreibung  \n",
       "1  Unsere glutenfreien Gerichte sind auf der Speisekarte\\ngekennzeichnet. Sie brauchen keine Spezialkarte zu\\nverlangen. Auf unserer Homepage www.augratin.ch können\\nSie die Gerichte anschauen. Dabei sehen Sie, dass wir eine\\ngrosse Auswahl an glutenfreien Gerichten anbieten.  "
      ]
     },
     "execution_count": 13,
     "metadata": {},
     "output_type": "execute_result"
    }
   ],
   "source": [
    "mdf.head(1)"
   ]
  },
  {
   "cell_type": "code",
   "execution_count": 14,
   "id": "34442a87",
   "metadata": {},
   "outputs": [
    {
     "data": {
      "text/plain": [
       "Index(['plz', 'restaurant', 'adresse', 'web', 'kontakt', 'beschreibung'], dtype='object')"
      ]
     },
     "execution_count": 14,
     "metadata": {},
     "output_type": "execute_result"
    }
   ],
   "source": [
    "mdf.columns"
   ]
  },
  {
   "cell_type": "code",
   "execution_count": 15,
   "id": "10ff1aa3",
   "metadata": {},
   "outputs": [],
   "source": [
    "# Replace all new line breaks (\\n) with a space\n",
    "mdf = mdf.replace(r'\\n',' ', regex=True)"
   ]
  },
  {
   "cell_type": "code",
   "execution_count": 16,
   "id": "290ab41d",
   "metadata": {},
   "outputs": [
    {
     "data": {
      "text/html": [
       "<div>\n",
       "<style scoped>\n",
       "    .dataframe tbody tr th:only-of-type {\n",
       "        vertical-align: middle;\n",
       "    }\n",
       "\n",
       "    .dataframe tbody tr th {\n",
       "        vertical-align: top;\n",
       "    }\n",
       "\n",
       "    .dataframe thead th {\n",
       "        text-align: right;\n",
       "    }\n",
       "</style>\n",
       "<table border=\"1\" class=\"dataframe\">\n",
       "  <thead>\n",
       "    <tr style=\"text-align: right;\">\n",
       "      <th></th>\n",
       "      <th>plz</th>\n",
       "      <th>restaurant</th>\n",
       "      <th>adresse</th>\n",
       "      <th>web</th>\n",
       "      <th>kontakt</th>\n",
       "      <th>beschreibung</th>\n",
       "    </tr>\n",
       "  </thead>\n",
       "  <tbody>\n",
       "    <tr>\n",
       "      <th>1</th>\n",
       "      <td>8001</td>\n",
       "      <td>Restaurant Au Gratin</td>\n",
       "      <td>Bahnhofplatz 2 8001 Zürich</td>\n",
       "      <td>www.augratin.ch</td>\n",
       "      <td>044 221 38 00  info@newszh.ch</td>\n",
       "      <td>Unsere glutenfreien Gerichte sind auf der Speisekarte gekennzeichnet. Sie brauchen keine Spezialkarte zu verlangen. Auf unserer Homepage www.augratin.ch können Sie die Gerichte anschauen. Dabei sehen Sie, dass wir eine grosse Auswahl an glutenfreien Gerichten anbieten.</td>\n",
       "    </tr>\n",
       "  </tbody>\n",
       "</table>\n",
       "</div>"
      ],
      "text/plain": [
       "    plz            restaurant                     adresse              web  \\\n",
       "1  8001  Restaurant Au Gratin  Bahnhofplatz 2 8001 Zürich  www.augratin.ch   \n",
       "\n",
       "                         kontakt  \\\n",
       "1  044 221 38 00  info@newszh.ch   \n",
       "\n",
       "                                                                                                                                                                                                                                                                    beschreibung  \n",
       "1  Unsere glutenfreien Gerichte sind auf der Speisekarte gekennzeichnet. Sie brauchen keine Spezialkarte zu verlangen. Auf unserer Homepage www.augratin.ch können Sie die Gerichte anschauen. Dabei sehen Sie, dass wir eine grosse Auswahl an glutenfreien Gerichten anbieten.  "
      ]
     },
     "execution_count": 16,
     "metadata": {},
     "output_type": "execute_result"
    }
   ],
   "source": [
    "mdf.head(1)"
   ]
  },
  {
   "cell_type": "code",
   "execution_count": 17,
   "id": "389215bc",
   "metadata": {},
   "outputs": [
    {
     "data": {
      "text/plain": [
       "'Removing the last 12 charachters in the address string, those are the\\nthe name of the city and the 4 digit post code'"
      ]
     },
     "execution_count": 17,
     "metadata": {},
     "output_type": "execute_result"
    }
   ],
   "source": [
    "'''Removing the last 12 charachters in the address string, those are the\n",
    "the name of the city and the 4 digit post code'''\n",
    "\n",
    "#mdf['adresse'] = mdf['adresse'].str[:-12]"
   ]
  },
  {
   "cell_type": "code",
   "execution_count": 18,
   "id": "d2687278",
   "metadata": {},
   "outputs": [],
   "source": [
    "# Replace all Zürich with a space\n",
    "mdf['adresse'] = mdf['adresse'].replace(r'Zürich',' ', regex=True)"
   ]
  },
  {
   "cell_type": "code",
   "execution_count": 19,
   "id": "db51b3f4",
   "metadata": {},
   "outputs": [
    {
     "data": {
      "text/html": [
       "<div>\n",
       "<style scoped>\n",
       "    .dataframe tbody tr th:only-of-type {\n",
       "        vertical-align: middle;\n",
       "    }\n",
       "\n",
       "    .dataframe tbody tr th {\n",
       "        vertical-align: top;\n",
       "    }\n",
       "\n",
       "    .dataframe thead th {\n",
       "        text-align: right;\n",
       "    }\n",
       "</style>\n",
       "<table border=\"1\" class=\"dataframe\">\n",
       "  <thead>\n",
       "    <tr style=\"text-align: right;\">\n",
       "      <th></th>\n",
       "      <th>plz</th>\n",
       "      <th>restaurant</th>\n",
       "      <th>adresse</th>\n",
       "      <th>web</th>\n",
       "      <th>kontakt</th>\n",
       "      <th>beschreibung</th>\n",
       "    </tr>\n",
       "  </thead>\n",
       "  <tbody>\n",
       "    <tr>\n",
       "      <th>1</th>\n",
       "      <td>8001</td>\n",
       "      <td>Restaurant Au Gratin</td>\n",
       "      <td>Bahnhofplatz 2 8001</td>\n",
       "      <td>www.augratin.ch</td>\n",
       "      <td>044 221 38 00  info@newszh.ch</td>\n",
       "      <td>Unsere glutenfreien Gerichte sind auf der Speisekarte gekennzeichnet. Sie brauchen keine Spezialkarte zu verlangen. Auf unserer Homepage www.augratin.ch können Sie die Gerichte anschauen. Dabei sehen Sie, dass wir eine grosse Auswahl an glutenfreien Gerichten anbieten.</td>\n",
       "    </tr>\n",
       "  </tbody>\n",
       "</table>\n",
       "</div>"
      ],
      "text/plain": [
       "    plz            restaurant                adresse              web  \\\n",
       "1  8001  Restaurant Au Gratin  Bahnhofplatz 2 8001    www.augratin.ch   \n",
       "\n",
       "                         kontakt  \\\n",
       "1  044 221 38 00  info@newszh.ch   \n",
       "\n",
       "                                                                                                                                                                                                                                                                    beschreibung  \n",
       "1  Unsere glutenfreien Gerichte sind auf der Speisekarte gekennzeichnet. Sie brauchen keine Spezialkarte zu verlangen. Auf unserer Homepage www.augratin.ch können Sie die Gerichte anschauen. Dabei sehen Sie, dass wir eine grosse Auswahl an glutenfreien Gerichten anbieten.  "
      ]
     },
     "execution_count": 19,
     "metadata": {},
     "output_type": "execute_result"
    }
   ],
   "source": [
    "mdf.head(1)"
   ]
  },
  {
   "cell_type": "code",
   "execution_count": 20,
   "id": "af3313de",
   "metadata": {},
   "outputs": [],
   "source": [
    "# Replace 4 digits in the address with a blank\n",
    "mdf['adresse'] = mdf.adresse.replace({'\\d{4}':''}, regex=True)"
   ]
  },
  {
   "cell_type": "code",
   "execution_count": 21,
   "id": "13582c40",
   "metadata": {},
   "outputs": [
    {
     "data": {
      "text/html": [
       "<div>\n",
       "<style scoped>\n",
       "    .dataframe tbody tr th:only-of-type {\n",
       "        vertical-align: middle;\n",
       "    }\n",
       "\n",
       "    .dataframe tbody tr th {\n",
       "        vertical-align: top;\n",
       "    }\n",
       "\n",
       "    .dataframe thead th {\n",
       "        text-align: right;\n",
       "    }\n",
       "</style>\n",
       "<table border=\"1\" class=\"dataframe\">\n",
       "  <thead>\n",
       "    <tr style=\"text-align: right;\">\n",
       "      <th></th>\n",
       "      <th>plz</th>\n",
       "      <th>restaurant</th>\n",
       "      <th>adresse</th>\n",
       "      <th>web</th>\n",
       "      <th>kontakt</th>\n",
       "      <th>beschreibung</th>\n",
       "    </tr>\n",
       "  </thead>\n",
       "  <tbody>\n",
       "    <tr>\n",
       "      <th>12</th>\n",
       "      <td>8045</td>\n",
       "      <td>Schützenhaus Albisgütli (Gamag Management AG)</td>\n",
       "      <td>Uetlibergstrasse 341</td>\n",
       "      <td>www.albisguetli.ch</td>\n",
       "      <td>043 333 30 00 info@albisguetli.ch</td>\n",
       "      <td>Kulinarischen Genuss finden Sie bei uns in unterschiedlichen Räumlichkeiten. Geniessen Sie im gediegenen Ambiente unserer Taverne schweizerische Köstlichkeiten. Die Wirtschaft ist der richtige Rahmen für ein üppiges Essen oder den kleinen Imbiss vor dem Konzert. Das Gartenrestaurant und die neue Lounge laden besonders an lauen Sommerabenden zum Verweilen ein. Unter grossen Bäumen, die Schatten spenden, lässt sich die Aussicht über Zürich besonders angenehm geniessen. In unserem Gartenrestaurant erhalten Sie sämtliche Speisen, die Sie auch in den Räumlichkeiten bekommen. Die Lounge mit ihren bequemen Sesseln eignet sich perfekt zum Genuss von kleinen Häppchen, erlesenen Apéro-Weinen oder Champagner. Das Speiseangebot umfasst mittags und abends während den Servicezeiten immer glutenfreie Produkte, unabhängig ob Suppe, Vorspeise oder Hauptgang.</td>\n",
       "    </tr>\n",
       "    <tr>\n",
       "      <th>4</th>\n",
       "      <td>8001</td>\n",
       "      <td>Hitzberger Fastfood natürlich Hauptbahnhof Zürich</td>\n",
       "      <td>Take Away Passage Bahnhofstrasse   Shop-Ville   Hauptbahnhof</td>\n",
       "      <td>www.hitzberger.ch</td>\n",
       "      <td>044 212 37 20</td>\n",
       "      <td>Das Schnellverpflegungskonzept Hitzberger – Fastfood natürlich bietet an folgenden Standorten ein Sortiment an glutenfreien Salaten, Curries, Suppen, Smoothies und Säften sowie Desserts (die glutenfreien Angebote sind entsprechend gekennzeichnet).</td>\n",
       "    </tr>\n",
       "    <tr>\n",
       "      <th>11</th>\n",
       "      <td>8032</td>\n",
       "      <td>Design Hotel Plattenhof  &amp; Restaurant Sento</td>\n",
       "      <td>bergstrasse 19</td>\n",
       "      <td>www.sento.ch</td>\n",
       "      <td>044 251 19 10 restaurant@sento.ch</td>\n",
       "      <td>Das Angebot umfasst verschiedene glutenfreie Fisch- und Fleischgerichte, Salate (z.B. Pouletsalat), glutenfreie Teigwaren und glutenfreies Brot. Das Personal ist bestens informiert. Bitte die Details jeweils bei der Bestellung besprechen.</td>\n",
       "    </tr>\n",
       "    <tr>\n",
       "      <th>15</th>\n",
       "      <td>8057</td>\n",
       "      <td>Kerala Restaurant</td>\n",
       "      <td>Hofwiesenstrasse 188</td>\n",
       "      <td>www.keralarestaurant.ch</td>\n",
       "      <td>044 364 45 77</td>\n",
       "      <td>90 Prozent unseres Angebotes (Fleisch-, Fisch-, Reis- und vegetarische Gerichte) ist glutenfrei. Auch für Personen mit Laktoseintoleranz oder Milchallergie haben wir eine grosse Auswahl. Die glutenfreien Gerichte sind auf der Karte entsprechend vermerkt. Wir haben Erfahrung in der Familie mit Zöliakiebetroffenen, führen aber kein glutenfreies Brot.</td>\n",
       "    </tr>\n",
       "    <tr>\n",
       "      <th>2</th>\n",
       "      <td>8001</td>\n",
       "      <td>Haus Hiltl</td>\n",
       "      <td>Sihlstrasse 28</td>\n",
       "      <td>www.hiltl.ch</td>\n",
       "      <td>044 227 70 00 info@hiltl.ch</td>\n",
       "      <td>Hiltl, das bekannteste vegetarische Restaurant der Schweiz: Ob à la carte Gerichte oder Buffet, alle Speisen sind präzise deklariert und auf der Karte entsprechend gekennzeichnet. Glutenfreies Brot ist vorrätig.</td>\n",
       "    </tr>\n",
       "  </tbody>\n",
       "</table>\n",
       "</div>"
      ],
      "text/plain": [
       "     plz                                         restaurant  \\\n",
       "12  8045      Schützenhaus Albisgütli (Gamag Management AG)   \n",
       "4   8001  Hitzberger Fastfood natürlich Hauptbahnhof Zürich   \n",
       "11  8032        Design Hotel Plattenhof  & Restaurant Sento   \n",
       "15  8057                                 Kerala Restaurant    \n",
       "2   8001                                         Haus Hiltl   \n",
       "\n",
       "                                                         adresse  \\\n",
       "12                                       Uetlibergstrasse 341      \n",
       "4   Take Away Passage Bahnhofstrasse   Shop-Ville   Hauptbahnhof   \n",
       "11                                             bergstrasse 19      \n",
       "15                                       Hofwiesenstrasse 188      \n",
       "2                                              Sihlstrasse 28      \n",
       "\n",
       "                        web                            kontakt  \\\n",
       "12       www.albisguetli.ch  043 333 30 00 info@albisguetli.ch   \n",
       "4         www.hitzberger.ch                   044 212 37 20      \n",
       "11             www.sento.ch  044 251 19 10 restaurant@sento.ch   \n",
       "15  www.keralarestaurant.ch                     044 364 45 77    \n",
       "2              www.hiltl.ch        044 227 70 00 info@hiltl.ch   \n",
       "\n",
       "                                                                                                                                                                                                                                                                                                                                                                                                                                                                                                                                                                                                                                                                                                                                                                                                                                                                             beschreibung  \n",
       "12  Kulinarischen Genuss finden Sie bei uns in unterschiedlichen Räumlichkeiten. Geniessen Sie im gediegenen Ambiente unserer Taverne schweizerische Köstlichkeiten. Die Wirtschaft ist der richtige Rahmen für ein üppiges Essen oder den kleinen Imbiss vor dem Konzert. Das Gartenrestaurant und die neue Lounge laden besonders an lauen Sommerabenden zum Verweilen ein. Unter grossen Bäumen, die Schatten spenden, lässt sich die Aussicht über Zürich besonders angenehm geniessen. In unserem Gartenrestaurant erhalten Sie sämtliche Speisen, die Sie auch in den Räumlichkeiten bekommen. Die Lounge mit ihren bequemen Sesseln eignet sich perfekt zum Genuss von kleinen Häppchen, erlesenen Apéro-Weinen oder Champagner. Das Speiseangebot umfasst mittags und abends während den Servicezeiten immer glutenfreie Produkte, unabhängig ob Suppe, Vorspeise oder Hauptgang.  \n",
       "4                                                                                                                                                                                                                                                                                                                                                                                                                                                                                                                                                                                                                                 Das Schnellverpflegungskonzept Hitzberger – Fastfood natürlich bietet an folgenden Standorten ein Sortiment an glutenfreien Salaten, Curries, Suppen, Smoothies und Säften sowie Desserts (die glutenfreien Angebote sind entsprechend gekennzeichnet).  \n",
       "11                                                                                                                                                                                                                                                                                                                                                                                                                                                                                                                                                                                                                                         Das Angebot umfasst verschiedene glutenfreie Fisch- und Fleischgerichte, Salate (z.B. Pouletsalat), glutenfreie Teigwaren und glutenfreies Brot. Das Personal ist bestens informiert. Bitte die Details jeweils bei der Bestellung besprechen.  \n",
       "15                                                                                                                                                                                                                                                                                                                                                                                                                                                                                                                         90 Prozent unseres Angebotes (Fleisch-, Fisch-, Reis- und vegetarische Gerichte) ist glutenfrei. Auch für Personen mit Laktoseintoleranz oder Milchallergie haben wir eine grosse Auswahl. Die glutenfreien Gerichte sind auf der Karte entsprechend vermerkt. Wir haben Erfahrung in der Familie mit Zöliakiebetroffenen, führen aber kein glutenfreies Brot.  \n",
       "2                                                                                                                                                                                                                                                                                                                                                                                                                                                                                                                                                                                                                                                                     Hiltl, das bekannteste vegetarische Restaurant der Schweiz: Ob à la carte Gerichte oder Buffet, alle Speisen sind präzise deklariert und auf der Karte entsprechend gekennzeichnet. Glutenfreies Brot ist vorrätig.  "
      ]
     },
     "execution_count": 21,
     "metadata": {},
     "output_type": "execute_result"
    }
   ],
   "source": [
    "mdf.sample(5)"
   ]
  },
  {
   "cell_type": "code",
   "execution_count": 22,
   "id": "f921415c",
   "metadata": {},
   "outputs": [
    {
     "name": "stdout",
     "output_type": "stream",
     "text": [
      "<class 'pandas.core.frame.DataFrame'>\n",
      "Int64Index: 15 entries, 1 to 15\n",
      "Data columns (total 6 columns):\n",
      " #   Column        Non-Null Count  Dtype \n",
      "---  ------        --------------  ----- \n",
      " 0   plz           15 non-null     object\n",
      " 1   restaurant    15 non-null     object\n",
      " 2   adresse       15 non-null     object\n",
      " 3   web           15 non-null     object\n",
      " 4   kontakt       15 non-null     object\n",
      " 5   beschreibung  15 non-null     object\n",
      "dtypes: object(6)\n",
      "memory usage: 840.0+ bytes\n"
     ]
    }
   ],
   "source": [
    "mdf.info()"
   ]
  },
  {
   "cell_type": "code",
   "execution_count": 23,
   "id": "e471877d",
   "metadata": {},
   "outputs": [
    {
     "data": {
      "text/html": [
       "<div>\n",
       "<style scoped>\n",
       "    .dataframe tbody tr th:only-of-type {\n",
       "        vertical-align: middle;\n",
       "    }\n",
       "\n",
       "    .dataframe tbody tr th {\n",
       "        vertical-align: top;\n",
       "    }\n",
       "\n",
       "    .dataframe thead th {\n",
       "        text-align: right;\n",
       "    }\n",
       "</style>\n",
       "<table border=\"1\" class=\"dataframe\">\n",
       "  <thead>\n",
       "    <tr style=\"text-align: right;\">\n",
       "      <th></th>\n",
       "      <th>plz</th>\n",
       "      <th>restaurant</th>\n",
       "      <th>adresse</th>\n",
       "      <th>web</th>\n",
       "      <th>kontakt</th>\n",
       "      <th>beschreibung</th>\n",
       "    </tr>\n",
       "  </thead>\n",
       "  <tbody>\n",
       "    <tr>\n",
       "      <th>1</th>\n",
       "      <td>8001</td>\n",
       "      <td>Restaurant Au Gratin</td>\n",
       "      <td>Bahnhofplatz 2</td>\n",
       "      <td>www.augratin.ch</td>\n",
       "      <td>044 221 38 00  info@newszh.ch</td>\n",
       "      <td>Unsere glutenfreien Gerichte sind auf der Speisekarte gekennzeichnet. Sie brauchen keine Spezialkarte zu verlangen. Auf unserer Homepage www.augratin.ch können Sie die Gerichte anschauen. Dabei sehen Sie, dass wir eine grosse Auswahl an glutenfreien Gerichten anbieten.</td>\n",
       "    </tr>\n",
       "    <tr>\n",
       "      <th>3</th>\n",
       "      <td>8001</td>\n",
       "      <td>Kunsthausrestaurant (Remimag AG)</td>\n",
       "      <td>Heimplatz 1</td>\n",
       "      <td>www.kunsthausrestaurant.ch</td>\n",
       "      <td>044 251 53 53 kunsthausrestaurant@ remimag.ch</td>\n",
       "      <td>Genauso kunterbunt wie die Kunst im nahegelegenen Kunsthaus, zeigt sich auch die Gästeschar im Restaurant und das Speiseangebot der Küche. Geprägt wird das alles von einer gelungenen Symbiose zwischen traditionellen und mediterranen Einflüssen. Das Speiseangebot umfasst mittags und abends während den Servicezeiten immer glutenfreie Produkte, unabhängig ob Suppe, Vorspeise oder Hauptgang. Die glutenfreie Pasta kann ganztags bestellt werden und ist über den hauseigenen Mercato auch für daheim erhältlich.</td>\n",
       "    </tr>\n",
       "    <tr>\n",
       "      <th>8</th>\n",
       "      <td>8005</td>\n",
       "      <td>Menu &amp; More AG</td>\n",
       "      <td>Sihlquai 340</td>\n",
       "      <td>www.menuandmore.ch</td>\n",
       "      <td>044 448 26 11 info@menuandmore.ch</td>\n",
       "      <td>Wir bieten Horten und Krippen verschiedene glutenfreie Menükomponenten, die als glutenfrei deklariert sind. Zusätzlich bieten wir als Zusatzsortiment 23 laktose- und glutenfreie Produkte als Einzelportionen verpackt, an (Eiweisskomponenten inkl. Vegi, Saucen, Stärkebeilagen). Bestellung der Mahlzeiten bis 4 Arbeitstage vor dem Menüdatum empfehlenswert.</td>\n",
       "    </tr>\n",
       "    <tr>\n",
       "      <th>13</th>\n",
       "      <td>8045</td>\n",
       "      <td>Hitzberger Fastfood  Zürich Sihlcity</td>\n",
       "      <td>Sihlcity Mall Mitte (Ebene 0)</td>\n",
       "      <td>www.hitzberger.ch</td>\n",
       "      <td>044 201 34 00</td>\n",
       "      <td>Das Schnellverpflegungskonzept Hitzberger – Fastfood natürlich bietet an folgenden Standorten ein Sortiment an glutenfreien Salaten, Curries, Suppen, Smoothies und Säften sowie Desserts (die glutenfreien Angebote sind entsprechend gekennzeichnet).</td>\n",
       "    </tr>\n",
       "  </tbody>\n",
       "</table>\n",
       "</div>"
      ],
      "text/plain": [
       "     plz                            restaurant  \\\n",
       "1   8001                  Restaurant Au Gratin   \n",
       "3   8001      Kunsthausrestaurant (Remimag AG)   \n",
       "8   8005                        Menu & More AG   \n",
       "13  8045  Hitzberger Fastfood  Zürich Sihlcity   \n",
       "\n",
       "                             adresse                         web  \\\n",
       "1                  Bahnhofplatz 2                www.augratin.ch   \n",
       "3                     Heimplatz 1     www.kunsthausrestaurant.ch   \n",
       "8                    Sihlquai 340             www.menuandmore.ch   \n",
       "13  Sihlcity Mall Mitte (Ebene 0)              www.hitzberger.ch   \n",
       "\n",
       "                                          kontakt  \\\n",
       "1                   044 221 38 00  info@newszh.ch   \n",
       "3   044 251 53 53 kunsthausrestaurant@ remimag.ch   \n",
       "8               044 448 26 11 info@menuandmore.ch   \n",
       "13                                  044 201 34 00   \n",
       "\n",
       "                                                                                                                                                                                                                                                                                                                                                                                                                                                                                                                   beschreibung  \n",
       "1                                                                                                                                                                                                                                                 Unsere glutenfreien Gerichte sind auf der Speisekarte gekennzeichnet. Sie brauchen keine Spezialkarte zu verlangen. Auf unserer Homepage www.augratin.ch können Sie die Gerichte anschauen. Dabei sehen Sie, dass wir eine grosse Auswahl an glutenfreien Gerichten anbieten.  \n",
       "3   Genauso kunterbunt wie die Kunst im nahegelegenen Kunsthaus, zeigt sich auch die Gästeschar im Restaurant und das Speiseangebot der Küche. Geprägt wird das alles von einer gelungenen Symbiose zwischen traditionellen und mediterranen Einflüssen. Das Speiseangebot umfasst mittags und abends während den Servicezeiten immer glutenfreie Produkte, unabhängig ob Suppe, Vorspeise oder Hauptgang. Die glutenfreie Pasta kann ganztags bestellt werden und ist über den hauseigenen Mercato auch für daheim erhältlich.  \n",
       "8                                                                                                                                                            Wir bieten Horten und Krippen verschiedene glutenfreie Menükomponenten, die als glutenfrei deklariert sind. Zusätzlich bieten wir als Zusatzsortiment 23 laktose- und glutenfreie Produkte als Einzelportionen verpackt, an (Eiweisskomponenten inkl. Vegi, Saucen, Stärkebeilagen). Bestellung der Mahlzeiten bis 4 Arbeitstage vor dem Menüdatum empfehlenswert.  \n",
       "13                                                                                                                                                                                                                                                                      Das Schnellverpflegungskonzept Hitzberger – Fastfood natürlich bietet an folgenden Standorten ein Sortiment an glutenfreien Salaten, Curries, Suppen, Smoothies und Säften sowie Desserts (die glutenfreien Angebote sind entsprechend gekennzeichnet).  "
      ]
     },
     "execution_count": 23,
     "metadata": {},
     "output_type": "execute_result"
    }
   ],
   "source": [
    "# Find address columns not containing 'strasse'\n",
    "mdf_ns = mdf[~mdf['adresse'].str.contains('strasse')]\n",
    "mdf_ns"
   ]
  },
  {
   "cell_type": "code",
   "execution_count": 28,
   "id": "093022e6",
   "metadata": {},
   "outputs": [],
   "source": [
    "# Replace current text in row 13 with the adress of the mall\n",
    "mdf.loc[13,'adresse'] = 'Kalandarplatz 1'"
   ]
  },
  {
   "cell_type": "code",
   "execution_count": 30,
   "id": "00f9be6e",
   "metadata": {},
   "outputs": [
    {
     "data": {
      "text/plain": [
       "'Kalandarplatz 1'"
      ]
     },
     "execution_count": 30,
     "metadata": {},
     "output_type": "execute_result"
    }
   ],
   "source": [
    "# Verify change\n",
    "mdf.loc[13,'adresse']"
   ]
  },
  {
   "cell_type": "code",
   "execution_count": 80,
   "id": "b946041e",
   "metadata": {},
   "outputs": [
    {
     "data": {
      "text/html": [
       "<div>\n",
       "<style scoped>\n",
       "    .dataframe tbody tr th:only-of-type {\n",
       "        vertical-align: middle;\n",
       "    }\n",
       "\n",
       "    .dataframe tbody tr th {\n",
       "        vertical-align: top;\n",
       "    }\n",
       "\n",
       "    .dataframe thead th {\n",
       "        text-align: right;\n",
       "    }\n",
       "</style>\n",
       "<table border=\"1\" class=\"dataframe\">\n",
       "  <thead>\n",
       "    <tr style=\"text-align: right;\">\n",
       "      <th></th>\n",
       "      <th>plz</th>\n",
       "      <th>restaurant</th>\n",
       "      <th>adresse</th>\n",
       "      <th>web</th>\n",
       "      <th>kontakt</th>\n",
       "      <th>beschreibung</th>\n",
       "    </tr>\n",
       "  </thead>\n",
       "  <tbody>\n",
       "    <tr>\n",
       "      <th>4</th>\n",
       "      <td>8001</td>\n",
       "      <td>Hitzberger Fastfood natürlich Hauptbahnhof Zürich</td>\n",
       "      <td>Take Away Passage Bahnhofstrasse   Shop-Ville   Hauptbahnhof</td>\n",
       "      <td>www.hitzberger.ch</td>\n",
       "      <td>044 212 37 20</td>\n",
       "      <td>Das Schnellverpflegungskonzept Hitzberger – Fastfood natürlich bietet an folgenden Standorten ein Sortiment an glutenfreien Salaten, Curries, Suppen, Smoothies und Säften sowie Desserts (die glutenfreien Angebote sind entsprechend gekennzeichnet).</td>\n",
       "    </tr>\n",
       "  </tbody>\n",
       "</table>\n",
       "</div>"
      ],
      "text/plain": [
       "    plz                                         restaurant  \\\n",
       "4  8001  Hitzberger Fastfood natürlich Hauptbahnhof Zürich   \n",
       "\n",
       "                                                        adresse  \\\n",
       "4  Take Away Passage Bahnhofstrasse   Shop-Ville   Hauptbahnhof   \n",
       "\n",
       "                 web           kontakt  \\\n",
       "4  www.hitzberger.ch  044 212 37 20      \n",
       "\n",
       "                                                                                                                                                                                                                                              beschreibung  \n",
       "4  Das Schnellverpflegungskonzept Hitzberger – Fastfood natürlich bietet an folgenden Standorten ein Sortiment an glutenfreien Salaten, Curries, Suppen, Smoothies und Säften sowie Desserts (die glutenfreien Angebote sind entsprechend gekennzeichnet).  "
      ]
     },
     "execution_count": 80,
     "metadata": {},
     "output_type": "execute_result"
    }
   ],
   "source": [
    "# Using regex to find adresse inputs without street numbers\n",
    "mdf[~mdf['adresse'].str.contains('\\\\d', regex=True)]"
   ]
  },
  {
   "cell_type": "code",
   "execution_count": null,
   "id": "5f6f5f09",
   "metadata": {},
   "outputs": [],
   "source": []
  },
  {
   "cell_type": "code",
   "execution_count": null,
   "id": "38b2a2e8",
   "metadata": {},
   "outputs": [],
   "source": []
  },
  {
   "cell_type": "code",
   "execution_count": null,
   "id": "f071cbc2",
   "metadata": {},
   "outputs": [],
   "source": []
  },
  {
   "cell_type": "code",
   "execution_count": null,
   "id": "f13116cf",
   "metadata": {},
   "outputs": [],
   "source": []
  }
 ],
 "metadata": {
  "kernelspec": {
   "display_name": "Python 3 (ipykernel)",
   "language": "python",
   "name": "python3"
  },
  "language_info": {
   "codemirror_mode": {
    "name": "ipython",
    "version": 3
   },
   "file_extension": ".py",
   "mimetype": "text/x-python",
   "name": "python",
   "nbconvert_exporter": "python",
   "pygments_lexer": "ipython3",
   "version": "3.9.7"
  }
 },
 "nbformat": 4,
 "nbformat_minor": 5
}
