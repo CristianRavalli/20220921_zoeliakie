{
 "cells": [
  {
   "cell_type": "markdown",
   "id": "67fd2735",
   "metadata": {},
   "source": [
    "# Data Cleaning workin in progress..."
   ]
  },
  {
   "cell_type": "code",
   "execution_count": 1,
   "id": "84ebcad9-15fb-48f9-a61a-85793a8da670",
   "metadata": {},
   "outputs": [],
   "source": [
    "# Importing libraries\n",
    "import pandas as pd\n",
    "import numpy as np\n",
    "import re"
   ]
  },
  {
   "cell_type": "markdown",
   "id": "01f992a8",
   "metadata": {},
   "source": [
    "## Import CSV"
   ]
  },
  {
   "cell_type": "code",
   "execution_count": 2,
   "id": "b34a4390",
   "metadata": {},
   "outputs": [
    {
     "data": {
      "text/html": [
       "<div>\n",
       "<style scoped>\n",
       "    .dataframe tbody tr th:only-of-type {\n",
       "        vertical-align: middle;\n",
       "    }\n",
       "\n",
       "    .dataframe tbody tr th {\n",
       "        vertical-align: top;\n",
       "    }\n",
       "\n",
       "    .dataframe thead th {\n",
       "        text-align: right;\n",
       "    }\n",
       "</style>\n",
       "<table border=\"1\" class=\"dataframe\">\n",
       "  <thead>\n",
       "    <tr style=\"text-align: right;\">\n",
       "      <th></th>\n",
       "      <th>0</th>\n",
       "      <th>1</th>\n",
       "      <th>2</th>\n",
       "      <th>3</th>\n",
       "      <th>4</th>\n",
       "      <th>5</th>\n",
       "      <th>6</th>\n",
       "    </tr>\n",
       "  </thead>\n",
       "  <tbody>\n",
       "    <tr>\n",
       "      <th>0</th>\n",
       "      <td>Unsere Gastronomiemitglieder haben mit uns ein...</td>\n",
       "      <td>NaN</td>\n",
       "      <td>NaN</td>\n",
       "      <td>NaN</td>\n",
       "      <td>NaN</td>\n",
       "      <td>NaN</td>\n",
       "      <td>NaN</td>\n",
       "    </tr>\n",
       "    <tr>\n",
       "      <th>1</th>\n",
       "      <td>8001</td>\n",
       "      <td>Restaurant Au Gratin</td>\n",
       "      <td>Bahnhofplatz 2\\n8001 Zürich</td>\n",
       "      <td>www.augratin.ch</td>\n",
       "      <td>044 221 38 00 \\ninfo@newszh.ch</td>\n",
       "      <td>Unsere glutenfreien Gerichte sind auf der Spei...</td>\n",
       "      <td>NaN</td>\n",
       "    </tr>\n",
       "    <tr>\n",
       "      <th>2</th>\n",
       "      <td>8001</td>\n",
       "      <td>Haus Hiltl</td>\n",
       "      <td>Sihlstrasse 28\\n8001 Zürich</td>\n",
       "      <td>www.hiltl.ch</td>\n",
       "      <td>044 227 70 00\\ninfo@hiltl.ch</td>\n",
       "      <td>Hiltl, das bekannteste vegetarische Restaurant...</td>\n",
       "      <td>NaN</td>\n",
       "    </tr>\n",
       "  </tbody>\n",
       "</table>\n",
       "</div>"
      ],
      "text/plain": [
       "                                                   0                     1  \\\n",
       "0  Unsere Gastronomiemitglieder haben mit uns ein...                   NaN   \n",
       "1                                               8001  Restaurant Au Gratin   \n",
       "2                                               8001            Haus Hiltl   \n",
       "\n",
       "                             2                3  \\\n",
       "0                          NaN              NaN   \n",
       "1  Bahnhofplatz 2\\n8001 Zürich  www.augratin.ch   \n",
       "2  Sihlstrasse 28\\n8001 Zürich     www.hiltl.ch   \n",
       "\n",
       "                                4  \\\n",
       "0                             NaN   \n",
       "1  044 221 38 00 \\ninfo@newszh.ch   \n",
       "2    044 227 70 00\\ninfo@hiltl.ch   \n",
       "\n",
       "                                                   5   6  \n",
       "0                                                NaN NaN  \n",
       "1  Unsere glutenfreien Gerichte sind auf der Spei... NaN  \n",
       "2  Hiltl, das bekannteste vegetarische Restaurant... NaN  "
      ]
     },
     "execution_count": 2,
     "metadata": {},
     "output_type": "execute_result"
    }
   ],
   "source": [
    "# Read csv while removing header as no header in original file\n",
    "df = pd.read_csv('zuerich_csv.csv',header=None)\n",
    "df.head(3)"
   ]
  },
  {
   "cell_type": "code",
   "execution_count": 3,
   "id": "7ecb6b70",
   "metadata": {},
   "outputs": [
    {
     "data": {
      "text/html": [
       "<div>\n",
       "<style scoped>\n",
       "    .dataframe tbody tr th:only-of-type {\n",
       "        vertical-align: middle;\n",
       "    }\n",
       "\n",
       "    .dataframe tbody tr th {\n",
       "        vertical-align: top;\n",
       "    }\n",
       "\n",
       "    .dataframe thead th {\n",
       "        text-align: right;\n",
       "    }\n",
       "</style>\n",
       "<table border=\"1\" class=\"dataframe\">\n",
       "  <thead>\n",
       "    <tr style=\"text-align: right;\">\n",
       "      <th></th>\n",
       "      <th>0</th>\n",
       "      <th>1</th>\n",
       "      <th>2</th>\n",
       "      <th>3</th>\n",
       "      <th>4</th>\n",
       "      <th>5</th>\n",
       "      <th>6</th>\n",
       "    </tr>\n",
       "  </thead>\n",
       "  <tbody>\n",
       "    <tr>\n",
       "      <th>0</th>\n",
       "      <td>Unsere Gastronomiemitglieder haben mit uns ein...</td>\n",
       "      <td>NaN</td>\n",
       "      <td>NaN</td>\n",
       "      <td>NaN</td>\n",
       "      <td>NaN</td>\n",
       "      <td>NaN</td>\n",
       "      <td>NaN</td>\n",
       "    </tr>\n",
       "  </tbody>\n",
       "</table>\n",
       "</div>"
      ],
      "text/plain": [
       "                                                   0    1    2    3    4    5  \\\n",
       "0  Unsere Gastronomiemitglieder haben mit uns ein...  NaN  NaN  NaN  NaN  NaN   \n",
       "\n",
       "    6  \n",
       "0 NaN  "
      ]
     },
     "execution_count": 3,
     "metadata": {},
     "output_type": "execute_result"
    }
   ],
   "source": [
    "df.head(1)"
   ]
  },
  {
   "cell_type": "code",
   "execution_count": 4,
   "id": "8b4cb26f",
   "metadata": {},
   "outputs": [
    {
     "data": {
      "text/html": [
       "<div>\n",
       "<style scoped>\n",
       "    .dataframe tbody tr th:only-of-type {\n",
       "        vertical-align: middle;\n",
       "    }\n",
       "\n",
       "    .dataframe tbody tr th {\n",
       "        vertical-align: top;\n",
       "    }\n",
       "\n",
       "    .dataframe thead th {\n",
       "        text-align: right;\n",
       "    }\n",
       "</style>\n",
       "<table border=\"1\" class=\"dataframe\">\n",
       "  <thead>\n",
       "    <tr style=\"text-align: right;\">\n",
       "      <th></th>\n",
       "      <th>0</th>\n",
       "      <th>1</th>\n",
       "      <th>2</th>\n",
       "      <th>3</th>\n",
       "      <th>4</th>\n",
       "      <th>5</th>\n",
       "      <th>6</th>\n",
       "    </tr>\n",
       "  </thead>\n",
       "  <tbody>\n",
       "    <tr>\n",
       "      <th>1</th>\n",
       "      <td>8001</td>\n",
       "      <td>Restaurant Au Gratin</td>\n",
       "      <td>Bahnhofplatz 2\\n8001 Zürich</td>\n",
       "      <td>www.augratin.ch</td>\n",
       "      <td>044 221 38 00 \\ninfo@newszh.ch</td>\n",
       "      <td>Unsere glutenfreien Gerichte sind auf der Spei...</td>\n",
       "      <td>NaN</td>\n",
       "    </tr>\n",
       "    <tr>\n",
       "      <th>2</th>\n",
       "      <td>8001</td>\n",
       "      <td>Haus Hiltl</td>\n",
       "      <td>Sihlstrasse 28\\n8001 Zürich</td>\n",
       "      <td>www.hiltl.ch</td>\n",
       "      <td>044 227 70 00\\ninfo@hiltl.ch</td>\n",
       "      <td>Hiltl, das bekannteste vegetarische Restaurant...</td>\n",
       "      <td>NaN</td>\n",
       "    </tr>\n",
       "    <tr>\n",
       "      <th>3</th>\n",
       "      <td>8001</td>\n",
       "      <td>Kunsthausrestaurant\\n(Remimag AG)</td>\n",
       "      <td>Heimplatz 1\\n8001 Zürich</td>\n",
       "      <td>www.kunsthausrestaurant.ch</td>\n",
       "      <td>044 251 53 53\\nkunsthausrestaurant@\\nremimag.ch</td>\n",
       "      <td>Genauso kunterbunt wie die Kunst im nahegelege...</td>\n",
       "      <td>NaN</td>\n",
       "    </tr>\n",
       "    <tr>\n",
       "      <th>4</th>\n",
       "      <td>8001</td>\n",
       "      <td>Hitzberger Fastfood natürlich\\nHauptbahnhof Zü...</td>\n",
       "      <td>Take Away Passage Bahnhofstrasse Zürich Shop-V...</td>\n",
       "      <td>www.hitzberger.ch</td>\n",
       "      <td>044 212 37 20 \\n\\n</td>\n",
       "      <td>Das Schnellverpflegungskonzept Hitzberger – Fa...</td>\n",
       "      <td>NaN</td>\n",
       "    </tr>\n",
       "    <tr>\n",
       "      <th>5</th>\n",
       "      <td>8005</td>\n",
       "      <td>SamSeS Vegetarisches Restaurant</td>\n",
       "      <td>Langstrasse 231\\n8005 Zürich</td>\n",
       "      <td>www.samses.ch</td>\n",
       "      <td>044 440 13 13</td>\n",
       "      <td>Bei uns geniessen Sie gefüllte Ravioli, Gnocch...</td>\n",
       "      <td>NaN</td>\n",
       "    </tr>\n",
       "  </tbody>\n",
       "</table>\n",
       "</div>"
      ],
      "text/plain": [
       "      0                                                  1  \\\n",
       "1  8001                               Restaurant Au Gratin   \n",
       "2  8001                                         Haus Hiltl   \n",
       "3  8001                  Kunsthausrestaurant\\n(Remimag AG)   \n",
       "4  8001  Hitzberger Fastfood natürlich\\nHauptbahnhof Zü...   \n",
       "5  8005                    SamSeS Vegetarisches Restaurant   \n",
       "\n",
       "                                                   2  \\\n",
       "1                        Bahnhofplatz 2\\n8001 Zürich   \n",
       "2                        Sihlstrasse 28\\n8001 Zürich   \n",
       "3                           Heimplatz 1\\n8001 Zürich   \n",
       "4  Take Away Passage Bahnhofstrasse Zürich Shop-V...   \n",
       "5                       Langstrasse 231\\n8005 Zürich   \n",
       "\n",
       "                            3  \\\n",
       "1             www.augratin.ch   \n",
       "2                www.hiltl.ch   \n",
       "3  www.kunsthausrestaurant.ch   \n",
       "4           www.hitzberger.ch   \n",
       "5               www.samses.ch   \n",
       "\n",
       "                                                 4  \\\n",
       "1                   044 221 38 00 \\ninfo@newszh.ch   \n",
       "2                     044 227 70 00\\ninfo@hiltl.ch   \n",
       "3  044 251 53 53\\nkunsthausrestaurant@\\nremimag.ch   \n",
       "4                               044 212 37 20 \\n\\n   \n",
       "5                                    044 440 13 13   \n",
       "\n",
       "                                                   5   6  \n",
       "1  Unsere glutenfreien Gerichte sind auf der Spei... NaN  \n",
       "2  Hiltl, das bekannteste vegetarische Restaurant... NaN  \n",
       "3  Genauso kunterbunt wie die Kunst im nahegelege... NaN  \n",
       "4  Das Schnellverpflegungskonzept Hitzberger – Fa... NaN  \n",
       "5  Bei uns geniessen Sie gefüllte Ravioli, Gnocch... NaN  "
      ]
     },
     "execution_count": 4,
     "metadata": {},
     "output_type": "execute_result"
    }
   ],
   "source": [
    "# Drop first row as description and NaN only\n",
    "df = df.drop(0)\n",
    "df.head()"
   ]
  },
  {
   "cell_type": "code",
   "execution_count": 5,
   "id": "cfee1bb8",
   "metadata": {},
   "outputs": [],
   "source": [
    "# Rename all columns\n",
    "df.rename(columns = {0:'plz',1:'restaurant',2:'adresse',\n",
    "                    3:'web',4:'kontakt',5:'beschreibung',6:'leer'},\n",
    "          inplace=True)\n",
    "\n",
    "#df.head()\n"
   ]
  },
  {
   "cell_type": "code",
   "execution_count": 6,
   "id": "d4e555de",
   "metadata": {},
   "outputs": [
    {
     "data": {
      "text/html": [
       "<div>\n",
       "<style scoped>\n",
       "    .dataframe tbody tr th:only-of-type {\n",
       "        vertical-align: middle;\n",
       "    }\n",
       "\n",
       "    .dataframe tbody tr th {\n",
       "        vertical-align: top;\n",
       "    }\n",
       "\n",
       "    .dataframe thead th {\n",
       "        text-align: right;\n",
       "    }\n",
       "</style>\n",
       "<table border=\"1\" class=\"dataframe\">\n",
       "  <thead>\n",
       "    <tr style=\"text-align: right;\">\n",
       "      <th></th>\n",
       "      <th>plz</th>\n",
       "      <th>restaurant</th>\n",
       "      <th>adresse</th>\n",
       "      <th>web</th>\n",
       "      <th>kontakt</th>\n",
       "      <th>beschreibung</th>\n",
       "      <th>leer</th>\n",
       "    </tr>\n",
       "  </thead>\n",
       "  <tbody>\n",
       "    <tr>\n",
       "      <th>1</th>\n",
       "      <td>8001</td>\n",
       "      <td>Restaurant Au Gratin</td>\n",
       "      <td>Bahnhofplatz 2\\n8001 Zürich</td>\n",
       "      <td>www.augratin.ch</td>\n",
       "      <td>044 221 38 00 \\ninfo@newszh.ch</td>\n",
       "      <td>Unsere glutenfreien Gerichte sind auf der Spei...</td>\n",
       "      <td>NaN</td>\n",
       "    </tr>\n",
       "    <tr>\n",
       "      <th>2</th>\n",
       "      <td>8001</td>\n",
       "      <td>Haus Hiltl</td>\n",
       "      <td>Sihlstrasse 28\\n8001 Zürich</td>\n",
       "      <td>www.hiltl.ch</td>\n",
       "      <td>044 227 70 00\\ninfo@hiltl.ch</td>\n",
       "      <td>Hiltl, das bekannteste vegetarische Restaurant...</td>\n",
       "      <td>NaN</td>\n",
       "    </tr>\n",
       "    <tr>\n",
       "      <th>3</th>\n",
       "      <td>8001</td>\n",
       "      <td>Kunsthausrestaurant\\n(Remimag AG)</td>\n",
       "      <td>Heimplatz 1\\n8001 Zürich</td>\n",
       "      <td>www.kunsthausrestaurant.ch</td>\n",
       "      <td>044 251 53 53\\nkunsthausrestaurant@\\nremimag.ch</td>\n",
       "      <td>Genauso kunterbunt wie die Kunst im nahegelege...</td>\n",
       "      <td>NaN</td>\n",
       "    </tr>\n",
       "  </tbody>\n",
       "</table>\n",
       "</div>"
      ],
      "text/plain": [
       "    plz                         restaurant                      adresse  \\\n",
       "1  8001               Restaurant Au Gratin  Bahnhofplatz 2\\n8001 Zürich   \n",
       "2  8001                         Haus Hiltl  Sihlstrasse 28\\n8001 Zürich   \n",
       "3  8001  Kunsthausrestaurant\\n(Remimag AG)     Heimplatz 1\\n8001 Zürich   \n",
       "\n",
       "                          web  \\\n",
       "1             www.augratin.ch   \n",
       "2                www.hiltl.ch   \n",
       "3  www.kunsthausrestaurant.ch   \n",
       "\n",
       "                                           kontakt  \\\n",
       "1                   044 221 38 00 \\ninfo@newszh.ch   \n",
       "2                     044 227 70 00\\ninfo@hiltl.ch   \n",
       "3  044 251 53 53\\nkunsthausrestaurant@\\nremimag.ch   \n",
       "\n",
       "                                        beschreibung  leer  \n",
       "1  Unsere glutenfreien Gerichte sind auf der Spei...   NaN  \n",
       "2  Hiltl, das bekannteste vegetarische Restaurant...   NaN  \n",
       "3  Genauso kunterbunt wie die Kunst im nahegelege...   NaN  "
      ]
     },
     "execution_count": 6,
     "metadata": {},
     "output_type": "execute_result"
    }
   ],
   "source": [
    "df.head(3)"
   ]
  },
  {
   "cell_type": "code",
   "execution_count": 7,
   "id": "bad6df40",
   "metadata": {},
   "outputs": [
    {
     "data": {
      "text/plain": [
       "plz             15\n",
       "restaurant      15\n",
       "adresse         15\n",
       "web             15\n",
       "kontakt         15\n",
       "beschreibung    15\n",
       "leer             0\n",
       "dtype: int64"
      ]
     },
     "execution_count": 7,
     "metadata": {},
     "output_type": "execute_result"
    }
   ],
   "source": [
    "# Verify number of empty cells\n",
    "df.count()"
   ]
  },
  {
   "cell_type": "code",
   "execution_count": 8,
   "id": "b329828b",
   "metadata": {},
   "outputs": [
    {
     "data": {
      "text/html": [
       "<div>\n",
       "<style scoped>\n",
       "    .dataframe tbody tr th:only-of-type {\n",
       "        vertical-align: middle;\n",
       "    }\n",
       "\n",
       "    .dataframe tbody tr th {\n",
       "        vertical-align: top;\n",
       "    }\n",
       "\n",
       "    .dataframe thead th {\n",
       "        text-align: right;\n",
       "    }\n",
       "</style>\n",
       "<table border=\"1\" class=\"dataframe\">\n",
       "  <thead>\n",
       "    <tr style=\"text-align: right;\">\n",
       "      <th></th>\n",
       "      <th>plz</th>\n",
       "      <th>restaurant</th>\n",
       "      <th>adresse</th>\n",
       "      <th>web</th>\n",
       "      <th>kontakt</th>\n",
       "      <th>beschreibung</th>\n",
       "    </tr>\n",
       "  </thead>\n",
       "  <tbody>\n",
       "    <tr>\n",
       "      <th>1</th>\n",
       "      <td>8001</td>\n",
       "      <td>Restaurant Au Gratin</td>\n",
       "      <td>Bahnhofplatz 2\\n8001 Zürich</td>\n",
       "      <td>www.augratin.ch</td>\n",
       "      <td>044 221 38 00 \\ninfo@newszh.ch</td>\n",
       "      <td>Unsere glutenfreien Gerichte sind auf der Spei...</td>\n",
       "    </tr>\n",
       "    <tr>\n",
       "      <th>2</th>\n",
       "      <td>8001</td>\n",
       "      <td>Haus Hiltl</td>\n",
       "      <td>Sihlstrasse 28\\n8001 Zürich</td>\n",
       "      <td>www.hiltl.ch</td>\n",
       "      <td>044 227 70 00\\ninfo@hiltl.ch</td>\n",
       "      <td>Hiltl, das bekannteste vegetarische Restaurant...</td>\n",
       "    </tr>\n",
       "    <tr>\n",
       "      <th>3</th>\n",
       "      <td>8001</td>\n",
       "      <td>Kunsthausrestaurant\\n(Remimag AG)</td>\n",
       "      <td>Heimplatz 1\\n8001 Zürich</td>\n",
       "      <td>www.kunsthausrestaurant.ch</td>\n",
       "      <td>044 251 53 53\\nkunsthausrestaurant@\\nremimag.ch</td>\n",
       "      <td>Genauso kunterbunt wie die Kunst im nahegelege...</td>\n",
       "    </tr>\n",
       "    <tr>\n",
       "      <th>4</th>\n",
       "      <td>8001</td>\n",
       "      <td>Hitzberger Fastfood natürlich\\nHauptbahnhof Zü...</td>\n",
       "      <td>Take Away Passage Bahnhofstrasse Zürich Shop-V...</td>\n",
       "      <td>www.hitzberger.ch</td>\n",
       "      <td>044 212 37 20 \\n\\n</td>\n",
       "      <td>Das Schnellverpflegungskonzept Hitzberger – Fa...</td>\n",
       "    </tr>\n",
       "    <tr>\n",
       "      <th>5</th>\n",
       "      <td>8005</td>\n",
       "      <td>SamSeS Vegetarisches Restaurant</td>\n",
       "      <td>Langstrasse 231\\n8005 Zürich</td>\n",
       "      <td>www.samses.ch</td>\n",
       "      <td>044 440 13 13</td>\n",
       "      <td>Bei uns geniessen Sie gefüllte Ravioli, Gnocch...</td>\n",
       "    </tr>\n",
       "  </tbody>\n",
       "</table>\n",
       "</div>"
      ],
      "text/plain": [
       "    plz                                         restaurant  \\\n",
       "1  8001                               Restaurant Au Gratin   \n",
       "2  8001                                         Haus Hiltl   \n",
       "3  8001                  Kunsthausrestaurant\\n(Remimag AG)   \n",
       "4  8001  Hitzberger Fastfood natürlich\\nHauptbahnhof Zü...   \n",
       "5  8005                    SamSeS Vegetarisches Restaurant   \n",
       "\n",
       "                                             adresse  \\\n",
       "1                        Bahnhofplatz 2\\n8001 Zürich   \n",
       "2                        Sihlstrasse 28\\n8001 Zürich   \n",
       "3                           Heimplatz 1\\n8001 Zürich   \n",
       "4  Take Away Passage Bahnhofstrasse Zürich Shop-V...   \n",
       "5                       Langstrasse 231\\n8005 Zürich   \n",
       "\n",
       "                          web  \\\n",
       "1             www.augratin.ch   \n",
       "2                www.hiltl.ch   \n",
       "3  www.kunsthausrestaurant.ch   \n",
       "4           www.hitzberger.ch   \n",
       "5               www.samses.ch   \n",
       "\n",
       "                                           kontakt  \\\n",
       "1                   044 221 38 00 \\ninfo@newszh.ch   \n",
       "2                     044 227 70 00\\ninfo@hiltl.ch   \n",
       "3  044 251 53 53\\nkunsthausrestaurant@\\nremimag.ch   \n",
       "4                               044 212 37 20 \\n\\n   \n",
       "5                                    044 440 13 13   \n",
       "\n",
       "                                        beschreibung  \n",
       "1  Unsere glutenfreien Gerichte sind auf der Spei...  \n",
       "2  Hiltl, das bekannteste vegetarische Restaurant...  \n",
       "3  Genauso kunterbunt wie die Kunst im nahegelege...  \n",
       "4  Das Schnellverpflegungskonzept Hitzberger – Fa...  \n",
       "5  Bei uns geniessen Sie gefüllte Ravioli, Gnocch...  "
      ]
     },
     "execution_count": 8,
     "metadata": {},
     "output_type": "execute_result"
    }
   ],
   "source": [
    "# Drop last column ('leer') as it is empty\n",
    "df.drop(['leer'], axis=1,inplace=True)\n",
    "df.head()"
   ]
  },
  {
   "cell_type": "code",
   "execution_count": 9,
   "id": "d4b7bdd8",
   "metadata": {},
   "outputs": [],
   "source": [
    "# Creating a copy of my df to clean up columns with Regex\n",
    "mdf = df.copy()"
   ]
  },
  {
   "cell_type": "code",
   "execution_count": 10,
   "id": "01d08c2d",
   "metadata": {},
   "outputs": [
    {
     "data": {
      "text/html": [
       "<div>\n",
       "<style scoped>\n",
       "    .dataframe tbody tr th:only-of-type {\n",
       "        vertical-align: middle;\n",
       "    }\n",
       "\n",
       "    .dataframe tbody tr th {\n",
       "        vertical-align: top;\n",
       "    }\n",
       "\n",
       "    .dataframe thead th {\n",
       "        text-align: right;\n",
       "    }\n",
       "</style>\n",
       "<table border=\"1\" class=\"dataframe\">\n",
       "  <thead>\n",
       "    <tr style=\"text-align: right;\">\n",
       "      <th></th>\n",
       "      <th>plz</th>\n",
       "      <th>restaurant</th>\n",
       "      <th>adresse</th>\n",
       "      <th>web</th>\n",
       "      <th>kontakt</th>\n",
       "      <th>beschreibung</th>\n",
       "    </tr>\n",
       "  </thead>\n",
       "  <tbody>\n",
       "    <tr>\n",
       "      <th>4</th>\n",
       "      <td>8001</td>\n",
       "      <td>Hitzberger Fastfood natürlich\\nHauptbahnhof Zü...</td>\n",
       "      <td>Take Away Passage Bahnhofstrasse Zürich Shop-V...</td>\n",
       "      <td>www.hitzberger.ch</td>\n",
       "      <td>044 212 37 20 \\n\\n</td>\n",
       "      <td>Das Schnellverpflegungskonzept Hitzberger – Fa...</td>\n",
       "    </tr>\n",
       "  </tbody>\n",
       "</table>\n",
       "</div>"
      ],
      "text/plain": [
       "    plz                                         restaurant  \\\n",
       "4  8001  Hitzberger Fastfood natürlich\\nHauptbahnhof Zü...   \n",
       "\n",
       "                                             adresse                web  \\\n",
       "4  Take Away Passage Bahnhofstrasse Zürich Shop-V...  www.hitzberger.ch   \n",
       "\n",
       "              kontakt                                       beschreibung  \n",
       "4  044 212 37 20 \\n\\n  Das Schnellverpflegungskonzept Hitzberger – Fa...  "
      ]
     },
     "execution_count": 10,
     "metadata": {},
     "output_type": "execute_result"
    }
   ],
   "source": [
    "# Isolate row 4 (Index 3)\n",
    "mdf.iloc[[3]]"
   ]
  },
  {
   "cell_type": "code",
   "execution_count": 11,
   "id": "cb253cda",
   "metadata": {},
   "outputs": [],
   "source": [
    "# Set option to display all characters within a column\n",
    "pd.set_option('display.max_colwidth', None)"
   ]
  },
  {
   "cell_type": "code",
   "execution_count": 12,
   "id": "8d47c22d",
   "metadata": {},
   "outputs": [
    {
     "data": {
      "text/html": [
       "<div>\n",
       "<style scoped>\n",
       "    .dataframe tbody tr th:only-of-type {\n",
       "        vertical-align: middle;\n",
       "    }\n",
       "\n",
       "    .dataframe tbody tr th {\n",
       "        vertical-align: top;\n",
       "    }\n",
       "\n",
       "    .dataframe thead th {\n",
       "        text-align: right;\n",
       "    }\n",
       "</style>\n",
       "<table border=\"1\" class=\"dataframe\">\n",
       "  <thead>\n",
       "    <tr style=\"text-align: right;\">\n",
       "      <th></th>\n",
       "      <th>adresse</th>\n",
       "    </tr>\n",
       "  </thead>\n",
       "  <tbody>\n",
       "    <tr>\n",
       "      <th>4</th>\n",
       "      <td>Take Away Passage Bahnhofstrasse Zürich Shop-Ville Zürich Hauptbahnhof</td>\n",
       "    </tr>\n",
       "  </tbody>\n",
       "</table>\n",
       "</div>"
      ],
      "text/plain": [
       "                                                                  adresse\n",
       "4  Take Away Passage Bahnhofstrasse Zürich Shop-Ville Zürich Hauptbahnhof"
      ]
     },
     "execution_count": 12,
     "metadata": {},
     "output_type": "execute_result"
    }
   ],
   "source": [
    "# Verify it worked\n",
    "mdf[['adresse']].iloc[[3]]"
   ]
  },
  {
   "cell_type": "code",
   "execution_count": 13,
   "id": "a4ecff88",
   "metadata": {},
   "outputs": [
    {
     "data": {
      "text/html": [
       "<div>\n",
       "<style scoped>\n",
       "    .dataframe tbody tr th:only-of-type {\n",
       "        vertical-align: middle;\n",
       "    }\n",
       "\n",
       "    .dataframe tbody tr th {\n",
       "        vertical-align: top;\n",
       "    }\n",
       "\n",
       "    .dataframe thead th {\n",
       "        text-align: right;\n",
       "    }\n",
       "</style>\n",
       "<table border=\"1\" class=\"dataframe\">\n",
       "  <thead>\n",
       "    <tr style=\"text-align: right;\">\n",
       "      <th></th>\n",
       "      <th>plz</th>\n",
       "      <th>restaurant</th>\n",
       "      <th>adresse</th>\n",
       "      <th>web</th>\n",
       "      <th>kontakt</th>\n",
       "      <th>beschreibung</th>\n",
       "    </tr>\n",
       "  </thead>\n",
       "  <tbody>\n",
       "    <tr>\n",
       "      <th>1</th>\n",
       "      <td>8001</td>\n",
       "      <td>Restaurant Au Gratin</td>\n",
       "      <td>Bahnhofplatz 2\\n8001 Zürich</td>\n",
       "      <td>www.augratin.ch</td>\n",
       "      <td>044 221 38 00 \\ninfo@newszh.ch</td>\n",
       "      <td>Unsere glutenfreien Gerichte sind auf der Speisekarte\\ngekennzeichnet. Sie brauchen keine Spezialkarte zu\\nverlangen. Auf unserer Homepage www.augratin.ch können\\nSie die Gerichte anschauen. Dabei sehen Sie, dass wir eine\\ngrosse Auswahl an glutenfreien Gerichten anbieten.</td>\n",
       "    </tr>\n",
       "  </tbody>\n",
       "</table>\n",
       "</div>"
      ],
      "text/plain": [
       "    plz            restaurant                      adresse              web  \\\n",
       "1  8001  Restaurant Au Gratin  Bahnhofplatz 2\\n8001 Zürich  www.augratin.ch   \n",
       "\n",
       "                          kontakt  \\\n",
       "1  044 221 38 00 \\ninfo@newszh.ch   \n",
       "\n",
       "                                                                                                                                                                                                                                                                        beschreibung  \n",
       "1  Unsere glutenfreien Gerichte sind auf der Speisekarte\\ngekennzeichnet. Sie brauchen keine Spezialkarte zu\\nverlangen. Auf unserer Homepage www.augratin.ch können\\nSie die Gerichte anschauen. Dabei sehen Sie, dass wir eine\\ngrosse Auswahl an glutenfreien Gerichten anbieten.  "
      ]
     },
     "execution_count": 13,
     "metadata": {},
     "output_type": "execute_result"
    }
   ],
   "source": [
    "mdf.head(1)"
   ]
  },
  {
   "cell_type": "code",
   "execution_count": 14,
   "id": "34442a87",
   "metadata": {},
   "outputs": [
    {
     "data": {
      "text/plain": [
       "Index(['plz', 'restaurant', 'adresse', 'web', 'kontakt', 'beschreibung'], dtype='object')"
      ]
     },
     "execution_count": 14,
     "metadata": {},
     "output_type": "execute_result"
    }
   ],
   "source": [
    "mdf.columns"
   ]
  },
  {
   "cell_type": "code",
   "execution_count": 15,
   "id": "10ff1aa3",
   "metadata": {},
   "outputs": [],
   "source": [
    "# Replace all new line breaks (\\n) with a space\n",
    "mdf = mdf.replace(r'\\n',' ', regex=True)"
   ]
  },
  {
   "cell_type": "code",
   "execution_count": 16,
   "id": "290ab41d",
   "metadata": {},
   "outputs": [
    {
     "data": {
      "text/html": [
       "<div>\n",
       "<style scoped>\n",
       "    .dataframe tbody tr th:only-of-type {\n",
       "        vertical-align: middle;\n",
       "    }\n",
       "\n",
       "    .dataframe tbody tr th {\n",
       "        vertical-align: top;\n",
       "    }\n",
       "\n",
       "    .dataframe thead th {\n",
       "        text-align: right;\n",
       "    }\n",
       "</style>\n",
       "<table border=\"1\" class=\"dataframe\">\n",
       "  <thead>\n",
       "    <tr style=\"text-align: right;\">\n",
       "      <th></th>\n",
       "      <th>plz</th>\n",
       "      <th>restaurant</th>\n",
       "      <th>adresse</th>\n",
       "      <th>web</th>\n",
       "      <th>kontakt</th>\n",
       "      <th>beschreibung</th>\n",
       "    </tr>\n",
       "  </thead>\n",
       "  <tbody>\n",
       "    <tr>\n",
       "      <th>1</th>\n",
       "      <td>8001</td>\n",
       "      <td>Restaurant Au Gratin</td>\n",
       "      <td>Bahnhofplatz 2 8001 Zürich</td>\n",
       "      <td>www.augratin.ch</td>\n",
       "      <td>044 221 38 00  info@newszh.ch</td>\n",
       "      <td>Unsere glutenfreien Gerichte sind auf der Speisekarte gekennzeichnet. Sie brauchen keine Spezialkarte zu verlangen. Auf unserer Homepage www.augratin.ch können Sie die Gerichte anschauen. Dabei sehen Sie, dass wir eine grosse Auswahl an glutenfreien Gerichten anbieten.</td>\n",
       "    </tr>\n",
       "  </tbody>\n",
       "</table>\n",
       "</div>"
      ],
      "text/plain": [
       "    plz            restaurant                     adresse              web  \\\n",
       "1  8001  Restaurant Au Gratin  Bahnhofplatz 2 8001 Zürich  www.augratin.ch   \n",
       "\n",
       "                         kontakt  \\\n",
       "1  044 221 38 00  info@newszh.ch   \n",
       "\n",
       "                                                                                                                                                                                                                                                                    beschreibung  \n",
       "1  Unsere glutenfreien Gerichte sind auf der Speisekarte gekennzeichnet. Sie brauchen keine Spezialkarte zu verlangen. Auf unserer Homepage www.augratin.ch können Sie die Gerichte anschauen. Dabei sehen Sie, dass wir eine grosse Auswahl an glutenfreien Gerichten anbieten.  "
      ]
     },
     "execution_count": 16,
     "metadata": {},
     "output_type": "execute_result"
    }
   ],
   "source": [
    "mdf.head(1)"
   ]
  },
  {
   "cell_type": "code",
   "execution_count": 18,
   "id": "d2687278",
   "metadata": {},
   "outputs": [],
   "source": [
    "# Replace all Zürich with a space\n",
    "mdf['adresse'] = mdf['adresse'].replace(r'Zürich',' ', regex=True)"
   ]
  },
  {
   "cell_type": "code",
   "execution_count": 19,
   "id": "db51b3f4",
   "metadata": {},
   "outputs": [
    {
     "data": {
      "text/html": [
       "<div>\n",
       "<style scoped>\n",
       "    .dataframe tbody tr th:only-of-type {\n",
       "        vertical-align: middle;\n",
       "    }\n",
       "\n",
       "    .dataframe tbody tr th {\n",
       "        vertical-align: top;\n",
       "    }\n",
       "\n",
       "    .dataframe thead th {\n",
       "        text-align: right;\n",
       "    }\n",
       "</style>\n",
       "<table border=\"1\" class=\"dataframe\">\n",
       "  <thead>\n",
       "    <tr style=\"text-align: right;\">\n",
       "      <th></th>\n",
       "      <th>plz</th>\n",
       "      <th>restaurant</th>\n",
       "      <th>adresse</th>\n",
       "      <th>web</th>\n",
       "      <th>kontakt</th>\n",
       "      <th>beschreibung</th>\n",
       "    </tr>\n",
       "  </thead>\n",
       "  <tbody>\n",
       "    <tr>\n",
       "      <th>1</th>\n",
       "      <td>8001</td>\n",
       "      <td>Restaurant Au Gratin</td>\n",
       "      <td>Bahnhofplatz 2 8001</td>\n",
       "      <td>www.augratin.ch</td>\n",
       "      <td>044 221 38 00  info@newszh.ch</td>\n",
       "      <td>Unsere glutenfreien Gerichte sind auf der Speisekarte gekennzeichnet. Sie brauchen keine Spezialkarte zu verlangen. Auf unserer Homepage www.augratin.ch können Sie die Gerichte anschauen. Dabei sehen Sie, dass wir eine grosse Auswahl an glutenfreien Gerichten anbieten.</td>\n",
       "    </tr>\n",
       "  </tbody>\n",
       "</table>\n",
       "</div>"
      ],
      "text/plain": [
       "    plz            restaurant                adresse              web  \\\n",
       "1  8001  Restaurant Au Gratin  Bahnhofplatz 2 8001    www.augratin.ch   \n",
       "\n",
       "                         kontakt  \\\n",
       "1  044 221 38 00  info@newszh.ch   \n",
       "\n",
       "                                                                                                                                                                                                                                                                    beschreibung  \n",
       "1  Unsere glutenfreien Gerichte sind auf der Speisekarte gekennzeichnet. Sie brauchen keine Spezialkarte zu verlangen. Auf unserer Homepage www.augratin.ch können Sie die Gerichte anschauen. Dabei sehen Sie, dass wir eine grosse Auswahl an glutenfreien Gerichten anbieten.  "
      ]
     },
     "execution_count": 19,
     "metadata": {},
     "output_type": "execute_result"
    }
   ],
   "source": [
    "mdf.head(1)"
   ]
  },
  {
   "cell_type": "code",
   "execution_count": 20,
   "id": "af3313de",
   "metadata": {},
   "outputs": [],
   "source": [
    "# Replace 4 digits in the address with a blank\n",
    "mdf['adresse'] = mdf.adresse.replace({'\\d{4}':''}, regex=True)"
   ]
  },
  {
   "cell_type": "code",
   "execution_count": 21,
   "id": "13582c40",
   "metadata": {},
   "outputs": [
    {
     "data": {
      "text/html": [
       "<div>\n",
       "<style scoped>\n",
       "    .dataframe tbody tr th:only-of-type {\n",
       "        vertical-align: middle;\n",
       "    }\n",
       "\n",
       "    .dataframe tbody tr th {\n",
       "        vertical-align: top;\n",
       "    }\n",
       "\n",
       "    .dataframe thead th {\n",
       "        text-align: right;\n",
       "    }\n",
       "</style>\n",
       "<table border=\"1\" class=\"dataframe\">\n",
       "  <thead>\n",
       "    <tr style=\"text-align: right;\">\n",
       "      <th></th>\n",
       "      <th>plz</th>\n",
       "      <th>restaurant</th>\n",
       "      <th>adresse</th>\n",
       "      <th>web</th>\n",
       "      <th>kontakt</th>\n",
       "      <th>beschreibung</th>\n",
       "    </tr>\n",
       "  </thead>\n",
       "  <tbody>\n",
       "    <tr>\n",
       "      <th>3</th>\n",
       "      <td>8001</td>\n",
       "      <td>Kunsthausrestaurant (Remimag AG)</td>\n",
       "      <td>Heimplatz 1</td>\n",
       "      <td>www.kunsthausrestaurant.ch</td>\n",
       "      <td>044 251 53 53 kunsthausrestaurant@ remimag.ch</td>\n",
       "      <td>Genauso kunterbunt wie die Kunst im nahegelegenen Kunsthaus, zeigt sich auch die Gästeschar im Restaurant und das Speiseangebot der Küche. Geprägt wird das alles von einer gelungenen Symbiose zwischen traditionellen und mediterranen Einflüssen. Das Speiseangebot umfasst mittags und abends während den Servicezeiten immer glutenfreie Produkte, unabhängig ob Suppe, Vorspeise oder Hauptgang. Die glutenfreie Pasta kann ganztags bestellt werden und ist über den hauseigenen Mercato auch für daheim erhältlich.</td>\n",
       "    </tr>\n",
       "    <tr>\n",
       "      <th>11</th>\n",
       "      <td>8032</td>\n",
       "      <td>Design Hotel Plattenhof  &amp; Restaurant Sento</td>\n",
       "      <td>bergstrasse 19</td>\n",
       "      <td>www.sento.ch</td>\n",
       "      <td>044 251 19 10 restaurant@sento.ch</td>\n",
       "      <td>Das Angebot umfasst verschiedene glutenfreie Fisch- und Fleischgerichte, Salate (z.B. Pouletsalat), glutenfreie Teigwaren und glutenfreies Brot. Das Personal ist bestens informiert. Bitte die Details jeweils bei der Bestellung besprechen.</td>\n",
       "    </tr>\n",
       "    <tr>\n",
       "      <th>13</th>\n",
       "      <td>8045</td>\n",
       "      <td>Hitzberger Fastfood  Zürich Sihlcity</td>\n",
       "      <td>Sihlcity Mall Mitte (Ebene 0)</td>\n",
       "      <td>www.hitzberger.ch</td>\n",
       "      <td>044 201 34 00</td>\n",
       "      <td>Das Schnellverpflegungskonzept Hitzberger – Fastfood natürlich bietet an folgenden Standorten ein Sortiment an glutenfreien Salaten, Curries, Suppen, Smoothies und Säften sowie Desserts (die glutenfreien Angebote sind entsprechend gekennzeichnet).</td>\n",
       "    </tr>\n",
       "    <tr>\n",
       "      <th>10</th>\n",
       "      <td>8006</td>\n",
       "      <td>Restaurant Linde Oberstrass (Gamag Management AG)</td>\n",
       "      <td>Universitätsstrasse 91</td>\n",
       "      <td>www.linde-oberstrass.ch</td>\n",
       "      <td>044 362 21 09 linde@remimag.ch</td>\n",
       "      <td>Kulinarisch bietet die Linde alles, was zum hauseigenen Bier passt. Von Bagels und Hefeteigfladen über bodenständige Hausmannskost bis hin zu leichten Salatkreationen. An lauen Sommerabenden lädt der Biergarten zum Verweilen ein. Das Speiseangebot umfasst mittags und abends während den Servicezeiten immer glutenfreie Produkte, unabhängig ob Suppe, Vorspeise oder Hauptgang.</td>\n",
       "    </tr>\n",
       "    <tr>\n",
       "      <th>9</th>\n",
       "      <td>8006</td>\n",
       "      <td>Les Gourmandises de Miyuko</td>\n",
       "      <td>Beckenhofstrasse 24</td>\n",
       "      <td>www.miyuko.ch</td>\n",
       "      <td>044 350 21 43 info@miyuko.ch</td>\n",
       "      <td>Unsere bekannten Torten, Kuchen, Scones aber auch Speisen für den kleinen Hunger sind in der Menükarte gekennzeichnet und aus eigener Produktion. Eine Online Reservation fürs Miyuko Gnüsser Zmorge, Tea Time oder den Prinzessinen Kafi Klatsch wird empfohlen.</td>\n",
       "    </tr>\n",
       "  </tbody>\n",
       "</table>\n",
       "</div>"
      ],
      "text/plain": [
       "     plz                                         restaurant  \\\n",
       "3   8001                   Kunsthausrestaurant (Remimag AG)   \n",
       "11  8032        Design Hotel Plattenhof  & Restaurant Sento   \n",
       "13  8045               Hitzberger Fastfood  Zürich Sihlcity   \n",
       "10  8006  Restaurant Linde Oberstrass (Gamag Management AG)   \n",
       "9   8006                         Les Gourmandises de Miyuko   \n",
       "\n",
       "                             adresse                         web  \\\n",
       "3                     Heimplatz 1     www.kunsthausrestaurant.ch   \n",
       "11                 bergstrasse 19                   www.sento.ch   \n",
       "13  Sihlcity Mall Mitte (Ebene 0)              www.hitzberger.ch   \n",
       "10         Universitätsstrasse 91        www.linde-oberstrass.ch   \n",
       "9             Beckenhofstrasse 24                  www.miyuko.ch   \n",
       "\n",
       "                                          kontakt  \\\n",
       "3   044 251 53 53 kunsthausrestaurant@ remimag.ch   \n",
       "11              044 251 19 10 restaurant@sento.ch   \n",
       "13                                  044 201 34 00   \n",
       "10                 044 362 21 09 linde@remimag.ch   \n",
       "9                    044 350 21 43 info@miyuko.ch   \n",
       "\n",
       "                                                                                                                                                                                                                                                                                                                                                                                                                                                                                                                   beschreibung  \n",
       "3   Genauso kunterbunt wie die Kunst im nahegelegenen Kunsthaus, zeigt sich auch die Gästeschar im Restaurant und das Speiseangebot der Küche. Geprägt wird das alles von einer gelungenen Symbiose zwischen traditionellen und mediterranen Einflüssen. Das Speiseangebot umfasst mittags und abends während den Servicezeiten immer glutenfreie Produkte, unabhängig ob Suppe, Vorspeise oder Hauptgang. Die glutenfreie Pasta kann ganztags bestellt werden und ist über den hauseigenen Mercato auch für daheim erhältlich.  \n",
       "11                                                                                                                                                                                                                                                                               Das Angebot umfasst verschiedene glutenfreie Fisch- und Fleischgerichte, Salate (z.B. Pouletsalat), glutenfreie Teigwaren und glutenfreies Brot. Das Personal ist bestens informiert. Bitte die Details jeweils bei der Bestellung besprechen.  \n",
       "13                                                                                                                                                                                                                                                                      Das Schnellverpflegungskonzept Hitzberger – Fastfood natürlich bietet an folgenden Standorten ein Sortiment an glutenfreien Salaten, Curries, Suppen, Smoothies und Säften sowie Desserts (die glutenfreien Angebote sind entsprechend gekennzeichnet).  \n",
       "10                                                                                                                                      Kulinarisch bietet die Linde alles, was zum hauseigenen Bier passt. Von Bagels und Hefeteigfladen über bodenständige Hausmannskost bis hin zu leichten Salatkreationen. An lauen Sommerabenden lädt der Biergarten zum Verweilen ein. Das Speiseangebot umfasst mittags und abends während den Servicezeiten immer glutenfreie Produkte, unabhängig ob Suppe, Vorspeise oder Hauptgang.  \n",
       "9                                                                                                                                                                                                                                                            Unsere bekannten Torten, Kuchen, Scones aber auch Speisen für den kleinen Hunger sind in der Menükarte gekennzeichnet und aus eigener Produktion. Eine Online Reservation fürs Miyuko Gnüsser Zmorge, Tea Time oder den Prinzessinen Kafi Klatsch wird empfohlen.   "
      ]
     },
     "execution_count": 21,
     "metadata": {},
     "output_type": "execute_result"
    }
   ],
   "source": [
    "mdf.sample(5)"
   ]
  },
  {
   "cell_type": "code",
   "execution_count": 22,
   "id": "f921415c",
   "metadata": {},
   "outputs": [
    {
     "name": "stdout",
     "output_type": "stream",
     "text": [
      "<class 'pandas.core.frame.DataFrame'>\n",
      "Int64Index: 15 entries, 1 to 15\n",
      "Data columns (total 6 columns):\n",
      " #   Column        Non-Null Count  Dtype \n",
      "---  ------        --------------  ----- \n",
      " 0   plz           15 non-null     object\n",
      " 1   restaurant    15 non-null     object\n",
      " 2   adresse       15 non-null     object\n",
      " 3   web           15 non-null     object\n",
      " 4   kontakt       15 non-null     object\n",
      " 5   beschreibung  15 non-null     object\n",
      "dtypes: object(6)\n",
      "memory usage: 840.0+ bytes\n"
     ]
    }
   ],
   "source": [
    "mdf.info()"
   ]
  },
  {
   "cell_type": "markdown",
   "id": "62db285c",
   "metadata": {},
   "source": [
    "### Tidy up 'adresse' column to contain only street and number"
   ]
  },
  {
   "cell_type": "code",
   "execution_count": 23,
   "id": "e471877d",
   "metadata": {},
   "outputs": [
    {
     "data": {
      "text/html": [
       "<div>\n",
       "<style scoped>\n",
       "    .dataframe tbody tr th:only-of-type {\n",
       "        vertical-align: middle;\n",
       "    }\n",
       "\n",
       "    .dataframe tbody tr th {\n",
       "        vertical-align: top;\n",
       "    }\n",
       "\n",
       "    .dataframe thead th {\n",
       "        text-align: right;\n",
       "    }\n",
       "</style>\n",
       "<table border=\"1\" class=\"dataframe\">\n",
       "  <thead>\n",
       "    <tr style=\"text-align: right;\">\n",
       "      <th></th>\n",
       "      <th>plz</th>\n",
       "      <th>restaurant</th>\n",
       "      <th>adresse</th>\n",
       "      <th>web</th>\n",
       "      <th>kontakt</th>\n",
       "      <th>beschreibung</th>\n",
       "    </tr>\n",
       "  </thead>\n",
       "  <tbody>\n",
       "    <tr>\n",
       "      <th>1</th>\n",
       "      <td>8001</td>\n",
       "      <td>Restaurant Au Gratin</td>\n",
       "      <td>Bahnhofplatz 2</td>\n",
       "      <td>www.augratin.ch</td>\n",
       "      <td>044 221 38 00  info@newszh.ch</td>\n",
       "      <td>Unsere glutenfreien Gerichte sind auf der Speisekarte gekennzeichnet. Sie brauchen keine Spezialkarte zu verlangen. Auf unserer Homepage www.augratin.ch können Sie die Gerichte anschauen. Dabei sehen Sie, dass wir eine grosse Auswahl an glutenfreien Gerichten anbieten.</td>\n",
       "    </tr>\n",
       "    <tr>\n",
       "      <th>3</th>\n",
       "      <td>8001</td>\n",
       "      <td>Kunsthausrestaurant (Remimag AG)</td>\n",
       "      <td>Heimplatz 1</td>\n",
       "      <td>www.kunsthausrestaurant.ch</td>\n",
       "      <td>044 251 53 53 kunsthausrestaurant@ remimag.ch</td>\n",
       "      <td>Genauso kunterbunt wie die Kunst im nahegelegenen Kunsthaus, zeigt sich auch die Gästeschar im Restaurant und das Speiseangebot der Küche. Geprägt wird das alles von einer gelungenen Symbiose zwischen traditionellen und mediterranen Einflüssen. Das Speiseangebot umfasst mittags und abends während den Servicezeiten immer glutenfreie Produkte, unabhängig ob Suppe, Vorspeise oder Hauptgang. Die glutenfreie Pasta kann ganztags bestellt werden und ist über den hauseigenen Mercato auch für daheim erhältlich.</td>\n",
       "    </tr>\n",
       "    <tr>\n",
       "      <th>8</th>\n",
       "      <td>8005</td>\n",
       "      <td>Menu &amp; More AG</td>\n",
       "      <td>Sihlquai 340</td>\n",
       "      <td>www.menuandmore.ch</td>\n",
       "      <td>044 448 26 11 info@menuandmore.ch</td>\n",
       "      <td>Wir bieten Horten und Krippen verschiedene glutenfreie Menükomponenten, die als glutenfrei deklariert sind. Zusätzlich bieten wir als Zusatzsortiment 23 laktose- und glutenfreie Produkte als Einzelportionen verpackt, an (Eiweisskomponenten inkl. Vegi, Saucen, Stärkebeilagen). Bestellung der Mahlzeiten bis 4 Arbeitstage vor dem Menüdatum empfehlenswert.</td>\n",
       "    </tr>\n",
       "    <tr>\n",
       "      <th>13</th>\n",
       "      <td>8045</td>\n",
       "      <td>Hitzberger Fastfood  Zürich Sihlcity</td>\n",
       "      <td>Sihlcity Mall Mitte (Ebene 0)</td>\n",
       "      <td>www.hitzberger.ch</td>\n",
       "      <td>044 201 34 00</td>\n",
       "      <td>Das Schnellverpflegungskonzept Hitzberger – Fastfood natürlich bietet an folgenden Standorten ein Sortiment an glutenfreien Salaten, Curries, Suppen, Smoothies und Säften sowie Desserts (die glutenfreien Angebote sind entsprechend gekennzeichnet).</td>\n",
       "    </tr>\n",
       "  </tbody>\n",
       "</table>\n",
       "</div>"
      ],
      "text/plain": [
       "     plz                            restaurant  \\\n",
       "1   8001                  Restaurant Au Gratin   \n",
       "3   8001      Kunsthausrestaurant (Remimag AG)   \n",
       "8   8005                        Menu & More AG   \n",
       "13  8045  Hitzberger Fastfood  Zürich Sihlcity   \n",
       "\n",
       "                             adresse                         web  \\\n",
       "1                  Bahnhofplatz 2                www.augratin.ch   \n",
       "3                     Heimplatz 1     www.kunsthausrestaurant.ch   \n",
       "8                    Sihlquai 340             www.menuandmore.ch   \n",
       "13  Sihlcity Mall Mitte (Ebene 0)              www.hitzberger.ch   \n",
       "\n",
       "                                          kontakt  \\\n",
       "1                   044 221 38 00  info@newszh.ch   \n",
       "3   044 251 53 53 kunsthausrestaurant@ remimag.ch   \n",
       "8               044 448 26 11 info@menuandmore.ch   \n",
       "13                                  044 201 34 00   \n",
       "\n",
       "                                                                                                                                                                                                                                                                                                                                                                                                                                                                                                                   beschreibung  \n",
       "1                                                                                                                                                                                                                                                 Unsere glutenfreien Gerichte sind auf der Speisekarte gekennzeichnet. Sie brauchen keine Spezialkarte zu verlangen. Auf unserer Homepage www.augratin.ch können Sie die Gerichte anschauen. Dabei sehen Sie, dass wir eine grosse Auswahl an glutenfreien Gerichten anbieten.  \n",
       "3   Genauso kunterbunt wie die Kunst im nahegelegenen Kunsthaus, zeigt sich auch die Gästeschar im Restaurant und das Speiseangebot der Küche. Geprägt wird das alles von einer gelungenen Symbiose zwischen traditionellen und mediterranen Einflüssen. Das Speiseangebot umfasst mittags und abends während den Servicezeiten immer glutenfreie Produkte, unabhängig ob Suppe, Vorspeise oder Hauptgang. Die glutenfreie Pasta kann ganztags bestellt werden und ist über den hauseigenen Mercato auch für daheim erhältlich.  \n",
       "8                                                                                                                                                            Wir bieten Horten und Krippen verschiedene glutenfreie Menükomponenten, die als glutenfrei deklariert sind. Zusätzlich bieten wir als Zusatzsortiment 23 laktose- und glutenfreie Produkte als Einzelportionen verpackt, an (Eiweisskomponenten inkl. Vegi, Saucen, Stärkebeilagen). Bestellung der Mahlzeiten bis 4 Arbeitstage vor dem Menüdatum empfehlenswert.  \n",
       "13                                                                                                                                                                                                                                                                      Das Schnellverpflegungskonzept Hitzberger – Fastfood natürlich bietet an folgenden Standorten ein Sortiment an glutenfreien Salaten, Curries, Suppen, Smoothies und Säften sowie Desserts (die glutenfreien Angebote sind entsprechend gekennzeichnet).  "
      ]
     },
     "execution_count": 23,
     "metadata": {},
     "output_type": "execute_result"
    }
   ],
   "source": [
    "# Find address columns not containing 'strasse'\n",
    "mdf_ns = mdf[~mdf['adresse'].str.contains('strasse')]\n",
    "mdf_ns"
   ]
  },
  {
   "cell_type": "code",
   "execution_count": 24,
   "id": "093022e6",
   "metadata": {},
   "outputs": [],
   "source": [
    "# Replace current text in row 13 with the address of the mall\n",
    "mdf.loc[13,'adresse'] = 'Kalandarplatz 1'"
   ]
  },
  {
   "cell_type": "code",
   "execution_count": 25,
   "id": "00f9be6e",
   "metadata": {},
   "outputs": [
    {
     "data": {
      "text/plain": [
       "'Kalandarplatz 1'"
      ]
     },
     "execution_count": 25,
     "metadata": {},
     "output_type": "execute_result"
    }
   ],
   "source": [
    "# Verify change\n",
    "mdf.loc[13,'adresse']"
   ]
  },
  {
   "cell_type": "code",
   "execution_count": 26,
   "id": "b946041e",
   "metadata": {},
   "outputs": [
    {
     "data": {
      "text/html": [
       "<div>\n",
       "<style scoped>\n",
       "    .dataframe tbody tr th:only-of-type {\n",
       "        vertical-align: middle;\n",
       "    }\n",
       "\n",
       "    .dataframe tbody tr th {\n",
       "        vertical-align: top;\n",
       "    }\n",
       "\n",
       "    .dataframe thead th {\n",
       "        text-align: right;\n",
       "    }\n",
       "</style>\n",
       "<table border=\"1\" class=\"dataframe\">\n",
       "  <thead>\n",
       "    <tr style=\"text-align: right;\">\n",
       "      <th></th>\n",
       "      <th>plz</th>\n",
       "      <th>restaurant</th>\n",
       "      <th>adresse</th>\n",
       "      <th>web</th>\n",
       "      <th>kontakt</th>\n",
       "      <th>beschreibung</th>\n",
       "    </tr>\n",
       "  </thead>\n",
       "  <tbody>\n",
       "    <tr>\n",
       "      <th>4</th>\n",
       "      <td>8001</td>\n",
       "      <td>Hitzberger Fastfood natürlich Hauptbahnhof Zürich</td>\n",
       "      <td>Take Away Passage Bahnhofstrasse   Shop-Ville   Hauptbahnhof</td>\n",
       "      <td>www.hitzberger.ch</td>\n",
       "      <td>044 212 37 20</td>\n",
       "      <td>Das Schnellverpflegungskonzept Hitzberger – Fastfood natürlich bietet an folgenden Standorten ein Sortiment an glutenfreien Salaten, Curries, Suppen, Smoothies und Säften sowie Desserts (die glutenfreien Angebote sind entsprechend gekennzeichnet).</td>\n",
       "    </tr>\n",
       "  </tbody>\n",
       "</table>\n",
       "</div>"
      ],
      "text/plain": [
       "    plz                                         restaurant  \\\n",
       "4  8001  Hitzberger Fastfood natürlich Hauptbahnhof Zürich   \n",
       "\n",
       "                                                        adresse  \\\n",
       "4  Take Away Passage Bahnhofstrasse   Shop-Ville   Hauptbahnhof   \n",
       "\n",
       "                 web           kontakt  \\\n",
       "4  www.hitzberger.ch  044 212 37 20      \n",
       "\n",
       "                                                                                                                                                                                                                                              beschreibung  \n",
       "4  Das Schnellverpflegungskonzept Hitzberger – Fastfood natürlich bietet an folgenden Standorten ein Sortiment an glutenfreien Salaten, Curries, Suppen, Smoothies und Säften sowie Desserts (die glutenfreien Angebote sind entsprechend gekennzeichnet).  "
      ]
     },
     "execution_count": 26,
     "metadata": {},
     "output_type": "execute_result"
    }
   ],
   "source": [
    "# Using regex to find adresse inputs without street numbers to avoid missing inputs that need correcting.\n",
    "mdf[~mdf['adresse'].str.contains('\\\\d', regex=True)]"
   ]
  },
  {
   "cell_type": "code",
   "execution_count": 27,
   "id": "5f6f5f09",
   "metadata": {},
   "outputs": [],
   "source": [
    "# Replace current text in row 4 with the address of the mall\n",
    "mdf.loc[4,'adresse'] = 'Museumstrasse 1'"
   ]
  },
  {
   "cell_type": "code",
   "execution_count": 28,
   "id": "38b2a2e8",
   "metadata": {},
   "outputs": [
    {
     "data": {
      "text/plain": [
       "'Museumstrasse 1'"
      ]
     },
     "execution_count": 28,
     "metadata": {},
     "output_type": "execute_result"
    }
   ],
   "source": [
    "mdf.loc[4, 'adresse']"
   ]
  },
  {
   "cell_type": "code",
   "execution_count": 29,
   "id": "f071cbc2",
   "metadata": {},
   "outputs": [
    {
     "data": {
      "text/plain": [
       "1             Bahnhofplatz 2   \n",
       "2             Sihlstrasse 28   \n",
       "3                Heimplatz 1   \n",
       "4               Museumstrasse 1\n",
       "5            Langstrasse 231   \n",
       "6        Giessereistrasse 18   \n",
       "7        Heinrichstrasse 213   \n",
       "8               Sihlquai 340   \n",
       "9        Beckenhofstrasse 24   \n",
       "10    Universitätsstrasse 91   \n",
       "11            bergstrasse 19   \n",
       "12      Uetlibergstrasse 341   \n",
       "13              Kalandarplatz 1\n",
       "14         Dörflistrasse 117   \n",
       "15      Hofwiesenstrasse 188   \n",
       "Name: adresse, dtype: object"
      ]
     },
     "execution_count": 29,
     "metadata": {},
     "output_type": "execute_result"
    }
   ],
   "source": [
    "mdf.adresse"
   ]
  },
  {
   "cell_type": "code",
   "execution_count": 30,
   "id": "a20e3a35",
   "metadata": {},
   "outputs": [
    {
     "data": {
      "text/plain": [
       "' bergstrasse 19   '"
      ]
     },
     "execution_count": 30,
     "metadata": {},
     "output_type": "execute_result"
    }
   ],
   "source": [
    "mdf.loc[11,'adresse']"
   ]
  },
  {
   "cell_type": "code",
   "execution_count": 35,
   "id": "2752124e",
   "metadata": {},
   "outputs": [
    {
     "data": {
      "text/plain": [
       "'bergstrasse 19'"
      ]
     },
     "execution_count": 35,
     "metadata": {},
     "output_type": "execute_result"
    }
   ],
   "source": [
    "' There are whitespaces at the beginning and at the end of the column, that need removing'\n",
    "# Remove leading whitespaces\n",
    "mdf['adresse'] = mdf['adresse'].str.lstrip()\n",
    "mdf.loc[11,'adresse']"
   ]
  },
  {
   "cell_type": "code",
   "execution_count": 32,
   "id": "12d7144a",
   "metadata": {},
   "outputs": [],
   "source": [
    "# Remove trailing whitespaces\n",
    "mdf['adresse'] = mdf['adresse'].str.rstrip()"
   ]
  },
  {
   "cell_type": "code",
   "execution_count": 33,
   "id": "4d8ddaea",
   "metadata": {},
   "outputs": [
    {
     "data": {
      "text/plain": [
       "'bergstrasse 19'"
      ]
     },
     "execution_count": 33,
     "metadata": {},
     "output_type": "execute_result"
    }
   ],
   "source": [
    "# Verifying if whitespace was removed\n",
    "mdf.loc[11,'adresse']"
   ]
  },
  {
   "cell_type": "code",
   "execution_count": 34,
   "id": "f13116cf",
   "metadata": {},
   "outputs": [
    {
     "data": {
      "text/plain": [
       "'bergstrasse 19'"
      ]
     },
     "execution_count": 34,
     "metadata": {},
     "output_type": "execute_result"
    }
   ],
   "source": [
    "# Saving changes to series\n",
    "mdf.loc[11, 'adresse'] = mdf.loc[11, 'adresse'].lstrip()\n",
    "mdf.loc[11,'adresse']"
   ]
  },
  {
   "cell_type": "code",
   "execution_count": 39,
   "id": "c0400782",
   "metadata": {},
   "outputs": [
    {
     "data": {
      "text/plain": [
       "11          Bergstrasse 19\n",
       "12    Uetlibergstrasse 341\n",
       "13         Kalandarplatz 1\n",
       "14       Dörflistrasse 117\n",
       "15    Hofwiesenstrasse 188\n",
       "Name: adresse, dtype: object"
      ]
     },
     "execution_count": 39,
     "metadata": {},
     "output_type": "execute_result"
    }
   ],
   "source": [
    "# Tidying up all street names to start in capital letters\n",
    "mdf['adresse'] = mdf['adresse'].str.capitalize()\n",
    "mdf['adresse'].tail()"
   ]
  },
  {
   "cell_type": "code",
   "execution_count": null,
   "id": "f5f6432b",
   "metadata": {},
   "outputs": [],
   "source": []
  },
  {
   "cell_type": "code",
   "execution_count": null,
   "id": "af7e08c2",
   "metadata": {},
   "outputs": [],
   "source": []
  },
  {
   "cell_type": "code",
   "execution_count": null,
   "id": "ad353985",
   "metadata": {},
   "outputs": [],
   "source": []
  }
 ],
 "metadata": {
  "kernelspec": {
   "display_name": "Python 3 (ipykernel)",
   "language": "python",
   "name": "python3"
  },
  "language_info": {
   "codemirror_mode": {
    "name": "ipython",
    "version": 3
   },
   "file_extension": ".py",
   "mimetype": "text/x-python",
   "name": "python",
   "nbconvert_exporter": "python",
   "pygments_lexer": "ipython3",
   "version": "3.9.7"
  }
 },
 "nbformat": 4,
 "nbformat_minor": 5
}
